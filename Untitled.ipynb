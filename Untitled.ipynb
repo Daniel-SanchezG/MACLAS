{
 "cells": [
  {
   "cell_type": "code",
   "execution_count": 1,
   "id": "314eef89-a39c-4ed6-82d5-8a2ddc877004",
   "metadata": {},
   "outputs": [],
   "source": [
    "import pandas as pd\n",
    "import numpy as np"
   ]
  },
  {
   "cell_type": "code",
   "execution_count": 2,
   "id": "25a26468-d78e-468f-a02d-9294191f1645",
   "metadata": {},
   "outputs": [],
   "source": [
    "df1 = pd.read_excel('./DATA/MACLAS_DATASET.xlsx',sheet_name='training', engine='openpyxl')\n",
    "df2 = pd.read_excel('./DATA/MACLAS_DATASET.xlsx',sheet_name='raw_data', engine='openpyxl')\n",
    "df3 = pd.read_excel('./DATA/raw_xrd.xlsx', engine='openpyxl')"
   ]
  },
  {
   "cell_type": "code",
   "execution_count": 3,
   "id": "0e768552-dd25-4377-b526-2980fbaa5171",
   "metadata": {
    "tags": []
   },
   "outputs": [
    {
     "name": "stdout",
     "output_type": "stream",
     "text": [
      "<class 'pandas.core.frame.DataFrame'>\n",
      "Int64Index: 1262 entries, 0 to 1261\n",
      "Data columns (total 165 columns):\n",
      " #    Column    Non-Null Count  Dtype  \n",
      "---   ------    --------------  -----  \n",
      " 0    index     1262 non-null   int64  \n",
      " 1    Name      1262 non-null   object \n",
      " 2    Duration  1256 non-null   float64\n",
      " 3    Mg        882 non-null    float64\n",
      " 4    +/-       886 non-null    float64\n",
      " 5    Al        1251 non-null   float64\n",
      " 6    +/-.1     1259 non-null   float64\n",
      " 7    Si        1259 non-null   float64\n",
      " 8    +/-.2     1259 non-null   float64\n",
      " 9    P         1251 non-null   float64\n",
      " 10   +/-.3     1249 non-null   float64\n",
      " 11   S         1255 non-null   float64\n",
      " 12   +/-.4     1257 non-null   float64\n",
      " 13   Cl        1259 non-null   float64\n",
      " 14   +/-.5     1259 non-null   float64\n",
      " 15   Ar        11 non-null     float64\n",
      " 16   +/-.6     0 non-null      float64\n",
      " 17   K         523 non-null    float64\n",
      " 18   +/-.7     527 non-null    float64\n",
      " 19   Ca        1224 non-null   float64\n",
      " 20   +/-.8     1231 non-null   float64\n",
      " 21   Sc        11 non-null     float64\n",
      " 22   +/-.9     0 non-null      float64\n",
      " 23   Ti        1202 non-null   float64\n",
      " 24   +/-.10    1211 non-null   float64\n",
      " 25   V         607 non-null    float64\n",
      " 26   +/-.11    605 non-null    float64\n",
      " 27   Cr        1090 non-null   float64\n",
      " 28   +/-.12    1086 non-null   float64\n",
      " 29   Mn        197 non-null    float64\n",
      " 30   +/-.13    195 non-null    float64\n",
      " 31   Fe        1248 non-null   float64\n",
      " 32   +/-.14    1258 non-null   float64\n",
      " 33   Co        120 non-null    float64\n",
      " 34   +/-.15    110 non-null    float64\n",
      " 35   Ni        172 non-null    float64\n",
      " 36   +/-.16    171 non-null    float64\n",
      " 37   Cu        474 non-null    float64\n",
      " 38   +/-.17    482 non-null    float64\n",
      " 39   Zn        560 non-null    float64\n",
      " 40   +/-.18    559 non-null    float64\n",
      " 41   Ga        7 non-null      float64\n",
      " 42   +/-.19    0 non-null      float64\n",
      " 43   Ge        0 non-null      float64\n",
      " 44   +/-.20    0 non-null      float64\n",
      " 45   As        832 non-null    float64\n",
      " 46   +/-.21    840 non-null    float64\n",
      " 47   Se        204 non-null    float64\n",
      " 48   +/-.22    198 non-null    float64\n",
      " 49   Br        2 non-null      float64\n",
      " 50   +/-.23    0 non-null      float64\n",
      " 51   Kr        0 non-null      float64\n",
      " 52   +/-.24    0 non-null      float64\n",
      " 53   Rb        244 non-null    float64\n",
      " 54   +/-.25    245 non-null    float64\n",
      " 55   Sr        815 non-null    float64\n",
      " 56   +/-.26    822 non-null    float64\n",
      " 57   Y         8 non-null      float64\n",
      " 58   +/-.27    0 non-null      float64\n",
      " 59   Zr        924 non-null    float64\n",
      " 60   +/-.28    931 non-null    float64\n",
      " 61   Nb        7 non-null      float64\n",
      " 62   +/-.29    0 non-null      float64\n",
      " 63   Mo        575 non-null    float64\n",
      " 64   +/-.30    583 non-null    float64\n",
      " 65   Tc        8 non-null      float64\n",
      " 66   +/-.31    0 non-null      float64\n",
      " 67   Ru        0 non-null      float64\n",
      " 68   +/-.32    0 non-null      float64\n",
      " 69   Rh        0 non-null      float64\n",
      " 70   +/-.33    0 non-null      float64\n",
      " 71   Pd        0 non-null      float64\n",
      " 72   +/-.34    0 non-null      float64\n",
      " 73   Ag        241 non-null    float64\n",
      " 74   +/-.35    242 non-null    float64\n",
      " 75   Cd        87 non-null     float64\n",
      " 76   +/-.36    89 non-null     float64\n",
      " 77   In        3 non-null      float64\n",
      " 78   +/-.37    0 non-null      float64\n",
      " 79   Sn        483 non-null    float64\n",
      " 80   +/-.38    489 non-null    float64\n",
      " 81   Sb        245 non-null    float64\n",
      " 82   +/-.39    240 non-null    float64\n",
      " 83   Te        1 non-null      float64\n",
      " 84   +/-.40    0 non-null      float64\n",
      " 85   I         0 non-null      float64\n",
      " 86   +/-.41    0 non-null      float64\n",
      " 87   Xe        0 non-null      float64\n",
      " 88   +/-.42    0 non-null      float64\n",
      " 89   Cs        0 non-null      float64\n",
      " 90   +/-.43    0 non-null      float64\n",
      " 91   Ba        385 non-null    float64\n",
      " 92   +/-.44    391 non-null    float64\n",
      " 93   La        6 non-null      float64\n",
      " 94   +/-.45    0 non-null      float64\n",
      " 95   Ce        0 non-null      float64\n",
      " 96   +/-.46    0 non-null      float64\n",
      " 97   Pr        0 non-null      float64\n",
      " 98   +/-.47    0 non-null      float64\n",
      " 99   Nd        0 non-null      float64\n",
      " 100  +/-.48    0 non-null      float64\n",
      " 101  Pm        0 non-null      float64\n",
      " 102  +/-.49    0 non-null      float64\n",
      " 103  Sm        0 non-null      float64\n",
      " 104  +/-.50    0 non-null      float64\n",
      " 105  Eu        0 non-null      float64\n",
      " 106  +/-.51    0 non-null      float64\n",
      " 107  Gd        0 non-null      float64\n",
      " 108  +/-.52    0 non-null      float64\n",
      " 109  Tb        0 non-null      float64\n",
      " 110  +/-.53    0 non-null      float64\n",
      " 111  Dy        0 non-null      float64\n",
      " 112  +/-.54    0 non-null      float64\n",
      " 113  Ho        0 non-null      float64\n",
      " 114  +/-.55    0 non-null      float64\n",
      " 115  Er        0 non-null      float64\n",
      " 116  +/-.56    0 non-null      float64\n",
      " 117  Tm        0 non-null      float64\n",
      " 118  +/-.57    0 non-null      float64\n",
      " 119  Yb        0 non-null      float64\n",
      " 120  +/-.58    0 non-null      float64\n",
      " 121  Lu        0 non-null      float64\n",
      " 122  +/-.59    0 non-null      float64\n",
      " 123  Hf        0 non-null      float64\n",
      " 124  +/-.60    0 non-null      float64\n",
      " 125  Ta        614 non-null    float64\n",
      " 126  +/-.61    615 non-null    float64\n",
      " 127  W         44 non-null     float64\n",
      " 128  +/-.62    43 non-null     float64\n",
      " 129  Re        0 non-null      float64\n",
      " 130  +/-.63    0 non-null      float64\n",
      " 131  Os        0 non-null      float64\n",
      " 132  +/-.64    0 non-null      float64\n",
      " 133  Ir        0 non-null      float64\n",
      " 134  +/-.65    0 non-null      float64\n",
      " 135  Pt        0 non-null      float64\n",
      " 136  +/-.66    0 non-null      float64\n",
      " 137  Au        54 non-null     float64\n",
      " 138  +/-.67    54 non-null     float64\n",
      " 139  Hg        33 non-null     float64\n",
      " 140  +/-.68    33 non-null     float64\n",
      " 141  Tl        200 non-null    float64\n",
      " 142  +/-.69    201 non-null    float64\n",
      " 143  Pb        87 non-null     float64\n",
      " 144  +/-.70    86 non-null     float64\n",
      " 145  Bi        0 non-null      float64\n",
      " 146  +/-.71    0 non-null      float64\n",
      " 147  Po        0 non-null      float64\n",
      " 148  +/-.72    0 non-null      float64\n",
      " 149  At        0 non-null      float64\n",
      " 150  +/-.73    0 non-null      float64\n",
      " 151  Rn        0 non-null      float64\n",
      " 152  +/-.74    0 non-null      float64\n",
      " 153  Fr        0 non-null      float64\n",
      " 154  +/-.75    0 non-null      float64\n",
      " 155  Ra        0 non-null      float64\n",
      " 156  +/-.76    0 non-null      float64\n",
      " 157  Ac        0 non-null      float64\n",
      " 158  +/-.77    0 non-null      float64\n",
      " 159  Th        2 non-null      float64\n",
      " 160  +/-.78    2 non-null      float64\n",
      " 161  Pa        0 non-null      float64\n",
      " 162  +/-.79    0 non-null      float64\n",
      " 163  U         0 non-null      float64\n",
      " 164  +/-.80    0 non-null      float64\n",
      "dtypes: float64(163), int64(1), object(1)\n",
      "memory usage: 1.6+ MB\n"
     ]
    }
   ],
   "source": [
    "df2 = df2.drop_duplicates(subset='Name')\n",
    "df2.info(verbose=True, show_counts=True)"
   ]
  },
  {
   "cell_type": "code",
   "execution_count": 4,
   "id": "ef433d7c-ef71-4f86-ae17-6eaa569cc77c",
   "metadata": {
    "tags": []
   },
   "outputs": [
    {
     "data": {
      "text/plain": [
       "1262"
      ]
     },
     "execution_count": 4,
     "metadata": {},
     "output_type": "execute_result"
    }
   ],
   "source": [
    "df2.Name.nunique()"
   ]
  },
  {
   "cell_type": "code",
   "execution_count": 3,
   "id": "a94fb08e-955a-4454-9f3b-6d351d421a2f",
   "metadata": {
    "tags": []
   },
   "outputs": [
    {
     "data": {
      "text/plain": [
       "MP-865               1\n",
       "MP-751               1\n",
       "MP-1585              1\n",
       "MP-1584              1\n",
       "MP-1583              1\n",
       "                    ..\n",
       "GUARDA148            1\n",
       "GUARDA147            1\n",
       "GUARDA146            1\n",
       "GUARDA145            1\n",
       "Cueva del Vaquero    1\n",
       "Name: Name, Length: 1263, dtype: int64"
      ]
     },
     "execution_count": 3,
     "metadata": {},
     "output_type": "execute_result"
    }
   ],
   "source": [
    "#df3 = df3.drop_duplicates(subset='Name')\n",
    "df3.Name.value_counts()"
   ]
  },
  {
   "cell_type": "code",
   "execution_count": 5,
   "id": "db78cb26-69e5-4580-9bbc-157ee89af179",
   "metadata": {
    "tags": []
   },
   "outputs": [
    {
     "name": "stdout",
     "output_type": "stream",
     "text": [
      "El nombre único en df2 es: Casetón-03\n"
     ]
    }
   ],
   "source": [
    "\n",
    "\n",
    "# Supongamos que tienes los DataFrames df1 y df2\n",
    "\n",
    "# Crear un conjunto de nombres únicos en df1 y df2\n",
    "names_df2 = set(df2['Name'])\n",
    "names_df3 = set(df3['Name'])\n",
    "\n",
    "# Encontrar el nombre único en df2\n",
    "unique_name_in_df3 = names_df3 - names_df2\n",
    "\n",
    "# Convertir el conjunto resultante en una lista\n",
    "unique_name_list = list(unique_name_in_df3)\n",
    "\n",
    "# Si solo hay un nombre único en df2\n",
    "if len(unique_name_list) == 1:\n",
    "    unique_name = unique_name_list[0]\n",
    "    print(f\"El nombre único en df2 es: {unique_name}\")\n",
    "else:\n",
    "    print(\"Error: Se encontraron múltiples nombres únicos en df3.\")\n",
    "\n"
   ]
  },
  {
   "cell_type": "code",
   "execution_count": 4,
   "id": "f47b04eb-16c2-4f2c-90db-511768b7841b",
   "metadata": {
    "tags": []
   },
   "outputs": [
    {
     "data": {
      "text/plain": [
       "True"
      ]
     },
     "execution_count": 4,
     "metadata": {},
     "output_type": "execute_result"
    }
   ],
   "source": [
    "df3.isnull().any().any()"
   ]
  },
  {
   "cell_type": "code",
   "execution_count": 8,
   "id": "eb1c55f3-084e-4aa3-9d6b-5c9a961a44d0",
   "metadata": {
    "tags": []
   },
   "outputs": [
    {
     "name": "stdout",
     "output_type": "stream",
     "text": [
      "<class 'pandas.core.series.Series'>\n",
      "RangeIndex: 1267 entries, 0 to 1266\n",
      "Series name: Name\n",
      "Non-Null Count  Dtype \n",
      "--------------  ----- \n",
      "1267 non-null   object\n",
      "dtypes: object(1)\n",
      "memory usage: 10.0+ KB\n"
     ]
    }
   ],
   "source": [
    "df3.info()"
   ]
  },
  {
   "cell_type": "code",
   "execution_count": 9,
   "id": "74042748-0a87-45cf-858a-e9e79e866445",
   "metadata": {
    "tags": []
   },
   "outputs": [],
   "source": [
    "df2 = df2.Name"
   ]
  },
  {
   "cell_type": "code",
   "execution_count": 10,
   "id": "64862385-aa77-4ed8-8408-789e52c9fc84",
   "metadata": {
    "tags": []
   },
   "outputs": [
    {
     "data": {
      "text/plain": [
       "False"
      ]
     },
     "execution_count": 10,
     "metadata": {},
     "output_type": "execute_result"
    }
   ],
   "source": [
    "df2.isnull().any().any()"
   ]
  },
  {
   "cell_type": "code",
   "execution_count": 11,
   "id": "39ef2435-f044-41d3-8fd0-4c59b58a775f",
   "metadata": {
    "tags": []
   },
   "outputs": [
    {
     "name": "stdout",
     "output_type": "stream",
     "text": [
      "<class 'pandas.core.series.Series'>\n",
      "Int64Index: 1262 entries, 0 to 1261\n",
      "Series name: Name\n",
      "Non-Null Count  Dtype \n",
      "--------------  ----- \n",
      "1262 non-null   object\n",
      "dtypes: object(1)\n",
      "memory usage: 19.7+ KB\n"
     ]
    }
   ],
   "source": [
    "df2.info()"
   ]
  },
  {
   "cell_type": "code",
   "execution_count": 12,
   "id": "2f8cbea2-8941-4ab8-b710-7050ee328b8b",
   "metadata": {
    "tags": []
   },
   "outputs": [],
   "source": [
    "merged = pd.merge(df2, df3)"
   ]
  },
  {
   "cell_type": "code",
   "execution_count": 13,
   "id": "3c165223-8e48-46af-8c1c-77da7589da1a",
   "metadata": {
    "tags": []
   },
   "outputs": [
    {
     "name": "stdout",
     "output_type": "stream",
     "text": [
      "<class 'pandas.core.frame.DataFrame'>\n",
      "Int64Index: 1266 entries, 0 to 1265\n",
      "Data columns (total 1 columns):\n",
      " #   Column  Non-Null Count  Dtype \n",
      "---  ------  --------------  ----- \n",
      " 0   Name    1266 non-null   object\n",
      "dtypes: object(1)\n",
      "memory usage: 19.8+ KB\n"
     ]
    }
   ],
   "source": [
    "merged.info()"
   ]
  }
 ],
 "metadata": {
  "kernelspec": {
   "display_name": "Python 3 (ipykernel)",
   "language": "python",
   "name": "python3"
  },
  "language_info": {
   "codemirror_mode": {
    "name": "ipython",
    "version": 3
   },
   "file_extension": ".py",
   "mimetype": "text/x-python",
   "name": "python",
   "nbconvert_exporter": "python",
   "pygments_lexer": "ipython3",
   "version": "3.8.10"
  }
 },
 "nbformat": 4,
 "nbformat_minor": 5
}

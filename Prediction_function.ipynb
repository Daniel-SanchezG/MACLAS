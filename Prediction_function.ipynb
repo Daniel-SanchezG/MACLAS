{
 "cells": [
  {
   "cell_type": "markdown",
   "id": "248bcb15-d07a-4436-aea5-06598d4cdec9",
   "metadata": {
    "tags": []
   },
   "source": [
    "## Proof-of-Concept\n",
    "This Notebbok present a use case of the pre-trained model developed [here](./Model_development.ipynb).\n"
   ]
  },
  {
   "cell_type": "code",
   "execution_count": null,
   "id": "e7365c34-d57c-4ad7-b7ba-91597a611f6d",
   "metadata": {},
   "outputs": [],
   "source": [
    "from pycaret.classification import *\n",
    "\n",
    "import pandas as pd\n",
    "import numpy as np\n",
    "import re"
   ]
  },
  {
   "cell_type": "markdown",
   "id": "9cabc728-0efa-4286-906c-a839a4017cbf",
   "metadata": {},
   "source": [
    "### Load the data"
   ]
  },
  {
   "cell_type": "code",
   "execution_count": 2,
   "id": "df896094",
   "metadata": {
    "tags": []
   },
   "outputs": [],
   "source": [
    "df = pd.read_csv(\"./intermediate_data/proof_of_concept.csv\", encoding = 'latin')\n",
    "#df = pd.read_excel(\"./DATA/MACLAS_DATASET.xlsx\", sheet_name= proof_of_work, engine='openpyxl')\n"
   ]
  },
  {
   "cell_type": "code",
   "execution_count": 3,
   "id": "eb6fd163",
   "metadata": {
    "tags": []
   },
   "outputs": [
    {
     "name": "stdout",
     "output_type": "stream",
     "text": [
      "<class 'pandas.core.frame.DataFrame'>\n",
      "RangeIndex: 20 entries, 0 to 19\n",
      "Data columns (total 52 columns):\n",
      " #   Column      Non-Null Count  Dtype  \n",
      "---  ------      --------------  -----  \n",
      " 0   Unnamed: 0  20 non-null     int64  \n",
      " 1   id_inv      20 non-null     object \n",
      " 2   site        20 non-null     object \n",
      " 3   id_yac      20 non-null     object \n",
      " 4   xrd1        20 non-null     object \n",
      " 5   xrd2        6 non-null      object \n",
      " 6   xrd3        2 non-null      object \n",
      " 7   Mg          20 non-null     float64\n",
      " 8   Al          20 non-null     float64\n",
      " 9   Si          20 non-null     float64\n",
      " 10  P           20 non-null     float64\n",
      " 11  S           20 non-null     float64\n",
      " 12  Cl          20 non-null     float64\n",
      " 13  K           20 non-null     float64\n",
      " 14  Ca          20 non-null     float64\n",
      " 15  Sc          20 non-null     float64\n",
      " 16  Ti          20 non-null     float64\n",
      " 17  V           20 non-null     float64\n",
      " 18  Cr          20 non-null     float64\n",
      " 19  Mn          20 non-null     float64\n",
      " 20  Fe          20 non-null     float64\n",
      " 21  Co          20 non-null     float64\n",
      " 22  Ni          20 non-null     float64\n",
      " 23  Cu          20 non-null     float64\n",
      " 24  Zn          20 non-null     float64\n",
      " 25  Ga          20 non-null     float64\n",
      " 26  Ge          20 non-null     float64\n",
      " 27  As          20 non-null     float64\n",
      " 28  Se          20 non-null     float64\n",
      " 29  Br          20 non-null     float64\n",
      " 30  Rb          20 non-null     float64\n",
      " 31  Sr          20 non-null     float64\n",
      " 32  Y           20 non-null     float64\n",
      " 33  Zr          20 non-null     float64\n",
      " 34  Nb          20 non-null     float64\n",
      " 35  Mo          20 non-null     float64\n",
      " 36  Ru          20 non-null     float64\n",
      " 37  Pd          20 non-null     float64\n",
      " 38  Ag          20 non-null     float64\n",
      " 39  Cd          20 non-null     float64\n",
      " 40  In          20 non-null     float64\n",
      " 41  Sn          20 non-null     float64\n",
      " 42  Sb          20 non-null     float64\n",
      " 43  Te          20 non-null     float64\n",
      " 44  Ba          20 non-null     float64\n",
      " 45  Ta          20 non-null     float64\n",
      " 46  W           20 non-null     float64\n",
      " 47  Au          20 non-null     float64\n",
      " 48  Hg          20 non-null     float64\n",
      " 49  Tl          20 non-null     float64\n",
      " 50  Pb          20 non-null     float64\n",
      " 51  Th          20 non-null     float64\n",
      "dtypes: float64(45), int64(1), object(6)\n",
      "memory usage: 8.2+ KB\n"
     ]
    }
   ],
   "source": [
    "df.info(verbose=True, null_counts=True)"
   ]
  },
  {
   "cell_type": "markdown",
   "id": "0f0729ef-9afc-42be-b56f-e973c5604705",
   "metadata": {},
   "source": [
    "### This function load the pre-trained models, perform a prediction on the data and format the output dataframe"
   ]
  },
  {
   "cell_type": "code",
   "execution_count": 3,
   "id": "ad008d45-55b7-4261-acdb-4d107b6fc369",
   "metadata": {
    "tags": []
   },
   "outputs": [],
   "source": [
    "MODEL_NAMES = {\n",
    "    'model1': 'strunz_classifier',\n",
    "    'model2': 'classifier'\n",
    "}\n",
    "\n",
    "def prediction_function(df, model_key):\n",
    "    \"\"\"\n",
    "    This function performs the following operations:\n",
    "    * Loads the specified pre-trained model\n",
    "    * Performs the probability prediction on the dataframe (df).\n",
    "    * Filters the columns containing the word 'Score' for output formatting purposes\n",
    "    * Selects the three highest probabilities, sorts them in descending order and presents them in a new column.\n",
    "    * Finally it returns the dataframe with two new columns of results 'Label' and 'top_3 Probs'.\n",
    "    \"\"\"\n",
    "    \n",
    "    model = load_model(MODEL_NAMES[model_key])\n",
    "    pred_prob = predict_model(estimator=model, data=df, raw_score=True)\n",
    "    \n",
    "    selected = [] \n",
    "    patron = re.compile('.*Score.*', re.IGNORECASE)\n",
    "    \n",
    "    for columna in pred_prob.columns:\n",
    "        if patron.match(columna):\n",
    "            selected.append(columna)\n",
    "    \n",
    "    def select_top_three_cols(row):\n",
    "        top_three_cols = row.nlargest(3)\n",
    "        top_three_cols_dict = dict(zip(top_three_cols.index, top_three_cols))\n",
    "        return top_three_cols_dict\n",
    "    \n",
    "    top_three_cols = pred_prob[selected].apply(select_top_three_cols, axis=1)\n",
    "    pred_prob['top_3_probs'] = top_three_cols\n",
    "    \n",
    "    pred_prob = pred_prob.drop(pred_prob[selected].columns, axis=1)\n",
    "     \n",
    "    return pred_prob"
   ]
  },
  {
   "cell_type": "markdown",
   "id": "998420d0-fc92-4a56-8c96-add0b643e48a",
   "metadata": {},
   "source": [
    "### Using the prediction function with the two models"
   ]
  },
  {
   "cell_type": "code",
   "execution_count": 4,
   "id": "d9c0a398-1192-4f3f-a957-c7de6a1df644",
   "metadata": {
    "tags": []
   },
   "outputs": [
    {
     "name": "stdout",
     "output_type": "stream",
     "text": [
      "Transformation Pipeline and Model Successfully Loaded\n"
     ]
    }
   ],
   "source": [
    "# Model 1\n",
    "preds = prediction_function(df, 'model1')\n",
    "preds.rename(columns={'prediction_label': 'Predicted_Major_Groups', \n",
    "                      'top_3_probs': 'top_3_probs_Major_Groups'}, inplace=True)\n",
    "#preds = preds.drop(['top_3_probs_strunz'], axis=1) # Uncomment this line to drop top_3_probability \n",
    "                                                    #prediction column for this model \n",
    "                                                    \n"
   ]
  },
  {
   "cell_type": "code",
   "execution_count": 5,
   "id": "19c18ef3-2e14-41f6-b258-2522697a46de",
   "metadata": {
    "tags": []
   },
   "outputs": [
    {
     "name": "stdout",
     "output_type": "stream",
     "text": [
      "Transformation Pipeline and Model Successfully Loaded\n"
     ]
    },
    {
     "data": {
      "text/html": [
       "<div>\n",
       "<style scoped>\n",
       "    .dataframe tbody tr th:only-of-type {\n",
       "        vertical-align: middle;\n",
       "    }\n",
       "\n",
       "    .dataframe tbody tr th {\n",
       "        vertical-align: top;\n",
       "    }\n",
       "\n",
       "    .dataframe thead th {\n",
       "        text-align: right;\n",
       "    }\n",
       "</style>\n",
       "<table border=\"1\" class=\"dataframe\">\n",
       "  <thead>\n",
       "    <tr style=\"text-align: right;\">\n",
       "      <th></th>\n",
       "      <th>Unnamed: 0</th>\n",
       "      <th>id_inv</th>\n",
       "      <th>site</th>\n",
       "      <th>id_yac</th>\n",
       "      <th>xrd1</th>\n",
       "      <th>xrd2</th>\n",
       "      <th>xrd3</th>\n",
       "      <th>Mg</th>\n",
       "      <th>Al</th>\n",
       "      <th>Si</th>\n",
       "      <th>...</th>\n",
       "      <th>Ta</th>\n",
       "      <th>W</th>\n",
       "      <th>Au</th>\n",
       "      <th>Hg</th>\n",
       "      <th>Tl</th>\n",
       "      <th>Pb</th>\n",
       "      <th>Th</th>\n",
       "      <th>Predicted_strunz</th>\n",
       "      <th>prediction_label</th>\n",
       "      <th>top_3_probs</th>\n",
       "    </tr>\n",
       "  </thead>\n",
       "  <tbody>\n",
       "    <tr>\n",
       "      <th>0</th>\n",
       "      <td>0</td>\n",
       "      <td>MP-799</td>\n",
       "      <td>Can Figueres</td>\n",
       "      <td>CAT01034</td>\n",
       "      <td>Pectolite</td>\n",
       "      <td>Lopezite</td>\n",
       "      <td>NaN</td>\n",
       "      <td>0.534567</td>\n",
       "      <td>39.314144</td>\n",
       "      <td>11.827674</td>\n",
       "      <td>...</td>\n",
       "      <td>0.000535</td>\n",
       "      <td>0.000230</td>\n",
       "      <td>0.000535</td>\n",
       "      <td>0.000535</td>\n",
       "      <td>0.000535</td>\n",
       "      <td>0.00001</td>\n",
       "      <td>0.000535</td>\n",
       "      <td>Carbonates(Nitrates)</td>\n",
       "      <td>Planerite</td>\n",
       "      <td>{'prediction_score_Planerite': 0.9533, 'predic...</td>\n",
       "    </tr>\n",
       "    <tr>\n",
       "      <th>1</th>\n",
       "      <td>1</td>\n",
       "      <td>MP-807</td>\n",
       "      <td>Can Figueres</td>\n",
       "      <td>CAT01034</td>\n",
       "      <td>Petalite</td>\n",
       "      <td>NaN</td>\n",
       "      <td>NaN</td>\n",
       "      <td>0.520289</td>\n",
       "      <td>50.391808</td>\n",
       "      <td>6.222907</td>\n",
       "      <td>...</td>\n",
       "      <td>0.000520</td>\n",
       "      <td>0.000326</td>\n",
       "      <td>0.000520</td>\n",
       "      <td>0.000520</td>\n",
       "      <td>0.000520</td>\n",
       "      <td>0.00001</td>\n",
       "      <td>0.000520</td>\n",
       "      <td>Phosphates,Arsenates,Vanadates</td>\n",
       "      <td>Aheylite</td>\n",
       "      <td>{'prediction_score_Aheylite': 0.962, 'predicti...</td>\n",
       "    </tr>\n",
       "    <tr>\n",
       "      <th>2</th>\n",
       "      <td>2</td>\n",
       "      <td>MP-349</td>\n",
       "      <td>Can Sadurni</td>\n",
       "      <td>CAT01005</td>\n",
       "      <td>Sulphur</td>\n",
       "      <td>NaN</td>\n",
       "      <td>NaN</td>\n",
       "      <td>0.402388</td>\n",
       "      <td>5.578874</td>\n",
       "      <td>4.186923</td>\n",
       "      <td>...</td>\n",
       "      <td>0.000402</td>\n",
       "      <td>0.000402</td>\n",
       "      <td>0.041920</td>\n",
       "      <td>0.000402</td>\n",
       "      <td>0.000402</td>\n",
       "      <td>0.00001</td>\n",
       "      <td>0.000402</td>\n",
       "      <td>Phosphates,Arsenates,Vanadates</td>\n",
       "      <td>Variscite</td>\n",
       "      <td>{'prediction_score_Variscite': 0.951, 'predict...</td>\n",
       "    </tr>\n",
       "    <tr>\n",
       "      <th>3</th>\n",
       "      <td>3</td>\n",
       "      <td>MP-788</td>\n",
       "      <td>Can Sadurni</td>\n",
       "      <td>CAT01005</td>\n",
       "      <td>Hydroxylapatite</td>\n",
       "      <td>NaN</td>\n",
       "      <td>NaN</td>\n",
       "      <td>0.548531</td>\n",
       "      <td>8.702245</td>\n",
       "      <td>5.506594</td>\n",
       "      <td>...</td>\n",
       "      <td>0.000549</td>\n",
       "      <td>0.000549</td>\n",
       "      <td>0.000549</td>\n",
       "      <td>0.000549</td>\n",
       "      <td>0.000549</td>\n",
       "      <td>0.00001</td>\n",
       "      <td>0.000549</td>\n",
       "      <td>Phosphates,Arsenates,Vanadates</td>\n",
       "      <td>Aheylite</td>\n",
       "      <td>{'prediction_score_Aheylite': 0.8919, 'predict...</td>\n",
       "    </tr>\n",
       "    <tr>\n",
       "      <th>4</th>\n",
       "      <td>4</td>\n",
       "      <td>MP-790</td>\n",
       "      <td>Can Sadurni</td>\n",
       "      <td>CAT01005</td>\n",
       "      <td>Quartz</td>\n",
       "      <td>NaN</td>\n",
       "      <td>NaN</td>\n",
       "      <td>0.650851</td>\n",
       "      <td>4.771027</td>\n",
       "      <td>91.863289</td>\n",
       "      <td>...</td>\n",
       "      <td>0.000651</td>\n",
       "      <td>0.000651</td>\n",
       "      <td>0.000651</td>\n",
       "      <td>0.000651</td>\n",
       "      <td>0.000651</td>\n",
       "      <td>0.00001</td>\n",
       "      <td>0.000651</td>\n",
       "      <td>Silicates</td>\n",
       "      <td>Illite</td>\n",
       "      <td>{'prediction_score_Illite': 0.6142, 'predictio...</td>\n",
       "    </tr>\n",
       "  </tbody>\n",
       "</table>\n",
       "<p>5 rows × 55 columns</p>\n",
       "</div>"
      ],
      "text/plain": [
       "   Unnamed: 0  id_inv          site    id_yac             xrd1      xrd2 xrd3  \\\n",
       "0           0  MP-799  Can Figueres  CAT01034        Pectolite  Lopezite  NaN   \n",
       "1           1  MP-807  Can Figueres  CAT01034         Petalite       NaN  NaN   \n",
       "2           2  MP-349   Can Sadurni  CAT01005          Sulphur       NaN  NaN   \n",
       "3           3  MP-788   Can Sadurni  CAT01005  Hydroxylapatite       NaN  NaN   \n",
       "4           4  MP-790   Can Sadurni  CAT01005           Quartz       NaN  NaN   \n",
       "\n",
       "         Mg         Al         Si  ...        Ta         W        Au  \\\n",
       "0  0.534567  39.314144  11.827674  ...  0.000535  0.000230  0.000535   \n",
       "1  0.520289  50.391808   6.222907  ...  0.000520  0.000326  0.000520   \n",
       "2  0.402388   5.578874   4.186923  ...  0.000402  0.000402  0.041920   \n",
       "3  0.548531   8.702245   5.506594  ...  0.000549  0.000549  0.000549   \n",
       "4  0.650851   4.771027  91.863289  ...  0.000651  0.000651  0.000651   \n",
       "\n",
       "         Hg        Tl       Pb        Th                Predicted_strunz  \\\n",
       "0  0.000535  0.000535  0.00001  0.000535            Carbonates(Nitrates)   \n",
       "1  0.000520  0.000520  0.00001  0.000520  Phosphates,Arsenates,Vanadates   \n",
       "2  0.000402  0.000402  0.00001  0.000402  Phosphates,Arsenates,Vanadates   \n",
       "3  0.000549  0.000549  0.00001  0.000549  Phosphates,Arsenates,Vanadates   \n",
       "4  0.000651  0.000651  0.00001  0.000651                       Silicates   \n",
       "\n",
       "   prediction_label                                        top_3_probs  \n",
       "0         Planerite  {'prediction_score_Planerite': 0.9533, 'predic...  \n",
       "1          Aheylite  {'prediction_score_Aheylite': 0.962, 'predicti...  \n",
       "2         Variscite  {'prediction_score_Variscite': 0.951, 'predict...  \n",
       "3          Aheylite  {'prediction_score_Aheylite': 0.8919, 'predict...  \n",
       "4            Illite  {'prediction_score_Illite': 0.6142, 'predictio...  \n",
       "\n",
       "[5 rows x 55 columns]"
      ]
     },
     "execution_count": 5,
     "metadata": {},
     "output_type": "execute_result"
    }
   ],
   "source": [
    "# Model 2\n",
    "preds2 = prediction_function(preds, 'model2')\n",
    "preds2.head()"
   ]
  },
  {
   "cell_type": "markdown",
   "id": "ecc963c9-46bb-4cdc-ab1c-df9b92ee84ab",
   "metadata": {},
   "source": [
    "#### The dataframe with predictions is stored in intermediate_data folder"
   ]
  },
  {
   "cell_type": "code",
   "execution_count": 8,
   "id": "0b06fe32",
   "metadata": {},
   "outputs": [],
   "source": [
    "\n",
    "preds.to_csv(\"./intermediate_data/proof_of_work_predictions.csv\") "
   ]
  }
 ],
 "metadata": {
  "kernelspec": {
   "display_name": "Python 3 (ipykernel)",
   "language": "python",
   "name": "python3"
  },
  "language_info": {
   "codemirror_mode": {
    "name": "ipython",
    "version": 3
   },
   "file_extension": ".py",
   "mimetype": "text/x-python",
   "name": "python",
   "nbconvert_exporter": "python",
   "pygments_lexer": "ipython3",
   "version": "3.8.10"
  }
 },
 "nbformat": 4,
 "nbformat_minor": 5
}

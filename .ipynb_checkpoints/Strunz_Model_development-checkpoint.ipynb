{
 "cells": [
  {
   "cell_type": "markdown",
   "id": "19db36eb",
   "metadata": {
    "tags": []
   },
   "source": [
    "## Model development Pipeline.\n",
    "\n",
    "This notebook presents the entire development process of the Multiclass Model of Mineral Groups Classification according to the [Strunz](https://www.mindat.org/strunz.php) system.\n",
    "It contains:\n",
    "\n",
    "* Exploratory data analysis\n",
    "* Preprocessing and resampling\n",
    "* Evaluation and comparison of algorithms\n",
    "* Optimization\n",
    "* Calibration \n",
    "* Final validation\n",
    " \n",
    "\n",
    "\n",
    "\n",
    "#### Clasification function is given by; X = (1243 x 45 numerical features) y = 6 classes\n",
    "\n",
    "\n",
    "---"
   ]
  },
  {
   "cell_type": "code",
   "execution_count": 1,
   "id": "53210892",
   "metadata": {
    "tags": []
   },
   "outputs": [],
   "source": [
    "import pandas as pd\n",
    "import numpy as np\n",
    "from pycaret.classification import * # Machine learning tools\n",
    "import imblearn  # Resampling\n",
    "from imblearn.over_sampling import SMOTE # Oversampling\n",
    "from imblearn.under_sampling import CondensedNearestNeighbour #Subsampling\n",
    "from sklearn.metrics import ConfusionMatrixDisplay # Model evaluation\n",
    "import matplotlib.pyplot as plt # Visualization\n",
    "import seaborn as sns\n",
    "from sklearn.metrics import classification_report # Model evaluation report\n",
    "from ipywidgets import widgets # Interactive functions"
   ]
  },
  {
   "cell_type": "markdown",
   "id": "3efb5453",
   "metadata": {},
   "source": [
    "#### Performing basic data exploratory analysis"
   ]
  },
  {
   "cell_type": "code",
   "execution_count": 2,
   "id": "d767291d",
   "metadata": {
    "tags": []
   },
   "outputs": [
    {
     "name": "stdout",
     "output_type": "stream",
     "text": [
      "<class 'pandas.core.frame.DataFrame'>\n",
      "Int64Index: 1243 entries, 0 to 1242\n",
      "Data columns (total 56 columns):\n",
      " #   Column            Non-Null Count  Dtype  \n",
      "---  ------            --------------  -----  \n",
      " 0   index             1243 non-null   int64  \n",
      " 1   Name              1243 non-null   object \n",
      " 2   XRD_MIN_          1243 non-null   object \n",
      " 3   XRD_MIN_2         196 non-null    object \n",
      " 4   XRD_MIN_3         51 non-null     object \n",
      " 5   XRD_MIN_4         4 non-null      object \n",
      " 6   target            1243 non-null   object \n",
      " 7   Strunz            1243 non-null   object \n",
      " 8   Variscite_Binary  1158 non-null   float64\n",
      " 9   Duration          1237 non-null   float64\n",
      " 10  Mg                1243 non-null   float64\n",
      " 11  Al                1243 non-null   float64\n",
      " 12  Si                1243 non-null   float64\n",
      " 13  P                 1243 non-null   float64\n",
      " 14  S                 1243 non-null   float64\n",
      " 15  Cl                1243 non-null   float64\n",
      " 16  K                 1243 non-null   float64\n",
      " 17  Ca                1243 non-null   float64\n",
      " 18  Sc                1243 non-null   float64\n",
      " 19  Ti                1243 non-null   float64\n",
      " 20  V                 1243 non-null   float64\n",
      " 21  Cr                1243 non-null   float64\n",
      " 22  Mn                1243 non-null   float64\n",
      " 23  Fe                1243 non-null   float64\n",
      " 24  Co                1243 non-null   float64\n",
      " 25  Ni                1243 non-null   float64\n",
      " 26  Cu                1243 non-null   float64\n",
      " 27  Zn                1243 non-null   float64\n",
      " 28  Ga                1243 non-null   float64\n",
      " 29  Ge                1243 non-null   float64\n",
      " 30  As                1243 non-null   float64\n",
      " 31  Se                1243 non-null   float64\n",
      " 32  Br                1243 non-null   float64\n",
      " 33  Rb                1243 non-null   float64\n",
      " 34  Sr                1243 non-null   float64\n",
      " 35  Y                 1243 non-null   float64\n",
      " 36  Zr                1243 non-null   float64\n",
      " 37  Nb                1243 non-null   float64\n",
      " 38  Mo                1243 non-null   float64\n",
      " 39  Ru                1243 non-null   float64\n",
      " 40  Pd                1243 non-null   float64\n",
      " 41  Ag                1243 non-null   float64\n",
      " 42  Cd                1243 non-null   float64\n",
      " 43  In                1243 non-null   float64\n",
      " 44  Sn                1243 non-null   float64\n",
      " 45  Sb                1243 non-null   float64\n",
      " 46  Te                1243 non-null   float64\n",
      " 47  Ba                1243 non-null   float64\n",
      " 48  Ta                1243 non-null   float64\n",
      " 49  W                 1243 non-null   float64\n",
      " 50  Au                1243 non-null   float64\n",
      " 51  Hg                1243 non-null   float64\n",
      " 52  Tl                1243 non-null   float64\n",
      " 53  Pb                1243 non-null   float64\n",
      " 54  Th                1243 non-null   float64\n",
      " 55  suma              1243 non-null   float64\n",
      "dtypes: float64(48), int64(1), object(7)\n",
      "memory usage: 553.5+ KB\n"
     ]
    }
   ],
   "source": [
    "#df1 = pd.read_csv('./intermediate_data/MACLAS_dataset_preprocessed_mineralgroups.csv') \n",
    "df1 = pd.read_excel('./DATA/MACLAS_DATASET.xlsx',sheet_name='training', engine='openpyxl')\n",
    "df1 = df1.drop_duplicates(subset='Name')\n",
    "df1.info(verbose=True, null_counts=True)"
   ]
  },
  {
   "cell_type": "code",
   "execution_count": 3,
   "id": "765e4c02",
   "metadata": {
    "tags": []
   },
   "outputs": [],
   "source": [
    "#Filtering contextual data\n",
    "#Filtering contextual data\n",
    "df = df1.iloc[:, 10:]\n",
    "df = df.drop(['suma'], axis= 1)\n",
    "df['target'] = df1['Strunz']\n"
   ]
  },
  {
   "cell_type": "code",
   "execution_count": 4,
   "id": "0f13edca",
   "metadata": {
    "tags": []
   },
   "outputs": [
    {
     "name": "stdout",
     "output_type": "stream",
     "text": [
      "<class 'pandas.core.frame.DataFrame'>\n",
      "Int64Index: 1243 entries, 0 to 1242\n",
      "Data columns (total 46 columns):\n",
      " #   Column  Non-Null Count  Dtype  \n",
      "---  ------  --------------  -----  \n",
      " 0   Mg      1243 non-null   float64\n",
      " 1   Al      1243 non-null   float64\n",
      " 2   Si      1243 non-null   float64\n",
      " 3   P       1243 non-null   float64\n",
      " 4   S       1243 non-null   float64\n",
      " 5   Cl      1243 non-null   float64\n",
      " 6   K       1243 non-null   float64\n",
      " 7   Ca      1243 non-null   float64\n",
      " 8   Sc      1243 non-null   float64\n",
      " 9   Ti      1243 non-null   float64\n",
      " 10  V       1243 non-null   float64\n",
      " 11  Cr      1243 non-null   float64\n",
      " 12  Mn      1243 non-null   float64\n",
      " 13  Fe      1243 non-null   float64\n",
      " 14  Co      1243 non-null   float64\n",
      " 15  Ni      1243 non-null   float64\n",
      " 16  Cu      1243 non-null   float64\n",
      " 17  Zn      1243 non-null   float64\n",
      " 18  Ga      1243 non-null   float64\n",
      " 19  Ge      1243 non-null   float64\n",
      " 20  As      1243 non-null   float64\n",
      " 21  Se      1243 non-null   float64\n",
      " 22  Br      1243 non-null   float64\n",
      " 23  Rb      1243 non-null   float64\n",
      " 24  Sr      1243 non-null   float64\n",
      " 25  Y       1243 non-null   float64\n",
      " 26  Zr      1243 non-null   float64\n",
      " 27  Nb      1243 non-null   float64\n",
      " 28  Mo      1243 non-null   float64\n",
      " 29  Ru      1243 non-null   float64\n",
      " 30  Pd      1243 non-null   float64\n",
      " 31  Ag      1243 non-null   float64\n",
      " 32  Cd      1243 non-null   float64\n",
      " 33  In      1243 non-null   float64\n",
      " 34  Sn      1243 non-null   float64\n",
      " 35  Sb      1243 non-null   float64\n",
      " 36  Te      1243 non-null   float64\n",
      " 37  Ba      1243 non-null   float64\n",
      " 38  Ta      1243 non-null   float64\n",
      " 39  W       1243 non-null   float64\n",
      " 40  Au      1243 non-null   float64\n",
      " 41  Hg      1243 non-null   float64\n",
      " 42  Tl      1243 non-null   float64\n",
      " 43  Pb      1243 non-null   float64\n",
      " 44  Th      1243 non-null   float64\n",
      " 45  target  1243 non-null   object \n",
      "dtypes: float64(45), object(1)\n",
      "memory usage: 456.4+ KB\n"
     ]
    }
   ],
   "source": [
    "df.info()"
   ]
  },
  {
   "cell_type": "markdown",
   "id": "8e50f931-7652-4230-9ee3-5327c98d8991",
   "metadata": {},
   "source": [
    "#### Checking that there are no missing values in the development dataset"
   ]
  },
  {
   "cell_type": "code",
   "execution_count": 5,
   "id": "980030c4",
   "metadata": {
    "tags": []
   },
   "outputs": [
    {
     "data": {
      "text/plain": [
       "False"
      ]
     },
     "execution_count": 5,
     "metadata": {},
     "output_type": "execute_result"
    }
   ],
   "source": [
    "\n",
    "df.isnull().any().any()"
   ]
  },
  {
   "cell_type": "code",
   "execution_count": 6,
   "id": "2b9077af",
   "metadata": {
    "tags": []
   },
   "outputs": [
    {
     "data": {
      "text/plain": [
       "Phosphates,Arsenates,Vanadates    931\n",
       "Silicates                         243\n",
       "Carbonates(Nitrates)               42\n",
       "Oxides                             14\n",
       "Halides                             8\n",
       "Sulfates                            5\n",
       "Name: target, dtype: int64"
      ]
     },
     "execution_count": 6,
     "metadata": {},
     "output_type": "execute_result"
    }
   ],
   "source": [
    "target = df['target'].value_counts()\n",
    "target\n"
   ]
  },
  {
   "cell_type": "markdown",
   "id": "759dca28",
   "metadata": {},
   "source": [
    "### Preprocess"
   ]
  },
  {
   "cell_type": "markdown",
   "id": "64b0b277-2b5e-41e5-a958-14606cd9ca6c",
   "metadata": {},
   "source": [
    "We have kept all classes within the dataset. Contrary to the mineral species model we have set a number of n=3 nearest neighbours for the resampling process.\n",
    "* Note that there is a severe class imbalance"
   ]
  },
  {
   "cell_type": "code",
   "execution_count": 7,
   "id": "578e72de",
   "metadata": {},
   "outputs": [
    {
     "name": "stdout",
     "output_type": "stream",
     "text": [
      "<class 'pandas.core.frame.DataFrame'>\n",
      "Int64Index: 1243 entries, 0 to 1242\n",
      "Data columns (total 46 columns):\n",
      " #   Column  Non-Null Count  Dtype  \n",
      "---  ------  --------------  -----  \n",
      " 0   Mg      1243 non-null   float64\n",
      " 1   Al      1243 non-null   float64\n",
      " 2   Si      1243 non-null   float64\n",
      " 3   P       1243 non-null   float64\n",
      " 4   S       1243 non-null   float64\n",
      " 5   Cl      1243 non-null   float64\n",
      " 6   K       1243 non-null   float64\n",
      " 7   Ca      1243 non-null   float64\n",
      " 8   Sc      1243 non-null   float64\n",
      " 9   Ti      1243 non-null   float64\n",
      " 10  V       1243 non-null   float64\n",
      " 11  Cr      1243 non-null   float64\n",
      " 12  Mn      1243 non-null   float64\n",
      " 13  Fe      1243 non-null   float64\n",
      " 14  Co      1243 non-null   float64\n",
      " 15  Ni      1243 non-null   float64\n",
      " 16  Cu      1243 non-null   float64\n",
      " 17  Zn      1243 non-null   float64\n",
      " 18  Ga      1243 non-null   float64\n",
      " 19  Ge      1243 non-null   float64\n",
      " 20  As      1243 non-null   float64\n",
      " 21  Se      1243 non-null   float64\n",
      " 22  Br      1243 non-null   float64\n",
      " 23  Rb      1243 non-null   float64\n",
      " 24  Sr      1243 non-null   float64\n",
      " 25  Y       1243 non-null   float64\n",
      " 26  Zr      1243 non-null   float64\n",
      " 27  Nb      1243 non-null   float64\n",
      " 28  Mo      1243 non-null   float64\n",
      " 29  Ru      1243 non-null   float64\n",
      " 30  Pd      1243 non-null   float64\n",
      " 31  Ag      1243 non-null   float64\n",
      " 32  Cd      1243 non-null   float64\n",
      " 33  In      1243 non-null   float64\n",
      " 34  Sn      1243 non-null   float64\n",
      " 35  Sb      1243 non-null   float64\n",
      " 36  Te      1243 non-null   float64\n",
      " 37  Ba      1243 non-null   float64\n",
      " 38  Ta      1243 non-null   float64\n",
      " 39  W       1243 non-null   float64\n",
      " 40  Au      1243 non-null   float64\n",
      " 41  Hg      1243 non-null   float64\n",
      " 42  Tl      1243 non-null   float64\n",
      " 43  Pb      1243 non-null   float64\n",
      " 44  Th      1243 non-null   float64\n",
      " 45  target  1243 non-null   object \n",
      "dtypes: float64(45), object(1)\n",
      "memory usage: 456.4+ KB\n"
     ]
    }
   ],
   "source": [
    "df.info()"
   ]
  },
  {
   "cell_type": "code",
   "execution_count": 8,
   "id": "f8156ee4",
   "metadata": {},
   "outputs": [
    {
     "data": {
      "text/plain": [
       "Phosphates,Arsenates,Vanadates    931\n",
       "Silicates                         243\n",
       "Carbonates(Nitrates)               42\n",
       "Oxides                             14\n",
       "Halides                             8\n",
       "Sulfates                            5\n",
       "Name: target, dtype: int64"
      ]
     },
     "execution_count": 8,
     "metadata": {},
     "output_type": "execute_result"
    }
   ],
   "source": [
    "target = df['target'].value_counts()\n",
    "target"
   ]
  },
  {
   "cell_type": "markdown",
   "id": "7b5b0213",
   "metadata": {},
   "source": [
    "#### Creating Validation Set 1 (VS1) (10%)\n",
    "Note that these data have not been resampled."
   ]
  },
  {
   "cell_type": "code",
   "execution_count": 9,
   "id": "b81c870e",
   "metadata": {
    "tags": []
   },
   "outputs": [
    {
     "name": "stdout",
     "output_type": "stream",
     "text": [
      "Data for further procedures: (1119, 46)\n",
      "Data for final validation: (124, 46)\n"
     ]
    }
   ],
   "source": [
    "# First Split of the data. 10% held-out for  final validation\n",
    "data = df.sample(frac=0.90, random_state=786)\n",
    "vs1= df.drop(data.index)\n",
    "data.reset_index(inplace=True, drop=True)\n",
    "vs1.reset_index(inplace=True, drop=True)\n",
    "print('Data for further procedures: ' + str(data.shape))\n",
    "print('Data for final validation: ' + str(vs1.shape))"
   ]
  },
  {
   "cell_type": "code",
   "execution_count": 34,
   "id": "b5a05fed-eacb-4af9-bd09-5d3582ae92a8",
   "metadata": {
    "tags": []
   },
   "outputs": [
    {
     "data": {
      "text/html": [
       "<div>\n",
       "<style scoped>\n",
       "    .dataframe tbody tr th:only-of-type {\n",
       "        vertical-align: middle;\n",
       "    }\n",
       "\n",
       "    .dataframe tbody tr th {\n",
       "        vertical-align: top;\n",
       "    }\n",
       "\n",
       "    .dataframe thead th {\n",
       "        text-align: right;\n",
       "    }\n",
       "</style>\n",
       "<table border=\"1\" class=\"dataframe\">\n",
       "  <thead>\n",
       "    <tr style=\"text-align: right;\">\n",
       "      <th></th>\n",
       "      <th>Mg</th>\n",
       "      <th>Al</th>\n",
       "      <th>Si</th>\n",
       "      <th>P</th>\n",
       "      <th>S</th>\n",
       "      <th>Cl</th>\n",
       "      <th>K</th>\n",
       "      <th>Ca</th>\n",
       "      <th>Sc</th>\n",
       "      <th>Ti</th>\n",
       "      <th>...</th>\n",
       "      <th>Te</th>\n",
       "      <th>Ba</th>\n",
       "      <th>Ta</th>\n",
       "      <th>W</th>\n",
       "      <th>Au</th>\n",
       "      <th>Hg</th>\n",
       "      <th>Tl</th>\n",
       "      <th>Pb</th>\n",
       "      <th>Th</th>\n",
       "      <th>target</th>\n",
       "    </tr>\n",
       "  </thead>\n",
       "  <tbody>\n",
       "    <tr>\n",
       "      <th>0</th>\n",
       "      <td>22.231342</td>\n",
       "      <td>6.085127</td>\n",
       "      <td>13.746663</td>\n",
       "      <td>1.008996</td>\n",
       "      <td>0.059347</td>\n",
       "      <td>0.745061</td>\n",
       "      <td>0.006428</td>\n",
       "      <td>4.724324</td>\n",
       "      <td>0.006428</td>\n",
       "      <td>0.077215</td>\n",
       "      <td>...</td>\n",
       "      <td>0.000643</td>\n",
       "      <td>0.000643</td>\n",
       "      <td>0.000643</td>\n",
       "      <td>0.000643</td>\n",
       "      <td>0.000643</td>\n",
       "      <td>0.020990</td>\n",
       "      <td>0.000643</td>\n",
       "      <td>0.000010</td>\n",
       "      <td>0.000643</td>\n",
       "      <td>Phosphates,Arsenates,Vanadates</td>\n",
       "    </tr>\n",
       "    <tr>\n",
       "      <th>1</th>\n",
       "      <td>22.140495</td>\n",
       "      <td>5.579715</td>\n",
       "      <td>8.094944</td>\n",
       "      <td>2.020933</td>\n",
       "      <td>0.064626</td>\n",
       "      <td>0.905306</td>\n",
       "      <td>0.006463</td>\n",
       "      <td>8.310807</td>\n",
       "      <td>0.006463</td>\n",
       "      <td>0.066695</td>\n",
       "      <td>...</td>\n",
       "      <td>0.000646</td>\n",
       "      <td>0.000646</td>\n",
       "      <td>0.000646</td>\n",
       "      <td>0.000646</td>\n",
       "      <td>0.000646</td>\n",
       "      <td>0.022456</td>\n",
       "      <td>0.000646</td>\n",
       "      <td>0.000010</td>\n",
       "      <td>0.000646</td>\n",
       "      <td>Phosphates,Arsenates,Vanadates</td>\n",
       "    </tr>\n",
       "    <tr>\n",
       "      <th>2</th>\n",
       "      <td>22.836835</td>\n",
       "      <td>8.462586</td>\n",
       "      <td>55.755514</td>\n",
       "      <td>0.381237</td>\n",
       "      <td>1.931820</td>\n",
       "      <td>5.272199</td>\n",
       "      <td>1.492703</td>\n",
       "      <td>2.414028</td>\n",
       "      <td>0.005866</td>\n",
       "      <td>0.099020</td>\n",
       "      <td>...</td>\n",
       "      <td>0.000587</td>\n",
       "      <td>0.000587</td>\n",
       "      <td>0.000587</td>\n",
       "      <td>0.000587</td>\n",
       "      <td>0.000587</td>\n",
       "      <td>0.000587</td>\n",
       "      <td>0.000587</td>\n",
       "      <td>0.000010</td>\n",
       "      <td>0.000587</td>\n",
       "      <td>Silicates</td>\n",
       "    </tr>\n",
       "    <tr>\n",
       "      <th>3</th>\n",
       "      <td>29.381755</td>\n",
       "      <td>8.583625</td>\n",
       "      <td>45.839567</td>\n",
       "      <td>0.598498</td>\n",
       "      <td>0.314498</td>\n",
       "      <td>2.769239</td>\n",
       "      <td>10.897874</td>\n",
       "      <td>0.612652</td>\n",
       "      <td>0.005103</td>\n",
       "      <td>0.113849</td>\n",
       "      <td>...</td>\n",
       "      <td>0.000510</td>\n",
       "      <td>0.000510</td>\n",
       "      <td>0.001833</td>\n",
       "      <td>0.000510</td>\n",
       "      <td>0.000510</td>\n",
       "      <td>0.000510</td>\n",
       "      <td>0.000949</td>\n",
       "      <td>0.000010</td>\n",
       "      <td>0.000510</td>\n",
       "      <td>Silicates</td>\n",
       "    </tr>\n",
       "    <tr>\n",
       "      <th>4</th>\n",
       "      <td>0.524212</td>\n",
       "      <td>33.655514</td>\n",
       "      <td>31.492125</td>\n",
       "      <td>27.316450</td>\n",
       "      <td>0.384248</td>\n",
       "      <td>1.889678</td>\n",
       "      <td>0.980636</td>\n",
       "      <td>1.813253</td>\n",
       "      <td>0.005242</td>\n",
       "      <td>0.183108</td>\n",
       "      <td>...</td>\n",
       "      <td>0.000524</td>\n",
       "      <td>0.000524</td>\n",
       "      <td>0.002694</td>\n",
       "      <td>0.000524</td>\n",
       "      <td>0.000524</td>\n",
       "      <td>0.000524</td>\n",
       "      <td>0.000524</td>\n",
       "      <td>0.000010</td>\n",
       "      <td>0.000524</td>\n",
       "      <td>Phosphates,Arsenates,Vanadates</td>\n",
       "    </tr>\n",
       "    <tr>\n",
       "      <th>...</th>\n",
       "      <td>...</td>\n",
       "      <td>...</td>\n",
       "      <td>...</td>\n",
       "      <td>...</td>\n",
       "      <td>...</td>\n",
       "      <td>...</td>\n",
       "      <td>...</td>\n",
       "      <td>...</td>\n",
       "      <td>...</td>\n",
       "      <td>...</td>\n",
       "      <td>...</td>\n",
       "      <td>...</td>\n",
       "      <td>...</td>\n",
       "      <td>...</td>\n",
       "      <td>...</td>\n",
       "      <td>...</td>\n",
       "      <td>...</td>\n",
       "      <td>...</td>\n",
       "      <td>...</td>\n",
       "      <td>...</td>\n",
       "      <td>...</td>\n",
       "    </tr>\n",
       "    <tr>\n",
       "      <th>119</th>\n",
       "      <td>0.674921</td>\n",
       "      <td>14.166286</td>\n",
       "      <td>34.932715</td>\n",
       "      <td>2.164393</td>\n",
       "      <td>0.469455</td>\n",
       "      <td>2.900542</td>\n",
       "      <td>1.084590</td>\n",
       "      <td>21.655636</td>\n",
       "      <td>0.006749</td>\n",
       "      <td>3.927956</td>\n",
       "      <td>...</td>\n",
       "      <td>0.000675</td>\n",
       "      <td>0.000675</td>\n",
       "      <td>0.000675</td>\n",
       "      <td>0.030442</td>\n",
       "      <td>0.000675</td>\n",
       "      <td>0.000675</td>\n",
       "      <td>0.000675</td>\n",
       "      <td>0.000010</td>\n",
       "      <td>0.000675</td>\n",
       "      <td>Silicates</td>\n",
       "    </tr>\n",
       "    <tr>\n",
       "      <th>120</th>\n",
       "      <td>0.696594</td>\n",
       "      <td>2.738406</td>\n",
       "      <td>63.462813</td>\n",
       "      <td>2.801982</td>\n",
       "      <td>0.285721</td>\n",
       "      <td>2.611096</td>\n",
       "      <td>0.006966</td>\n",
       "      <td>2.025228</td>\n",
       "      <td>0.006966</td>\n",
       "      <td>0.458264</td>\n",
       "      <td>...</td>\n",
       "      <td>0.000697</td>\n",
       "      <td>0.000697</td>\n",
       "      <td>0.000697</td>\n",
       "      <td>0.000697</td>\n",
       "      <td>0.000697</td>\n",
       "      <td>0.000697</td>\n",
       "      <td>0.000697</td>\n",
       "      <td>0.000010</td>\n",
       "      <td>0.000697</td>\n",
       "      <td>Oxides</td>\n",
       "    </tr>\n",
       "    <tr>\n",
       "      <th>121</th>\n",
       "      <td>0.639741</td>\n",
       "      <td>5.216891</td>\n",
       "      <td>84.336435</td>\n",
       "      <td>2.219285</td>\n",
       "      <td>0.645927</td>\n",
       "      <td>2.891736</td>\n",
       "      <td>0.006397</td>\n",
       "      <td>3.183380</td>\n",
       "      <td>0.006397</td>\n",
       "      <td>0.083665</td>\n",
       "      <td>...</td>\n",
       "      <td>0.000640</td>\n",
       "      <td>0.000640</td>\n",
       "      <td>0.000640</td>\n",
       "      <td>0.000640</td>\n",
       "      <td>0.000640</td>\n",
       "      <td>0.000640</td>\n",
       "      <td>0.000640</td>\n",
       "      <td>0.000056</td>\n",
       "      <td>0.000640</td>\n",
       "      <td>Oxides</td>\n",
       "    </tr>\n",
       "    <tr>\n",
       "      <th>122</th>\n",
       "      <td>0.689814</td>\n",
       "      <td>9.133855</td>\n",
       "      <td>27.253099</td>\n",
       "      <td>2.000134</td>\n",
       "      <td>0.292407</td>\n",
       "      <td>2.201176</td>\n",
       "      <td>4.922627</td>\n",
       "      <td>22.227631</td>\n",
       "      <td>0.006898</td>\n",
       "      <td>0.857457</td>\n",
       "      <td>...</td>\n",
       "      <td>0.000690</td>\n",
       "      <td>0.027978</td>\n",
       "      <td>0.000690</td>\n",
       "      <td>0.000690</td>\n",
       "      <td>0.000690</td>\n",
       "      <td>0.000690</td>\n",
       "      <td>0.000690</td>\n",
       "      <td>0.000010</td>\n",
       "      <td>0.000690</td>\n",
       "      <td>Carbonates(Nitrates)</td>\n",
       "    </tr>\n",
       "    <tr>\n",
       "      <th>123</th>\n",
       "      <td>6.718399</td>\n",
       "      <td>2.561022</td>\n",
       "      <td>1.403262</td>\n",
       "      <td>0.297421</td>\n",
       "      <td>1.106613</td>\n",
       "      <td>0.977274</td>\n",
       "      <td>0.006041</td>\n",
       "      <td>86.738258</td>\n",
       "      <td>0.006041</td>\n",
       "      <td>0.006041</td>\n",
       "      <td>...</td>\n",
       "      <td>0.000604</td>\n",
       "      <td>0.000604</td>\n",
       "      <td>0.000604</td>\n",
       "      <td>0.000604</td>\n",
       "      <td>0.000604</td>\n",
       "      <td>0.000604</td>\n",
       "      <td>0.000604</td>\n",
       "      <td>0.000010</td>\n",
       "      <td>0.000604</td>\n",
       "      <td>Halides</td>\n",
       "    </tr>\n",
       "  </tbody>\n",
       "</table>\n",
       "<p>124 rows × 46 columns</p>\n",
       "</div>"
      ],
      "text/plain": [
       "            Mg         Al         Si          P         S        Cl  \\\n",
       "0    22.231342   6.085127  13.746663   1.008996  0.059347  0.745061   \n",
       "1    22.140495   5.579715   8.094944   2.020933  0.064626  0.905306   \n",
       "2    22.836835   8.462586  55.755514   0.381237  1.931820  5.272199   \n",
       "3    29.381755   8.583625  45.839567   0.598498  0.314498  2.769239   \n",
       "4     0.524212  33.655514  31.492125  27.316450  0.384248  1.889678   \n",
       "..         ...        ...        ...        ...       ...       ...   \n",
       "119   0.674921  14.166286  34.932715   2.164393  0.469455  2.900542   \n",
       "120   0.696594   2.738406  63.462813   2.801982  0.285721  2.611096   \n",
       "121   0.639741   5.216891  84.336435   2.219285  0.645927  2.891736   \n",
       "122   0.689814   9.133855  27.253099   2.000134  0.292407  2.201176   \n",
       "123   6.718399   2.561022   1.403262   0.297421  1.106613  0.977274   \n",
       "\n",
       "             K         Ca        Sc        Ti  ...        Te        Ba  \\\n",
       "0     0.006428   4.724324  0.006428  0.077215  ...  0.000643  0.000643   \n",
       "1     0.006463   8.310807  0.006463  0.066695  ...  0.000646  0.000646   \n",
       "2     1.492703   2.414028  0.005866  0.099020  ...  0.000587  0.000587   \n",
       "3    10.897874   0.612652  0.005103  0.113849  ...  0.000510  0.000510   \n",
       "4     0.980636   1.813253  0.005242  0.183108  ...  0.000524  0.000524   \n",
       "..         ...        ...       ...       ...  ...       ...       ...   \n",
       "119   1.084590  21.655636  0.006749  3.927956  ...  0.000675  0.000675   \n",
       "120   0.006966   2.025228  0.006966  0.458264  ...  0.000697  0.000697   \n",
       "121   0.006397   3.183380  0.006397  0.083665  ...  0.000640  0.000640   \n",
       "122   4.922627  22.227631  0.006898  0.857457  ...  0.000690  0.027978   \n",
       "123   0.006041  86.738258  0.006041  0.006041  ...  0.000604  0.000604   \n",
       "\n",
       "           Ta         W        Au        Hg        Tl        Pb        Th  \\\n",
       "0    0.000643  0.000643  0.000643  0.020990  0.000643  0.000010  0.000643   \n",
       "1    0.000646  0.000646  0.000646  0.022456  0.000646  0.000010  0.000646   \n",
       "2    0.000587  0.000587  0.000587  0.000587  0.000587  0.000010  0.000587   \n",
       "3    0.001833  0.000510  0.000510  0.000510  0.000949  0.000010  0.000510   \n",
       "4    0.002694  0.000524  0.000524  0.000524  0.000524  0.000010  0.000524   \n",
       "..        ...       ...       ...       ...       ...       ...       ...   \n",
       "119  0.000675  0.030442  0.000675  0.000675  0.000675  0.000010  0.000675   \n",
       "120  0.000697  0.000697  0.000697  0.000697  0.000697  0.000010  0.000697   \n",
       "121  0.000640  0.000640  0.000640  0.000640  0.000640  0.000056  0.000640   \n",
       "122  0.000690  0.000690  0.000690  0.000690  0.000690  0.000010  0.000690   \n",
       "123  0.000604  0.000604  0.000604  0.000604  0.000604  0.000010  0.000604   \n",
       "\n",
       "                             target  \n",
       "0    Phosphates,Arsenates,Vanadates  \n",
       "1    Phosphates,Arsenates,Vanadates  \n",
       "2                         Silicates  \n",
       "3                         Silicates  \n",
       "4    Phosphates,Arsenates,Vanadates  \n",
       "..                              ...  \n",
       "119                       Silicates  \n",
       "120                          Oxides  \n",
       "121                          Oxides  \n",
       "122            Carbonates(Nitrates)  \n",
       "123                         Halides  \n",
       "\n",
       "[124 rows x 46 columns]"
      ]
     },
     "execution_count": 34,
     "metadata": {},
     "output_type": "execute_result"
    }
   ],
   "source": [
    "vs1"
   ]
  },
  {
   "cell_type": "markdown",
   "id": "fa6f159e",
   "metadata": {},
   "source": [
    "#### Creating our Classification function"
   ]
  },
  {
   "cell_type": "code",
   "execution_count": 10,
   "id": "0cea3e0d",
   "metadata": {
    "tags": []
   },
   "outputs": [
    {
     "data": {
      "text/plain": [
       "0       Phosphates,Arsenates,Vanadates\n",
       "1       Phosphates,Arsenates,Vanadates\n",
       "2       Phosphates,Arsenates,Vanadates\n",
       "3       Phosphates,Arsenates,Vanadates\n",
       "4       Phosphates,Arsenates,Vanadates\n",
       "                     ...              \n",
       "1238    Phosphates,Arsenates,Vanadates\n",
       "1239    Phosphates,Arsenates,Vanadates\n",
       "1240                         Silicates\n",
       "1241                         Silicates\n",
       "1242                           Halides\n",
       "Name: target, Length: 1243, dtype: object"
      ]
     },
     "execution_count": 10,
     "metadata": {},
     "output_type": "execute_result"
    }
   ],
   "source": [
    "# classficiation function\n",
    "X = df.drop(['target'], axis=1)\n",
    "y = df['target']\n",
    "y"
   ]
  },
  {
   "cell_type": "markdown",
   "id": "4f6017ee",
   "metadata": {},
   "source": [
    "####  Handling Imbalance (Subsampling majority class)\n",
    "We used [The Condensed Nearest Neighbour Rule](https://ieeexplore.ieee.org/document/1054155) to keep only non-redundant data on majority class \"Variscite\".\n",
    "\n",
    "Setting a number of 3 neighbors has proven to be optimal in eliminating redundant cases.\n",
    "\n",
    "* Note that resulted undersampled dataset accounts for just 251 Phosphates cases"
   ]
  },
  {
   "cell_type": "code",
   "execution_count": 11,
   "id": "82b27cd2",
   "metadata": {
    "tags": []
   },
   "outputs": [
    {
     "data": {
      "text/plain": [
       "Phosphates,Arsenates,Vanadates    251\n",
       "Silicates                         243\n",
       "Carbonates(Nitrates)               42\n",
       "Oxides                             14\n",
       "Halides                             8\n",
       "Sulfates                            5\n",
       "Name: target, dtype: int64"
      ]
     },
     "execution_count": 11,
     "metadata": {},
     "output_type": "execute_result"
    },
    {
     "data": {
      "image/png": "[encoded data removed]",
      "text/plain": [
       "<Figure size 800x550 with 1 Axes>"
      ]
     },
     "metadata": {},
     "output_type": "display_data"
    }
   ],
   "source": [
    "undersample = CondensedNearestNeighbour(sampling_strategy=['Phosphates,Arsenates,Vanadates'], n_neighbors=5, n_seeds_S= 250, random_state=123)\n",
    "X_cnn, y_cnn = undersample.fit_resample(X, y)\n",
    "y_cnn.value_counts().plot(kind='bar')\n",
    "#plt.savefig('CondensedNN_distribution_1.png',dpi=200, bbox_inches='tight')\n",
    "y_cnn.value_counts()"
   ]
  },
  {
   "cell_type": "markdown",
   "id": "f5771683",
   "metadata": {},
   "source": [
    "#### Data Aumentagtion of minority classes (SMOTE)\n",
    "We carry out the Synthetic Minority Oversampling Technique"
   ]
  },
  {
   "cell_type": "code",
   "execution_count": 12,
   "id": "d5a76f95",
   "metadata": {
    "tags": []
   },
   "outputs": [
    {
     "data": {
      "text/plain": [
       "Carbonates(Nitrates)              251\n",
       "Halides                           251\n",
       "Oxides                            251\n",
       "Phosphates,Arsenates,Vanadates    251\n",
       "Silicates                         251\n",
       "Sulfates                          251\n",
       "Name: target, dtype: int64"
      ]
     },
     "execution_count": 12,
     "metadata": {},
     "output_type": "execute_result"
    },
    {
     "data": {
      "image/png": "[encoded data removed]",
      "text/plain": [
       "<Figure size 800x550 with 1 Axes>"
      ]
     },
     "metadata": {},
     "output_type": "display_data"
    }
   ],
   "source": [
    "# oversampling strategy\n",
    "smote = SMOTE(k_neighbors=3)\n",
    "X_smote, y_smote = smote.fit_resample(X_cnn, y_cnn)\n",
    "\n",
    "y_smote.value_counts().plot(kind='bar')\n",
    "#plt.savefig('SMOTE_distribution.png',dpi=200, bbox_inches='tight')\n",
    "y_smote.value_counts()"
   ]
  },
  {
   "cell_type": "code",
   "execution_count": 13,
   "id": "99f34b37",
   "metadata": {
    "tags": []
   },
   "outputs": [],
   "source": [
    "# Creating final resampled dataset\n",
    "smote_data = X_smote\n",
    "smote_data['target'] = y_smote"
   ]
  },
  {
   "cell_type": "code",
   "execution_count": 14,
   "id": "10a0f9ac",
   "metadata": {
    "tags": []
   },
   "outputs": [
    {
     "name": "stdout",
     "output_type": "stream",
     "text": [
      "<class 'pandas.core.frame.DataFrame'>\n",
      "RangeIndex: 1506 entries, 0 to 1505\n",
      "Data columns (total 46 columns):\n",
      " #   Column  Non-Null Count  Dtype  \n",
      "---  ------  --------------  -----  \n",
      " 0   Mg      1506 non-null   float64\n",
      " 1   Al      1506 non-null   float64\n",
      " 2   Si      1506 non-null   float64\n",
      " 3   P       1506 non-null   float64\n",
      " 4   S       1506 non-null   float64\n",
      " 5   Cl      1506 non-null   float64\n",
      " 6   K       1506 non-null   float64\n",
      " 7   Ca      1506 non-null   float64\n",
      " 8   Sc      1506 non-null   float64\n",
      " 9   Ti      1506 non-null   float64\n",
      " 10  V       1506 non-null   float64\n",
      " 11  Cr      1506 non-null   float64\n",
      " 12  Mn      1506 non-null   float64\n",
      " 13  Fe      1506 non-null   float64\n",
      " 14  Co      1506 non-null   float64\n",
      " 15  Ni      1506 non-null   float64\n",
      " 16  Cu      1506 non-null   float64\n",
      " 17  Zn      1506 non-null   float64\n",
      " 18  Ga      1506 non-null   float64\n",
      " 19  Ge      1506 non-null   float64\n",
      " 20  As      1506 non-null   float64\n",
      " 21  Se      1506 non-null   float64\n",
      " 22  Br      1506 non-null   float64\n",
      " 23  Rb      1506 non-null   float64\n",
      " 24  Sr      1506 non-null   float64\n",
      " 25  Y       1506 non-null   float64\n",
      " 26  Zr      1506 non-null   float64\n",
      " 27  Nb      1506 non-null   float64\n",
      " 28  Mo      1506 non-null   float64\n",
      " 29  Ru      1506 non-null   float64\n",
      " 30  Pd      1506 non-null   float64\n",
      " 31  Ag      1506 non-null   float64\n",
      " 32  Cd      1506 non-null   float64\n",
      " 33  In      1506 non-null   float64\n",
      " 34  Sn      1506 non-null   float64\n",
      " 35  Sb      1506 non-null   float64\n",
      " 36  Te      1506 non-null   float64\n",
      " 37  Ba      1506 non-null   float64\n",
      " 38  Ta      1506 non-null   float64\n",
      " 39  W       1506 non-null   float64\n",
      " 40  Au      1506 non-null   float64\n",
      " 41  Hg      1506 non-null   float64\n",
      " 42  Tl      1506 non-null   float64\n",
      " 43  Pb      1506 non-null   float64\n",
      " 44  Th      1506 non-null   float64\n",
      " 45  target  1506 non-null   object \n",
      "dtypes: float64(45), object(1)\n",
      "memory usage: 541.3+ KB\n"
     ]
    }
   ],
   "source": [
    "# Final dataset shape after resampling\n",
    "smote_data.shape\n",
    "smote_data.info()"
   ]
  },
  {
   "cell_type": "markdown",
   "id": "9b981e19",
   "metadata": {},
   "source": [
    "#### Creating Validation Set 2 (VS2) (10%)\n",
    "* Note that this subset contains synthetic data"
   ]
  },
  {
   "cell_type": "code",
   "execution_count": 15,
   "id": "4dd9ffdd",
   "metadata": {
    "tags": []
   },
   "outputs": [
    {
     "name": "stdout",
     "output_type": "stream",
     "text": [
      "Data for model development: (1355, 46)\n",
      "Data for vs2: (151, 46)\n"
     ]
    }
   ],
   "source": [
    "# Second Data split. 10% Held-out for validation\n",
    "data = smote_data.sample(frac=0.90, random_state=786)\n",
    "vs2 = smote_data.drop(data.index)\n",
    "data.reset_index(inplace=True, drop=True)\n",
    "vs2.reset_index(inplace=True, drop=True)\n",
    "print('Data for model development: ' + str(data.shape))\n",
    "print('Data for vs2: ' + str(vs2.shape))"
   ]
  },
  {
   "cell_type": "markdown",
   "id": "a2a09f57",
   "metadata": {},
   "source": [
    "### Model Development\n",
    "\n",
    "Once the data preprocessing is finished, we are going to develop a multiclass classification model.\n",
    "For evaluation and comparison of the different algorithms, a stratified cross-validation resampling technique has been used using 80% of the data for training. For Development pourposes we use Pycaret, a library that offers several machine learing tools on top of scikit-learn\n",
    "\n",
    "**session_id parameter generates a seed for later reproducibility**\n"
   ]
  },
  {
   "cell_type": "code",
   "execution_count": 16,
   "id": "4d6db11a",
   "metadata": {},
   "outputs": [
    {
     "data": {
      "text/html": [
       "<style type=\"text/css\">\n",
       "#T_4eac3_row9_col1 {\n",
       "  background-color: lightgreen;\n",
       "}\n",
       "</style>\n",
       "<table id=\"T_4eac3\">\n",
       "  <thead>\n",
       "    <tr>\n",
       "      <th class=\"blank level0\" >&nbsp;</th>\n",
       "      <th id=\"T_4eac3_level0_col0\" class=\"col_heading level0 col0\" >Description</th>\n",
       "      <th id=\"T_4eac3_level0_col1\" class=\"col_heading level0 col1\" >Value</th>\n",
       "    </tr>\n",
       "  </thead>\n",
       "  <tbody>\n",
       "    <tr>\n",
       "      <th id=\"T_4eac3_level0_row0\" class=\"row_heading level0 row0\" >0</th>\n",
       "      <td id=\"T_4eac3_row0_col0\" class=\"data row0 col0\" >Session id</td>\n",
       "      <td id=\"T_4eac3_row0_col1\" class=\"data row0 col1\" >123</td>\n",
       "    </tr>\n",
       "    <tr>\n",
       "      <th id=\"T_4eac3_level0_row1\" class=\"row_heading level0 row1\" >1</th>\n",
       "      <td id=\"T_4eac3_row1_col0\" class=\"data row1 col0\" >Target</td>\n",
       "      <td id=\"T_4eac3_row1_col1\" class=\"data row1 col1\" >target</td>\n",
       "    </tr>\n",
       "    <tr>\n",
       "      <th id=\"T_4eac3_level0_row2\" class=\"row_heading level0 row2\" >2</th>\n",
       "      <td id=\"T_4eac3_row2_col0\" class=\"data row2 col0\" >Target type</td>\n",
       "      <td id=\"T_4eac3_row2_col1\" class=\"data row2 col1\" >Multiclass</td>\n",
       "    </tr>\n",
       "    <tr>\n",
       "      <th id=\"T_4eac3_level0_row3\" class=\"row_heading level0 row3\" >3</th>\n",
       "      <td id=\"T_4eac3_row3_col0\" class=\"data row3 col0\" >Target mapping</td>\n",
       "      <td id=\"T_4eac3_row3_col1\" class=\"data row3 col1\" >Carbonates(Nitrates): 0, Halides: 1, Oxides: 2, Phosphates,Arsenates,Vanadates: 3, Silicates: 4, Sulfates: 5</td>\n",
       "    </tr>\n",
       "    <tr>\n",
       "      <th id=\"T_4eac3_level0_row4\" class=\"row_heading level0 row4\" >4</th>\n",
       "      <td id=\"T_4eac3_row4_col0\" class=\"data row4 col0\" >Original data shape</td>\n",
       "      <td id=\"T_4eac3_row4_col1\" class=\"data row4 col1\" >(1355, 46)</td>\n",
       "    </tr>\n",
       "    <tr>\n",
       "      <th id=\"T_4eac3_level0_row5\" class=\"row_heading level0 row5\" >5</th>\n",
       "      <td id=\"T_4eac3_row5_col0\" class=\"data row5 col0\" >Transformed data shape</td>\n",
       "      <td id=\"T_4eac3_row5_col1\" class=\"data row5 col1\" >(1355, 46)</td>\n",
       "    </tr>\n",
       "    <tr>\n",
       "      <th id=\"T_4eac3_level0_row6\" class=\"row_heading level0 row6\" >6</th>\n",
       "      <td id=\"T_4eac3_row6_col0\" class=\"data row6 col0\" >Transformed train set shape</td>\n",
       "      <td id=\"T_4eac3_row6_col1\" class=\"data row6 col1\" >(1084, 46)</td>\n",
       "    </tr>\n",
       "    <tr>\n",
       "      <th id=\"T_4eac3_level0_row7\" class=\"row_heading level0 row7\" >7</th>\n",
       "      <td id=\"T_4eac3_row7_col0\" class=\"data row7 col0\" >Transformed test set shape</td>\n",
       "      <td id=\"T_4eac3_row7_col1\" class=\"data row7 col1\" >(271, 46)</td>\n",
       "    </tr>\n",
       "    <tr>\n",
       "      <th id=\"T_4eac3_level0_row8\" class=\"row_heading level0 row8\" >8</th>\n",
       "      <td id=\"T_4eac3_row8_col0\" class=\"data row8 col0\" >Numeric features</td>\n",
       "      <td id=\"T_4eac3_row8_col1\" class=\"data row8 col1\" >45</td>\n",
       "    </tr>\n",
       "    <tr>\n",
       "      <th id=\"T_4eac3_level0_row9\" class=\"row_heading level0 row9\" >9</th>\n",
       "      <td id=\"T_4eac3_row9_col0\" class=\"data row9 col0\" >Preprocess</td>\n",
       "      <td id=\"T_4eac3_row9_col1\" class=\"data row9 col1\" >True</td>\n",
       "    </tr>\n",
       "    <tr>\n",
       "      <th id=\"T_4eac3_level0_row10\" class=\"row_heading level0 row10\" >10</th>\n",
       "      <td id=\"T_4eac3_row10_col0\" class=\"data row10 col0\" >Imputation type</td>\n",
       "      <td id=\"T_4eac3_row10_col1\" class=\"data row10 col1\" >simple</td>\n",
       "    </tr>\n",
       "    <tr>\n",
       "      <th id=\"T_4eac3_level0_row11\" class=\"row_heading level0 row11\" >11</th>\n",
       "      <td id=\"T_4eac3_row11_col0\" class=\"data row11 col0\" >Numeric imputation</td>\n",
       "      <td id=\"T_4eac3_row11_col1\" class=\"data row11 col1\" >mean</td>\n",
       "    </tr>\n",
       "    <tr>\n",
       "      <th id=\"T_4eac3_level0_row12\" class=\"row_heading level0 row12\" >12</th>\n",
       "      <td id=\"T_4eac3_row12_col0\" class=\"data row12 col0\" >Categorical imputation</td>\n",
       "      <td id=\"T_4eac3_row12_col1\" class=\"data row12 col1\" >mode</td>\n",
       "    </tr>\n",
       "    <tr>\n",
       "      <th id=\"T_4eac3_level0_row13\" class=\"row_heading level0 row13\" >13</th>\n",
       "      <td id=\"T_4eac3_row13_col0\" class=\"data row13 col0\" >Fold Generator</td>\n",
       "      <td id=\"T_4eac3_row13_col1\" class=\"data row13 col1\" >StratifiedKFold</td>\n",
       "    </tr>\n",
       "    <tr>\n",
       "      <th id=\"T_4eac3_level0_row14\" class=\"row_heading level0 row14\" >14</th>\n",
       "      <td id=\"T_4eac3_row14_col0\" class=\"data row14 col0\" >Fold Number</td>\n",
       "      <td id=\"T_4eac3_row14_col1\" class=\"data row14 col1\" >10</td>\n",
       "    </tr>\n",
       "    <tr>\n",
       "      <th id=\"T_4eac3_level0_row15\" class=\"row_heading level0 row15\" >15</th>\n",
       "      <td id=\"T_4eac3_row15_col0\" class=\"data row15 col0\" >CPU Jobs</td>\n",
       "      <td id=\"T_4eac3_row15_col1\" class=\"data row15 col1\" >-1</td>\n",
       "    </tr>\n",
       "    <tr>\n",
       "      <th id=\"T_4eac3_level0_row16\" class=\"row_heading level0 row16\" >16</th>\n",
       "      <td id=\"T_4eac3_row16_col0\" class=\"data row16 col0\" >Use GPU</td>\n",
       "      <td id=\"T_4eac3_row16_col1\" class=\"data row16 col1\" >False</td>\n",
       "    </tr>\n",
       "    <tr>\n",
       "      <th id=\"T_4eac3_level0_row17\" class=\"row_heading level0 row17\" >17</th>\n",
       "      <td id=\"T_4eac3_row17_col0\" class=\"data row17 col0\" >Log Experiment</td>\n",
       "      <td id=\"T_4eac3_row17_col1\" class=\"data row17 col1\" >False</td>\n",
       "    </tr>\n",
       "    <tr>\n",
       "      <th id=\"T_4eac3_level0_row18\" class=\"row_heading level0 row18\" >18</th>\n",
       "      <td id=\"T_4eac3_row18_col0\" class=\"data row18 col0\" >Experiment Name</td>\n",
       "      <td id=\"T_4eac3_row18_col1\" class=\"data row18 col1\" >clf-default-name</td>\n",
       "    </tr>\n",
       "    <tr>\n",
       "      <th id=\"T_4eac3_level0_row19\" class=\"row_heading level0 row19\" >19</th>\n",
       "      <td id=\"T_4eac3_row19_col0\" class=\"data row19 col0\" >USI</td>\n",
       "      <td id=\"T_4eac3_row19_col1\" class=\"data row19 col1\" >2a98</td>\n",
       "    </tr>\n",
       "  </tbody>\n",
       "</table>\n"
      ],
      "text/plain": [
       "<pandas.io.formats.style.Styler at 0x7efc947f8190>"
      ]
     },
     "metadata": {},
     "output_type": "display_data"
    }
   ],
   "source": [
    "# Setup del experimento. El parametro target crea la función de clasificación y apunta a la variable 'target' en el dataset \n",
    "# Experiment setup \n",
    "\n",
    "experiment = setup(data=data, target= 'target',train_size=0.8, session_id=123)\n"
   ]
  },
  {
   "cell_type": "code",
   "execution_count": 17,
   "id": "bec9c73c",
   "metadata": {},
   "outputs": [],
   "source": [
    "remove_metric('MCC')\n",
    "remove_metric('Kappa')\n",
    "remove_metric('AUC')\n",
    "#'AUC', , 'MCC'"
   ]
  },
  {
   "cell_type": "markdown",
   "id": "991870ad",
   "metadata": {},
   "source": [
    "### Algorithm Experimentation\n",
    "\n",
    "This function trains and evaluates the performance of all the estimators available in the model library \n",
    "using cross-validation. The output of this function is a scoring grid with average cross-validated scores.\n",
    "Metrics evaluated during CV can be accessed using the get_metrics function. Custom metrics can be added or removed \n",
    "using add_metric and remove_metric function.\n"
   ]
  },
  {
   "cell_type": "code",
   "execution_count": 18,
   "id": "560b3021",
   "metadata": {},
   "outputs": [
    {
     "data": {
      "text/html": [],
      "text/plain": [
       "<IPython.core.display.HTML object>"
      ]
     },
     "metadata": {},
     "output_type": "display_data"
    },
    {
     "data": {
      "text/html": [
       "<style type=\"text/css\">\n",
       "#T_e3942 th {\n",
       "  text-align: left;\n",
       "}\n",
       "#T_e3942_row0_col0, #T_e3942_row1_col0, #T_e3942_row1_col1, #T_e3942_row1_col2, #T_e3942_row1_col3, #T_e3942_row1_col4, #T_e3942_row2_col0, #T_e3942_row2_col1, #T_e3942_row2_col2, #T_e3942_row2_col3, #T_e3942_row2_col4, #T_e3942_row3_col0, #T_e3942_row3_col1, #T_e3942_row3_col2, #T_e3942_row3_col3, #T_e3942_row3_col4, #T_e3942_row4_col0, #T_e3942_row4_col1, #T_e3942_row4_col2, #T_e3942_row4_col3, #T_e3942_row4_col4, #T_e3942_row5_col0, #T_e3942_row5_col1, #T_e3942_row5_col2, #T_e3942_row5_col3, #T_e3942_row5_col4, #T_e3942_row6_col0, #T_e3942_row6_col1, #T_e3942_row6_col2, #T_e3942_row6_col3, #T_e3942_row6_col4, #T_e3942_row7_col0, #T_e3942_row7_col1, #T_e3942_row7_col2, #T_e3942_row7_col3, #T_e3942_row7_col4, #T_e3942_row8_col0, #T_e3942_row8_col1, #T_e3942_row8_col2, #T_e3942_row8_col3, #T_e3942_row8_col4, #T_e3942_row9_col0, #T_e3942_row9_col1, #T_e3942_row9_col2, #T_e3942_row9_col3, #T_e3942_row9_col4, #T_e3942_row10_col0, #T_e3942_row10_col1, #T_e3942_row10_col2, #T_e3942_row10_col3, #T_e3942_row10_col4, #T_e3942_row11_col0, #T_e3942_row11_col1, #T_e3942_row11_col2, #T_e3942_row11_col3, #T_e3942_row11_col4, #T_e3942_row12_col0, #T_e3942_row12_col1, #T_e3942_row12_col2, #T_e3942_row12_col3, #T_e3942_row12_col4, #T_e3942_row13_col0, #T_e3942_row13_col1, #T_e3942_row13_col2, #T_e3942_row13_col3, #T_e3942_row13_col4 {\n",
       "  text-align: left;\n",
       "}\n",
       "#T_e3942_row0_col1, #T_e3942_row0_col2, #T_e3942_row0_col3, #T_e3942_row0_col4 {\n",
       "  text-align: left;\n",
       "  background-color: yellow;\n",
       "}\n",
       "#T_e3942_row0_col5, #T_e3942_row1_col5, #T_e3942_row2_col5, #T_e3942_row3_col5, #T_e3942_row4_col5, #T_e3942_row5_col5, #T_e3942_row6_col5, #T_e3942_row7_col5, #T_e3942_row8_col5, #T_e3942_row9_col5, #T_e3942_row11_col5, #T_e3942_row12_col5, #T_e3942_row13_col5 {\n",
       "  text-align: left;\n",
       "  background-color: lightgrey;\n",
       "}\n",
       "#T_e3942_row10_col5 {\n",
       "  text-align: left;\n",
       "  background-color: yellow;\n",
       "  background-color: lightgrey;\n",
       "}\n",
       "</style>\n",
       "<table id=\"T_e3942\">\n",
       "  <thead>\n",
       "    <tr>\n",
       "      <th class=\"blank level0\" >&nbsp;</th>\n",
       "      <th id=\"T_e3942_level0_col0\" class=\"col_heading level0 col0\" >Model</th>\n",
       "      <th id=\"T_e3942_level0_col1\" class=\"col_heading level0 col1\" >Accuracy</th>\n",
       "      <th id=\"T_e3942_level0_col2\" class=\"col_heading level0 col2\" >Recall</th>\n",
       "      <th id=\"T_e3942_level0_col3\" class=\"col_heading level0 col3\" >Prec.</th>\n",
       "      <th id=\"T_e3942_level0_col4\" class=\"col_heading level0 col4\" >F1</th>\n",
       "      <th id=\"T_e3942_level0_col5\" class=\"col_heading level0 col5\" >TT (Sec)</th>\n",
       "    </tr>\n",
       "  </thead>\n",
       "  <tbody>\n",
       "    <tr>\n",
       "      <th id=\"T_e3942_level0_row0\" class=\"row_heading level0 row0\" >catboost</th>\n",
       "      <td id=\"T_e3942_row0_col0\" class=\"data row0 col0\" >CatBoost Classifier</td>\n",
       "      <td id=\"T_e3942_row0_col1\" class=\"data row0 col1\" >0.9797</td>\n",
       "      <td id=\"T_e3942_row0_col2\" class=\"data row0 col2\" >0.9797</td>\n",
       "      <td id=\"T_e3942_row0_col3\" class=\"data row0 col3\" >0.9806</td>\n",
       "      <td id=\"T_e3942_row0_col4\" class=\"data row0 col4\" >0.9796</td>\n",
       "      <td id=\"T_e3942_row0_col5\" class=\"data row0 col5\" >44.5840</td>\n",
       "    </tr>\n",
       "    <tr>\n",
       "      <th id=\"T_e3942_level0_row1\" class=\"row_heading level0 row1\" >xgboost</th>\n",
       "      <td id=\"T_e3942_row1_col0\" class=\"data row1 col0\" >Extreme Gradient Boosting</td>\n",
       "      <td id=\"T_e3942_row1_col1\" class=\"data row1 col1\" >0.9779</td>\n",
       "      <td id=\"T_e3942_row1_col2\" class=\"data row1 col2\" >0.9779</td>\n",
       "      <td id=\"T_e3942_row1_col3\" class=\"data row1 col3\" >0.9788</td>\n",
       "      <td id=\"T_e3942_row1_col4\" class=\"data row1 col4\" >0.9777</td>\n",
       "      <td id=\"T_e3942_row1_col5\" class=\"data row1 col5\" >0.7660</td>\n",
       "    </tr>\n",
       "    <tr>\n",
       "      <th id=\"T_e3942_level0_row2\" class=\"row_heading level0 row2\" >lightgbm</th>\n",
       "      <td id=\"T_e3942_row2_col0\" class=\"data row2 col0\" >Light Gradient Boosting Machine</td>\n",
       "      <td id=\"T_e3942_row2_col1\" class=\"data row2 col1\" >0.9770</td>\n",
       "      <td id=\"T_e3942_row2_col2\" class=\"data row2 col2\" >0.9770</td>\n",
       "      <td id=\"T_e3942_row2_col3\" class=\"data row2 col3\" >0.9776</td>\n",
       "      <td id=\"T_e3942_row2_col4\" class=\"data row2 col4\" >0.9768</td>\n",
       "      <td id=\"T_e3942_row2_col5\" class=\"data row2 col5\" >1.5540</td>\n",
       "    </tr>\n",
       "    <tr>\n",
       "      <th id=\"T_e3942_level0_row3\" class=\"row_heading level0 row3\" >et</th>\n",
       "      <td id=\"T_e3942_row3_col0\" class=\"data row3 col0\" >Extra Trees Classifier</td>\n",
       "      <td id=\"T_e3942_row3_col1\" class=\"data row3 col1\" >0.9760</td>\n",
       "      <td id=\"T_e3942_row3_col2\" class=\"data row3 col2\" >0.9760</td>\n",
       "      <td id=\"T_e3942_row3_col3\" class=\"data row3 col3\" >0.9771</td>\n",
       "      <td id=\"T_e3942_row3_col4\" class=\"data row3 col4\" >0.9758</td>\n",
       "      <td id=\"T_e3942_row3_col5\" class=\"data row3 col5\" >0.3210</td>\n",
       "    </tr>\n",
       "    <tr>\n",
       "      <th id=\"T_e3942_level0_row4\" class=\"row_heading level0 row4\" >rf</th>\n",
       "      <td id=\"T_e3942_row4_col0\" class=\"data row4 col0\" >Random Forest Classifier</td>\n",
       "      <td id=\"T_e3942_row4_col1\" class=\"data row4 col1\" >0.9742</td>\n",
       "      <td id=\"T_e3942_row4_col2\" class=\"data row4 col2\" >0.9742</td>\n",
       "      <td id=\"T_e3942_row4_col3\" class=\"data row4 col3\" >0.9752</td>\n",
       "      <td id=\"T_e3942_row4_col4\" class=\"data row4 col4\" >0.9741</td>\n",
       "      <td id=\"T_e3942_row4_col5\" class=\"data row4 col5\" >0.3140</td>\n",
       "    </tr>\n",
       "    <tr>\n",
       "      <th id=\"T_e3942_level0_row5\" class=\"row_heading level0 row5\" >dt</th>\n",
       "      <td id=\"T_e3942_row5_col0\" class=\"data row5 col0\" >Decision Tree Classifier</td>\n",
       "      <td id=\"T_e3942_row5_col1\" class=\"data row5 col1\" >0.9521</td>\n",
       "      <td id=\"T_e3942_row5_col2\" class=\"data row5 col2\" >0.9521</td>\n",
       "      <td id=\"T_e3942_row5_col3\" class=\"data row5 col3\" >0.9531</td>\n",
       "      <td id=\"T_e3942_row5_col4\" class=\"data row5 col4\" >0.9518</td>\n",
       "      <td id=\"T_e3942_row5_col5\" class=\"data row5 col5\" >0.0460</td>\n",
       "    </tr>\n",
       "    <tr>\n",
       "      <th id=\"T_e3942_level0_row6\" class=\"row_heading level0 row6\" >knn</th>\n",
       "      <td id=\"T_e3942_row6_col0\" class=\"data row6 col0\" >K Neighbors Classifier</td>\n",
       "      <td id=\"T_e3942_row6_col1\" class=\"data row6 col1\" >0.9354</td>\n",
       "      <td id=\"T_e3942_row6_col2\" class=\"data row6 col2\" >0.9354</td>\n",
       "      <td id=\"T_e3942_row6_col3\" class=\"data row6 col3\" >0.9379</td>\n",
       "      <td id=\"T_e3942_row6_col4\" class=\"data row6 col4\" >0.9348</td>\n",
       "      <td id=\"T_e3942_row6_col5\" class=\"data row6 col5\" >0.0510</td>\n",
       "    </tr>\n",
       "    <tr>\n",
       "      <th id=\"T_e3942_level0_row7\" class=\"row_heading level0 row7\" >lr</th>\n",
       "      <td id=\"T_e3942_row7_col0\" class=\"data row7 col0\" >Logistic Regression</td>\n",
       "      <td id=\"T_e3942_row7_col1\" class=\"data row7 col1\" >0.9087</td>\n",
       "      <td id=\"T_e3942_row7_col2\" class=\"data row7 col2\" >0.9087</td>\n",
       "      <td id=\"T_e3942_row7_col3\" class=\"data row7 col3\" >0.9116</td>\n",
       "      <td id=\"T_e3942_row7_col4\" class=\"data row7 col4\" >0.9061</td>\n",
       "      <td id=\"T_e3942_row7_col5\" class=\"data row7 col5\" >0.7660</td>\n",
       "    </tr>\n",
       "    <tr>\n",
       "      <th id=\"T_e3942_level0_row8\" class=\"row_heading level0 row8\" >lda</th>\n",
       "      <td id=\"T_e3942_row8_col0\" class=\"data row8 col0\" >Linear Discriminant Analysis</td>\n",
       "      <td id=\"T_e3942_row8_col1\" class=\"data row8 col1\" >0.8874</td>\n",
       "      <td id=\"T_e3942_row8_col2\" class=\"data row8 col2\" >0.8874</td>\n",
       "      <td id=\"T_e3942_row8_col3\" class=\"data row8 col3\" >0.8988</td>\n",
       "      <td id=\"T_e3942_row8_col4\" class=\"data row8 col4\" >0.8827</td>\n",
       "      <td id=\"T_e3942_row8_col5\" class=\"data row8 col5\" >0.0740</td>\n",
       "    </tr>\n",
       "    <tr>\n",
       "      <th id=\"T_e3942_level0_row9\" class=\"row_heading level0 row9\" >nb</th>\n",
       "      <td id=\"T_e3942_row9_col0\" class=\"data row9 col0\" >Naive Bayes</td>\n",
       "      <td id=\"T_e3942_row9_col1\" class=\"data row9 col1\" >0.8811</td>\n",
       "      <td id=\"T_e3942_row9_col2\" class=\"data row9 col2\" >0.8811</td>\n",
       "      <td id=\"T_e3942_row9_col3\" class=\"data row9 col3\" >0.8861</td>\n",
       "      <td id=\"T_e3942_row9_col4\" class=\"data row9 col4\" >0.8762</td>\n",
       "      <td id=\"T_e3942_row9_col5\" class=\"data row9 col5\" >0.0370</td>\n",
       "    </tr>\n",
       "    <tr>\n",
       "      <th id=\"T_e3942_level0_row10\" class=\"row_heading level0 row10\" >ridge</th>\n",
       "      <td id=\"T_e3942_row10_col0\" class=\"data row10 col0\" >Ridge Classifier</td>\n",
       "      <td id=\"T_e3942_row10_col1\" class=\"data row10 col1\" >0.8238</td>\n",
       "      <td id=\"T_e3942_row10_col2\" class=\"data row10 col2\" >0.8238</td>\n",
       "      <td id=\"T_e3942_row10_col3\" class=\"data row10 col3\" >0.8547</td>\n",
       "      <td id=\"T_e3942_row10_col4\" class=\"data row10 col4\" >0.7951</td>\n",
       "      <td id=\"T_e3942_row10_col5\" class=\"data row10 col5\" >0.0360</td>\n",
       "    </tr>\n",
       "    <tr>\n",
       "      <th id=\"T_e3942_level0_row11\" class=\"row_heading level0 row11\" >svm</th>\n",
       "      <td id=\"T_e3942_row11_col0\" class=\"data row11 col0\" >SVM - Linear Kernel</td>\n",
       "      <td id=\"T_e3942_row11_col1\" class=\"data row11 col1\" >0.8237</td>\n",
       "      <td id=\"T_e3942_row11_col2\" class=\"data row11 col2\" >0.8237</td>\n",
       "      <td id=\"T_e3942_row11_col3\" class=\"data row11 col3\" >0.8361</td>\n",
       "      <td id=\"T_e3942_row11_col4\" class=\"data row11 col4\" >0.8052</td>\n",
       "      <td id=\"T_e3942_row11_col5\" class=\"data row11 col5\" >0.0450</td>\n",
       "    </tr>\n",
       "    <tr>\n",
       "      <th id=\"T_e3942_level0_row12\" class=\"row_heading level0 row12\" >qda</th>\n",
       "      <td id=\"T_e3942_row12_col0\" class=\"data row12 col0\" >Quadratic Discriminant Analysis</td>\n",
       "      <td id=\"T_e3942_row12_col1\" class=\"data row12 col1\" >0.5776</td>\n",
       "      <td id=\"T_e3942_row12_col2\" class=\"data row12 col2\" >0.5776</td>\n",
       "      <td id=\"T_e3942_row12_col3\" class=\"data row12 col3\" >0.6703</td>\n",
       "      <td id=\"T_e3942_row12_col4\" class=\"data row12 col4\" >0.5362</td>\n",
       "      <td id=\"T_e3942_row12_col5\" class=\"data row12 col5\" >0.0550</td>\n",
       "    </tr>\n",
       "    <tr>\n",
       "      <th id=\"T_e3942_level0_row13\" class=\"row_heading level0 row13\" >ada</th>\n",
       "      <td id=\"T_e3942_row13_col0\" class=\"data row13 col0\" >Ada Boost Classifier</td>\n",
       "      <td id=\"T_e3942_row13_col1\" class=\"data row13 col1\" >0.3570</td>\n",
       "      <td id=\"T_e3942_row13_col2\" class=\"data row13 col2\" >0.3570</td>\n",
       "      <td id=\"T_e3942_row13_col3\" class=\"data row13 col3\" >0.2984</td>\n",
       "      <td id=\"T_e3942_row13_col4\" class=\"data row13 col4\" >0.2250</td>\n",
       "      <td id=\"T_e3942_row13_col5\" class=\"data row13 col5\" >0.2740</td>\n",
       "    </tr>\n",
       "  </tbody>\n",
       "</table>\n"
      ],
      "text/plain": [
       "<pandas.io.formats.style.Styler at 0x7efc94b4ee50>"
      ]
     },
     "metadata": {},
     "output_type": "display_data"
    },
    {
     "data": {
      "application/vnd.jupyter.widget-view+json": {
       "model_id": "",
       "version_major": 2,
       "version_minor": 0
      },
      "text/plain": [
       "Processing:   0%|          | 0/61 [00:00<?, ?it/s]"
      ]
     },
     "metadata": {},
     "output_type": "display_data"
    },
    {
     "data": {
      "text/plain": [
       "<catboost.core.CatBoostClassifier at 0x7efc9467ddf0>"
      ]
     },
     "execution_count": 18,
     "metadata": {},
     "output_type": "execute_result"
    }
   ],
   "source": [
    "# Algorithm Experimentation\n",
    "compare_models(exclude = ['dummy', 'gbc'])"
   ]
  },
  {
   "cell_type": "code",
   "execution_count": 19,
   "id": "79fc48dc",
   "metadata": {},
   "outputs": [],
   "source": [
    "results = pull()\n",
    "\n",
    "#results.to_csv('./TABLES/model_benchmarking.csv')\n",
    "models = results.Model.tolist()"
   ]
  },
  {
   "cell_type": "markdown",
   "id": "4870844c-4cc2-4c20-8239-91fe2c7c2d14",
   "metadata": {},
   "source": [
    "#### Creating the model for further procedures. \n",
    "This function trains and evaluates the performance of a given estimator. \n",
    "The output of this function is a scoring grid with CV scores by fold. Metrics evaluated during CV can be accessed using the get_metrics function.\n",
    "Successive routines may lead to slightly different results in the ranking of the algorithms. We have used LightGBM because it has proven to be consistent across multiple comparison routines and otuperforms better ranked models after tunning. However, any of the evaluated algorithms can be used to create the model."
   ]
  },
  {
   "cell_type": "code",
   "execution_count": 20,
   "id": "4e68336e",
   "metadata": {},
   "outputs": [
    {
     "data": {
      "application/vnd.jupyter.widget-view+json": {
       "model_id": "88d4fe0a30564d638e79be6275f6d3c9",
       "version_major": 2,
       "version_minor": 0
      },
      "text/plain": [
       "Dropdown(description='Method', options=('CatBoost Classifier', 'Extreme Gradient Boosting', 'Light Gradient Bo…"
      ]
     },
     "metadata": {},
     "output_type": "display_data"
    }
   ],
   "source": [
    "# Selecting a model\n",
    "method = widgets.Dropdown(options=models,description='Method')\n",
    "display(method)"
   ]
  },
  {
   "cell_type": "code",
   "execution_count": 22,
   "id": "ea71ed56",
   "metadata": {},
   "outputs": [
    {
     "data": {
      "text/html": [],
      "text/plain": [
       "<IPython.core.display.HTML object>"
      ]
     },
     "metadata": {},
     "output_type": "display_data"
    },
    {
     "data": {
      "text/html": [
       "<style type=\"text/css\">\n",
       "#T_65e49_row10_col0, #T_65e49_row10_col1, #T_65e49_row10_col2, #T_65e49_row10_col3 {\n",
       "  background: yellow;\n",
       "}\n",
       "</style>\n",
       "<table id=\"T_65e49\">\n",
       "  <thead>\n",
       "    <tr>\n",
       "      <th class=\"blank level0\" >&nbsp;</th>\n",
       "      <th id=\"T_65e49_level0_col0\" class=\"col_heading level0 col0\" >Accuracy</th>\n",
       "      <th id=\"T_65e49_level0_col1\" class=\"col_heading level0 col1\" >Recall</th>\n",
       "      <th id=\"T_65e49_level0_col2\" class=\"col_heading level0 col2\" >Prec.</th>\n",
       "      <th id=\"T_65e49_level0_col3\" class=\"col_heading level0 col3\" >F1</th>\n",
       "    </tr>\n",
       "    <tr>\n",
       "      <th class=\"index_name level0\" >Fold</th>\n",
       "      <th class=\"blank col0\" >&nbsp;</th>\n",
       "      <th class=\"blank col1\" >&nbsp;</th>\n",
       "      <th class=\"blank col2\" >&nbsp;</th>\n",
       "      <th class=\"blank col3\" >&nbsp;</th>\n",
       "    </tr>\n",
       "  </thead>\n",
       "  <tbody>\n",
       "    <tr>\n",
       "      <th id=\"T_65e49_level0_row0\" class=\"row_heading level0 row0\" >0</th>\n",
       "      <td id=\"T_65e49_row0_col0\" class=\"data row0 col0\" >0.9817</td>\n",
       "      <td id=\"T_65e49_row0_col1\" class=\"data row0 col1\" >0.9817</td>\n",
       "      <td id=\"T_65e49_row0_col2\" class=\"data row0 col2\" >0.9834</td>\n",
       "      <td id=\"T_65e49_row0_col3\" class=\"data row0 col3\" >0.9815</td>\n",
       "    </tr>\n",
       "    <tr>\n",
       "      <th id=\"T_65e49_level0_row1\" class=\"row_heading level0 row1\" >1</th>\n",
       "      <td id=\"T_65e49_row1_col0\" class=\"data row1 col0\" >0.9541</td>\n",
       "      <td id=\"T_65e49_row1_col1\" class=\"data row1 col1\" >0.9541</td>\n",
       "      <td id=\"T_65e49_row1_col2\" class=\"data row1 col2\" >0.9549</td>\n",
       "      <td id=\"T_65e49_row1_col3\" class=\"data row1 col3\" >0.9534</td>\n",
       "    </tr>\n",
       "    <tr>\n",
       "      <th id=\"T_65e49_level0_row2\" class=\"row_heading level0 row2\" >2</th>\n",
       "      <td id=\"T_65e49_row2_col0\" class=\"data row2 col0\" >0.9725</td>\n",
       "      <td id=\"T_65e49_row2_col1\" class=\"data row2 col1\" >0.9725</td>\n",
       "      <td id=\"T_65e49_row2_col2\" class=\"data row2 col2\" >0.9724</td>\n",
       "      <td id=\"T_65e49_row2_col3\" class=\"data row2 col3\" >0.9722</td>\n",
       "    </tr>\n",
       "    <tr>\n",
       "      <th id=\"T_65e49_level0_row3\" class=\"row_heading level0 row3\" >3</th>\n",
       "      <td id=\"T_65e49_row3_col0\" class=\"data row3 col0\" >0.9817</td>\n",
       "      <td id=\"T_65e49_row3_col1\" class=\"data row3 col1\" >0.9817</td>\n",
       "      <td id=\"T_65e49_row3_col2\" class=\"data row3 col2\" >0.9821</td>\n",
       "      <td id=\"T_65e49_row3_col3\" class=\"data row3 col3\" >0.9816</td>\n",
       "    </tr>\n",
       "    <tr>\n",
       "      <th id=\"T_65e49_level0_row4\" class=\"row_heading level0 row4\" >4</th>\n",
       "      <td id=\"T_65e49_row4_col0\" class=\"data row4 col0\" >0.9722</td>\n",
       "      <td id=\"T_65e49_row4_col1\" class=\"data row4 col1\" >0.9722</td>\n",
       "      <td id=\"T_65e49_row4_col2\" class=\"data row4 col2\" >0.9737</td>\n",
       "      <td id=\"T_65e49_row4_col3\" class=\"data row4 col3\" >0.9719</td>\n",
       "    </tr>\n",
       "    <tr>\n",
       "      <th id=\"T_65e49_level0_row5\" class=\"row_heading level0 row5\" >5</th>\n",
       "      <td id=\"T_65e49_row5_col0\" class=\"data row5 col0\" >0.9907</td>\n",
       "      <td id=\"T_65e49_row5_col1\" class=\"data row5 col1\" >0.9907</td>\n",
       "      <td id=\"T_65e49_row5_col2\" class=\"data row5 col2\" >0.9912</td>\n",
       "      <td id=\"T_65e49_row5_col3\" class=\"data row5 col3\" >0.9907</td>\n",
       "    </tr>\n",
       "    <tr>\n",
       "      <th id=\"T_65e49_level0_row6\" class=\"row_heading level0 row6\" >6</th>\n",
       "      <td id=\"T_65e49_row6_col0\" class=\"data row6 col0\" >0.9815</td>\n",
       "      <td id=\"T_65e49_row6_col1\" class=\"data row6 col1\" >0.9815</td>\n",
       "      <td id=\"T_65e49_row6_col2\" class=\"data row6 col2\" >0.9824</td>\n",
       "      <td id=\"T_65e49_row6_col3\" class=\"data row6 col3\" >0.9815</td>\n",
       "    </tr>\n",
       "    <tr>\n",
       "      <th id=\"T_65e49_level0_row7\" class=\"row_heading level0 row7\" >7</th>\n",
       "      <td id=\"T_65e49_row7_col0\" class=\"data row7 col0\" >0.9722</td>\n",
       "      <td id=\"T_65e49_row7_col1\" class=\"data row7 col1\" >0.9722</td>\n",
       "      <td id=\"T_65e49_row7_col2\" class=\"data row7 col2\" >0.9722</td>\n",
       "      <td id=\"T_65e49_row7_col3\" class=\"data row7 col3\" >0.9722</td>\n",
       "    </tr>\n",
       "    <tr>\n",
       "      <th id=\"T_65e49_level0_row8\" class=\"row_heading level0 row8\" >8</th>\n",
       "      <td id=\"T_65e49_row8_col0\" class=\"data row8 col0\" >0.9815</td>\n",
       "      <td id=\"T_65e49_row8_col1\" class=\"data row8 col1\" >0.9815</td>\n",
       "      <td id=\"T_65e49_row8_col2\" class=\"data row8 col2\" >0.9820</td>\n",
       "      <td id=\"T_65e49_row8_col3\" class=\"data row8 col3\" >0.9815</td>\n",
       "    </tr>\n",
       "    <tr>\n",
       "      <th id=\"T_65e49_level0_row9\" class=\"row_heading level0 row9\" >9</th>\n",
       "      <td id=\"T_65e49_row9_col0\" class=\"data row9 col0\" >0.9815</td>\n",
       "      <td id=\"T_65e49_row9_col1\" class=\"data row9 col1\" >0.9815</td>\n",
       "      <td id=\"T_65e49_row9_col2\" class=\"data row9 col2\" >0.9815</td>\n",
       "      <td id=\"T_65e49_row9_col3\" class=\"data row9 col3\" >0.9815</td>\n",
       "    </tr>\n",
       "    <tr>\n",
       "      <th id=\"T_65e49_level0_row10\" class=\"row_heading level0 row10\" >Mean</th>\n",
       "      <td id=\"T_65e49_row10_col0\" class=\"data row10 col0\" >0.9770</td>\n",
       "      <td id=\"T_65e49_row10_col1\" class=\"data row10 col1\" >0.9770</td>\n",
       "      <td id=\"T_65e49_row10_col2\" class=\"data row10 col2\" >0.9776</td>\n",
       "      <td id=\"T_65e49_row10_col3\" class=\"data row10 col3\" >0.9768</td>\n",
       "    </tr>\n",
       "    <tr>\n",
       "      <th id=\"T_65e49_level0_row11\" class=\"row_heading level0 row11\" >Std</th>\n",
       "      <td id=\"T_65e49_row11_col0\" class=\"data row11 col0\" >0.0094</td>\n",
       "      <td id=\"T_65e49_row11_col1\" class=\"data row11 col1\" >0.0094</td>\n",
       "      <td id=\"T_65e49_row11_col2\" class=\"data row11 col2\" >0.0094</td>\n",
       "      <td id=\"T_65e49_row11_col3\" class=\"data row11 col3\" >0.0096</td>\n",
       "    </tr>\n",
       "  </tbody>\n",
       "</table>\n"
      ],
      "text/plain": [
       "<pandas.io.formats.style.Styler at 0x7efc95e29f40>"
      ]
     },
     "metadata": {},
     "output_type": "display_data"
    },
    {
     "data": {
      "application/vnd.jupyter.widget-view+json": {
       "model_id": "",
       "version_major": 2,
       "version_minor": 0
      },
      "text/plain": [
       "Processing:   0%|          | 0/4 [00:00<?, ?it/s]"
      ]
     },
     "metadata": {},
     "output_type": "display_data"
    }
   ],
   "source": [
    "#creating the model selected\n",
    "model_mappings = {\n",
    "    'CatBoost Classifier': ('CatBoost Classifier', {}),\n",
    "    'Light Gradient Boosting Machine': ('lightgbm', {'class_weight': 'balanced'}),\n",
    "    'Extreme Gradient Boosting': ('xgboost', {}),\n",
    "    'Extra Trees Classifier': ('et', {}),\n",
    "    'Random Forest Classifier': ('rf', {}),\n",
    "    'Decision Tree Classifier': ('dt', {}),\n",
    "    'K Neighbors Classifier': ('knn', {}),\n",
    "    'Naive Bayes': ('nb', {}),\n",
    "    'Linear Discriminant Analysis': ('lda', {}),\n",
    "    'Ridge Classifier': ('ridge', {}),\n",
    "    'SVM - Linear Kernel': ('svm', {}),\n",
    "    'Quadratic Discriminant Analysis': ('qda', {}),\n",
    "    'Ada Boost Classifier': ('ada', {}),\n",
    "    'Dummy Classifier': ('dummy', {}),\n",
    "}\n",
    "\n",
    "model_name, model_args = model_mappings.get(method.value, (None, None))\n",
    "\n",
    "if model_name is not None:\n",
    "    model = create_model(model_name, **model_args)\n",
    "else:\n",
    "    print(\"Method not found or not yet implemented.\")\n"
   ]
  },
  {
   "cell_type": "code",
   "execution_count": 23,
   "id": "9f277fcf-1443-45e4-b220-1d566db1df52",
   "metadata": {},
   "outputs": [
    {
     "data": {
      "text/html": [
       "<style>#sk-container-id-1 {color: black;background-color: white;}#sk-container-id-1 pre{padding: 0;}#sk-container-id-1 div.sk-toggleable {background-color: white;}#sk-container-id-1 label.sk-toggleable__label {cursor: pointer;display: block;width: 100%;margin-bottom: 0;padding: 0.3em;box-sizing: border-box;text-align: center;}#sk-container-id-1 label.sk-toggleable__label-arrow:before {content: \"▸\";float: left;margin-right: 0.25em;color: #696969;}#sk-container-id-1 label.sk-toggleable__label-arrow:hover:before {color: black;}#sk-container-id-1 div.sk-estimator:hover label.sk-toggleable__label-arrow:before {color: black;}#sk-container-id-1 div.sk-toggleable__content {max-height: 0;max-width: 0;overflow: hidden;text-align: left;background-color: #f0f8ff;}#sk-container-id-1 div.sk-toggleable__content pre {margin: 0.2em;color: black;border-radius: 0.25em;background-color: #f0f8ff;}#sk-container-id-1 input.sk-toggleable__control:checked~div.sk-toggleable__content {max-height: 200px;max-width: 100%;overflow: auto;}#sk-container-id-1 input.sk-toggleable__control:checked~label.sk-toggleable__label-arrow:before {content: \"▾\";}#sk-container-id-1 div.sk-estimator input.sk-toggleable__control:checked~label.sk-toggleable__label {background-color: #d4ebff;}#sk-container-id-1 div.sk-label input.sk-toggleable__control:checked~label.sk-toggleable__label {background-color: #d4ebff;}#sk-container-id-1 input.sk-hidden--visually {border: 0;clip: rect(1px 1px 1px 1px);clip: rect(1px, 1px, 1px, 1px);height: 1px;margin: -1px;overflow: hidden;padding: 0;position: absolute;width: 1px;}#sk-container-id-1 div.sk-estimator {font-family: monospace;background-color: #f0f8ff;border: 1px dotted black;border-radius: 0.25em;box-sizing: border-box;margin-bottom: 0.5em;}#sk-container-id-1 div.sk-estimator:hover {background-color: #d4ebff;}#sk-container-id-1 div.sk-parallel-item::after {content: \"\";width: 100%;border-bottom: 1px solid gray;flex-grow: 1;}#sk-container-id-1 div.sk-label:hover label.sk-toggleable__label {background-color: #d4ebff;}#sk-container-id-1 div.sk-serial::before {content: \"\";position: absolute;border-left: 1px solid gray;box-sizing: border-box;top: 0;bottom: 0;left: 50%;z-index: 0;}#sk-container-id-1 div.sk-serial {display: flex;flex-direction: column;align-items: center;background-color: white;padding-right: 0.2em;padding-left: 0.2em;position: relative;}#sk-container-id-1 div.sk-item {position: relative;z-index: 1;}#sk-container-id-1 div.sk-parallel {display: flex;align-items: stretch;justify-content: center;background-color: white;position: relative;}#sk-container-id-1 div.sk-item::before, #sk-container-id-1 div.sk-parallel-item::before {content: \"\";position: absolute;border-left: 1px solid gray;box-sizing: border-box;top: 0;bottom: 0;left: 50%;z-index: -1;}#sk-container-id-1 div.sk-parallel-item {display: flex;flex-direction: column;z-index: 1;position: relative;background-color: white;}#sk-container-id-1 div.sk-parallel-item:first-child::after {align-self: flex-end;width: 50%;}#sk-container-id-1 div.sk-parallel-item:last-child::after {align-self: flex-start;width: 50%;}#sk-container-id-1 div.sk-parallel-item:only-child::after {width: 0;}#sk-container-id-1 div.sk-dashed-wrapped {border: 1px dashed gray;margin: 0 0.4em 0.5em 0.4em;box-sizing: border-box;padding-bottom: 0.4em;background-color: white;}#sk-container-id-1 div.sk-label label {font-family: monospace;font-weight: bold;display: inline-block;line-height: 1.2em;}#sk-container-id-1 div.sk-label-container {text-align: center;}#sk-container-id-1 div.sk-container {/* jupyter's `normalize.less` sets `[hidden] { display: none; }` but bootstrap.min.css set `[hidden] { display: none !important; }` so we also need the `!important` here to be able to override the default hidden behavior on the sphinx rendered scikit-learn.org. See: https://github.com/scikit-learn/scikit-learn/issues/21755 */display: inline-block !important;position: relative;}#sk-container-id-1 div.sk-text-repr-fallback {display: none;}</style><div id=\"sk-container-id-1\" class=\"sk-top-container\"><div class=\"sk-text-repr-fallback\"><pre>LGBMClassifier(boosting_type=&#x27;gbdt&#x27;, class_weight=&#x27;balanced&#x27;,\n",
       "               colsample_bytree=1.0, importance_type=&#x27;split&#x27;, learning_rate=0.1,\n",
       "               max_depth=-1, min_child_samples=20, min_child_weight=0.001,\n",
       "               min_split_gain=0.0, n_estimators=100, n_jobs=-1, num_leaves=31,\n",
       "               objective=None, random_state=123, reg_alpha=0.0, reg_lambda=0.0,\n",
       "               silent=&#x27;warn&#x27;, subsample=1.0, subsample_for_bin=200000,\n",
       "               subsample_freq=0)</pre><b>In a Jupyter environment, please rerun this cell to show the HTML representation or trust the notebook. <br />On GitHub, the HTML representation is unable to render, please try loading this page with nbviewer.org.</b></div><div class=\"sk-container\" hidden><div class=\"sk-item\"><div class=\"sk-estimator sk-toggleable\"><input class=\"sk-toggleable__control sk-hidden--visually\" id=\"sk-estimator-id-1\" type=\"checkbox\" checked><label for=\"sk-estimator-id-1\" class=\"sk-toggleable__label sk-toggleable__label-arrow\">LGBMClassifier</label><div class=\"sk-toggleable__content\"><pre>LGBMClassifier(boosting_type=&#x27;gbdt&#x27;, class_weight=&#x27;balanced&#x27;,\n",
       "               colsample_bytree=1.0, importance_type=&#x27;split&#x27;, learning_rate=0.1,\n",
       "               max_depth=-1, min_child_samples=20, min_child_weight=0.001,\n",
       "               min_split_gain=0.0, n_estimators=100, n_jobs=-1, num_leaves=31,\n",
       "               objective=None, random_state=123, reg_alpha=0.0, reg_lambda=0.0,\n",
       "               silent=&#x27;warn&#x27;, subsample=1.0, subsample_for_bin=200000,\n",
       "               subsample_freq=0)</pre></div></div></div></div></div>"
      ],
      "text/plain": [
       "LGBMClassifier(boosting_type='gbdt', class_weight='balanced',\n",
       "               colsample_bytree=1.0, importance_type='split', learning_rate=0.1,\n",
       "               max_depth=-1, min_child_samples=20, min_child_weight=0.001,\n",
       "               min_split_gain=0.0, n_estimators=100, n_jobs=-1, num_leaves=31,\n",
       "               objective=None, random_state=123, reg_alpha=0.0, reg_lambda=0.0,\n",
       "               silent='warn', subsample=1.0, subsample_for_bin=200000,\n",
       "               subsample_freq=0)"
      ]
     },
     "execution_count": 23,
     "metadata": {},
     "output_type": "execute_result"
    }
   ],
   "source": [
    "# Model parameters\n",
    "model"
   ]
  },
  {
   "cell_type": "code",
   "execution_count": 24,
   "id": "a2d3771d",
   "metadata": {},
   "outputs": [],
   "source": [
    "model_score_grid = pull()\n",
    "model_score_grid.to_csv('./TABLES/strunz_model_score_before_tuning.csv')"
   ]
  },
  {
   "cell_type": "markdown",
   "id": "4317fe7a",
   "metadata": {},
   "source": [
    "### Model Optimization:\n",
    "\n",
    "This function tunes the hyperparameters of a given estimator. The output of this function is a score grid with CV scores by fold of the best selected model based on optimize parameter. By default, the function focuses on accuracy to evaluate the tuning process.\n",
    "Function uses scikit-learn's ```RandomizedSearchCV()``` algortihm by default.\n",
    "```(n_iter=1000)``` parameter defines the number of iterations in the search space.\n",
    "\n",
    "```Warning: this process could be computationally intensive dependending of your resources.``` \n",
    "\n",
    "See [Workflow.ipynb](./Workflow.ipynb) for resources used \n",
    "\n"
   ]
  },
  {
   "cell_type": "code",
   "execution_count": 25,
   "id": "982becee",
   "metadata": {},
   "outputs": [
    {
     "data": {
      "text/html": [],
      "text/plain": [
       "<IPython.core.display.HTML object>"
      ]
     },
     "metadata": {},
     "output_type": "display_data"
    },
    {
     "data": {
      "text/html": [
       "<style type=\"text/css\">\n",
       "#T_dfd71_row10_col0, #T_dfd71_row10_col1, #T_dfd71_row10_col2, #T_dfd71_row10_col3 {\n",
       "  background: yellow;\n",
       "}\n",
       "</style>\n",
       "<table id=\"T_dfd71\">\n",
       "  <thead>\n",
       "    <tr>\n",
       "      <th class=\"blank level0\" >&nbsp;</th>\n",
       "      <th id=\"T_dfd71_level0_col0\" class=\"col_heading level0 col0\" >Accuracy</th>\n",
       "      <th id=\"T_dfd71_level0_col1\" class=\"col_heading level0 col1\" >Recall</th>\n",
       "      <th id=\"T_dfd71_level0_col2\" class=\"col_heading level0 col2\" >Prec.</th>\n",
       "      <th id=\"T_dfd71_level0_col3\" class=\"col_heading level0 col3\" >F1</th>\n",
       "    </tr>\n",
       "    <tr>\n",
       "      <th class=\"index_name level0\" >Fold</th>\n",
       "      <th class=\"blank col0\" >&nbsp;</th>\n",
       "      <th class=\"blank col1\" >&nbsp;</th>\n",
       "      <th class=\"blank col2\" >&nbsp;</th>\n",
       "      <th class=\"blank col3\" >&nbsp;</th>\n",
       "    </tr>\n",
       "  </thead>\n",
       "  <tbody>\n",
       "    <tr>\n",
       "      <th id=\"T_dfd71_level0_row0\" class=\"row_heading level0 row0\" >0</th>\n",
       "      <td id=\"T_dfd71_row0_col0\" class=\"data row0 col0\" >0.9817</td>\n",
       "      <td id=\"T_dfd71_row0_col1\" class=\"data row0 col1\" >0.9817</td>\n",
       "      <td id=\"T_dfd71_row0_col2\" class=\"data row0 col2\" >0.9834</td>\n",
       "      <td id=\"T_dfd71_row0_col3\" class=\"data row0 col3\" >0.9815</td>\n",
       "    </tr>\n",
       "    <tr>\n",
       "      <th id=\"T_dfd71_level0_row1\" class=\"row_heading level0 row1\" >1</th>\n",
       "      <td id=\"T_dfd71_row1_col0\" class=\"data row1 col0\" >0.9633</td>\n",
       "      <td id=\"T_dfd71_row1_col1\" class=\"data row1 col1\" >0.9633</td>\n",
       "      <td id=\"T_dfd71_row1_col2\" class=\"data row1 col2\" >0.9652</td>\n",
       "      <td id=\"T_dfd71_row1_col3\" class=\"data row1 col3\" >0.9627</td>\n",
       "    </tr>\n",
       "    <tr>\n",
       "      <th id=\"T_dfd71_level0_row2\" class=\"row_heading level0 row2\" >2</th>\n",
       "      <td id=\"T_dfd71_row2_col0\" class=\"data row2 col0\" >0.9633</td>\n",
       "      <td id=\"T_dfd71_row2_col1\" class=\"data row2 col1\" >0.9633</td>\n",
       "      <td id=\"T_dfd71_row2_col2\" class=\"data row2 col2\" >0.9631</td>\n",
       "      <td id=\"T_dfd71_row2_col3\" class=\"data row2 col3\" >0.9625</td>\n",
       "    </tr>\n",
       "    <tr>\n",
       "      <th id=\"T_dfd71_level0_row3\" class=\"row_heading level0 row3\" >3</th>\n",
       "      <td id=\"T_dfd71_row3_col0\" class=\"data row3 col0\" >0.9817</td>\n",
       "      <td id=\"T_dfd71_row3_col1\" class=\"data row3 col1\" >0.9817</td>\n",
       "      <td id=\"T_dfd71_row3_col2\" class=\"data row3 col2\" >0.9821</td>\n",
       "      <td id=\"T_dfd71_row3_col3\" class=\"data row3 col3\" >0.9816</td>\n",
       "    </tr>\n",
       "    <tr>\n",
       "      <th id=\"T_dfd71_level0_row4\" class=\"row_heading level0 row4\" >4</th>\n",
       "      <td id=\"T_dfd71_row4_col0\" class=\"data row4 col0\" >0.9722</td>\n",
       "      <td id=\"T_dfd71_row4_col1\" class=\"data row4 col1\" >0.9722</td>\n",
       "      <td id=\"T_dfd71_row4_col2\" class=\"data row4 col2\" >0.9737</td>\n",
       "      <td id=\"T_dfd71_row4_col3\" class=\"data row4 col3\" >0.9719</td>\n",
       "    </tr>\n",
       "    <tr>\n",
       "      <th id=\"T_dfd71_level0_row5\" class=\"row_heading level0 row5\" >5</th>\n",
       "      <td id=\"T_dfd71_row5_col0\" class=\"data row5 col0\" >1.0000</td>\n",
       "      <td id=\"T_dfd71_row5_col1\" class=\"data row5 col1\" >1.0000</td>\n",
       "      <td id=\"T_dfd71_row5_col2\" class=\"data row5 col2\" >1.0000</td>\n",
       "      <td id=\"T_dfd71_row5_col3\" class=\"data row5 col3\" >1.0000</td>\n",
       "    </tr>\n",
       "    <tr>\n",
       "      <th id=\"T_dfd71_level0_row6\" class=\"row_heading level0 row6\" >6</th>\n",
       "      <td id=\"T_dfd71_row6_col0\" class=\"data row6 col0\" >0.9815</td>\n",
       "      <td id=\"T_dfd71_row6_col1\" class=\"data row6 col1\" >0.9815</td>\n",
       "      <td id=\"T_dfd71_row6_col2\" class=\"data row6 col2\" >0.9824</td>\n",
       "      <td id=\"T_dfd71_row6_col3\" class=\"data row6 col3\" >0.9815</td>\n",
       "    </tr>\n",
       "    <tr>\n",
       "      <th id=\"T_dfd71_level0_row7\" class=\"row_heading level0 row7\" >7</th>\n",
       "      <td id=\"T_dfd71_row7_col0\" class=\"data row7 col0\" >1.0000</td>\n",
       "      <td id=\"T_dfd71_row7_col1\" class=\"data row7 col1\" >1.0000</td>\n",
       "      <td id=\"T_dfd71_row7_col2\" class=\"data row7 col2\" >1.0000</td>\n",
       "      <td id=\"T_dfd71_row7_col3\" class=\"data row7 col3\" >1.0000</td>\n",
       "    </tr>\n",
       "    <tr>\n",
       "      <th id=\"T_dfd71_level0_row8\" class=\"row_heading level0 row8\" >8</th>\n",
       "      <td id=\"T_dfd71_row8_col0\" class=\"data row8 col0\" >0.9815</td>\n",
       "      <td id=\"T_dfd71_row8_col1\" class=\"data row8 col1\" >0.9815</td>\n",
       "      <td id=\"T_dfd71_row8_col2\" class=\"data row8 col2\" >0.9820</td>\n",
       "      <td id=\"T_dfd71_row8_col3\" class=\"data row8 col3\" >0.9815</td>\n",
       "    </tr>\n",
       "    <tr>\n",
       "      <th id=\"T_dfd71_level0_row9\" class=\"row_heading level0 row9\" >9</th>\n",
       "      <td id=\"T_dfd71_row9_col0\" class=\"data row9 col0\" >0.9815</td>\n",
       "      <td id=\"T_dfd71_row9_col1\" class=\"data row9 col1\" >0.9815</td>\n",
       "      <td id=\"T_dfd71_row9_col2\" class=\"data row9 col2\" >0.9815</td>\n",
       "      <td id=\"T_dfd71_row9_col3\" class=\"data row9 col3\" >0.9815</td>\n",
       "    </tr>\n",
       "    <tr>\n",
       "      <th id=\"T_dfd71_level0_row10\" class=\"row_heading level0 row10\" >Mean</th>\n",
       "      <td id=\"T_dfd71_row10_col0\" class=\"data row10 col0\" >0.9807</td>\n",
       "      <td id=\"T_dfd71_row10_col1\" class=\"data row10 col1\" >0.9807</td>\n",
       "      <td id=\"T_dfd71_row10_col2\" class=\"data row10 col2\" >0.9813</td>\n",
       "      <td id=\"T_dfd71_row10_col3\" class=\"data row10 col3\" >0.9805</td>\n",
       "    </tr>\n",
       "    <tr>\n",
       "      <th id=\"T_dfd71_level0_row11\" class=\"row_heading level0 row11\" >Std</th>\n",
       "      <td id=\"T_dfd71_row11_col0\" class=\"data row11 col0\" >0.0119</td>\n",
       "      <td id=\"T_dfd71_row11_col1\" class=\"data row11 col1\" >0.0119</td>\n",
       "      <td id=\"T_dfd71_row11_col2\" class=\"data row11 col2\" >0.0116</td>\n",
       "      <td id=\"T_dfd71_row11_col3\" class=\"data row11 col3\" >0.0122</td>\n",
       "    </tr>\n",
       "  </tbody>\n",
       "</table>\n"
      ],
      "text/plain": [
       "<pandas.io.formats.style.Styler at 0x7efc94c4cbe0>"
      ]
     },
     "metadata": {},
     "output_type": "display_data"
    },
    {
     "data": {
      "application/vnd.jupyter.widget-view+json": {
       "model_id": "",
       "version_major": 2,
       "version_minor": 0
      },
      "text/plain": [
       "Processing:   0%|          | 0/7 [00:00<?, ?it/s]"
      ]
     },
     "metadata": {},
     "output_type": "display_data"
    },
    {
     "name": "stdout",
     "output_type": "stream",
     "text": [
      "Fitting 10 folds for each of 1000 candidates, totalling 10000 fits\n"
     ]
    }
   ],
   "source": [
    "tuned_model = tune_model(model, n_iter=1000)#,return_tuner=True)"
   ]
  },
  {
   "cell_type": "code",
   "execution_count": 26,
   "id": "73c75530",
   "metadata": {},
   "outputs": [],
   "source": [
    "tuned_model_score_grid = pull()\n",
    "tuned_model_score_grid.to_csv('./TABLES/tuned_strunz_classifier_score.csv')"
   ]
  },
  {
   "cell_type": "code",
   "execution_count": 27,
   "id": "29495aea",
   "metadata": {},
   "outputs": [
    {
     "data": {
      "text/html": [
       "<style>#sk-container-id-2 {color: black;background-color: white;}#sk-container-id-2 pre{padding: 0;}#sk-container-id-2 div.sk-toggleable {background-color: white;}#sk-container-id-2 label.sk-toggleable__label {cursor: pointer;display: block;width: 100%;margin-bottom: 0;padding: 0.3em;box-sizing: border-box;text-align: center;}#sk-container-id-2 label.sk-toggleable__label-arrow:before {content: \"▸\";float: left;margin-right: 0.25em;color: #696969;}#sk-container-id-2 label.sk-toggleable__label-arrow:hover:before {color: black;}#sk-container-id-2 div.sk-estimator:hover label.sk-toggleable__label-arrow:before {color: black;}#sk-container-id-2 div.sk-toggleable__content {max-height: 0;max-width: 0;overflow: hidden;text-align: left;background-color: #f0f8ff;}#sk-container-id-2 div.sk-toggleable__content pre {margin: 0.2em;color: black;border-radius: 0.25em;background-color: #f0f8ff;}#sk-container-id-2 input.sk-toggleable__control:checked~div.sk-toggleable__content {max-height: 200px;max-width: 100%;overflow: auto;}#sk-container-id-2 input.sk-toggleable__control:checked~label.sk-toggleable__label-arrow:before {content: \"▾\";}#sk-container-id-2 div.sk-estimator input.sk-toggleable__control:checked~label.sk-toggleable__label {background-color: #d4ebff;}#sk-container-id-2 div.sk-label input.sk-toggleable__control:checked~label.sk-toggleable__label {background-color: #d4ebff;}#sk-container-id-2 input.sk-hidden--visually {border: 0;clip: rect(1px 1px 1px 1px);clip: rect(1px, 1px, 1px, 1px);height: 1px;margin: -1px;overflow: hidden;padding: 0;position: absolute;width: 1px;}#sk-container-id-2 div.sk-estimator {font-family: monospace;background-color: #f0f8ff;border: 1px dotted black;border-radius: 0.25em;box-sizing: border-box;margin-bottom: 0.5em;}#sk-container-id-2 div.sk-estimator:hover {background-color: #d4ebff;}#sk-container-id-2 div.sk-parallel-item::after {content: \"\";width: 100%;border-bottom: 1px solid gray;flex-grow: 1;}#sk-container-id-2 div.sk-label:hover label.sk-toggleable__label {background-color: #d4ebff;}#sk-container-id-2 div.sk-serial::before {content: \"\";position: absolute;border-left: 1px solid gray;box-sizing: border-box;top: 0;bottom: 0;left: 50%;z-index: 0;}#sk-container-id-2 div.sk-serial {display: flex;flex-direction: column;align-items: center;background-color: white;padding-right: 0.2em;padding-left: 0.2em;position: relative;}#sk-container-id-2 div.sk-item {position: relative;z-index: 1;}#sk-container-id-2 div.sk-parallel {display: flex;align-items: stretch;justify-content: center;background-color: white;position: relative;}#sk-container-id-2 div.sk-item::before, #sk-container-id-2 div.sk-parallel-item::before {content: \"\";position: absolute;border-left: 1px solid gray;box-sizing: border-box;top: 0;bottom: 0;left: 50%;z-index: -1;}#sk-container-id-2 div.sk-parallel-item {display: flex;flex-direction: column;z-index: 1;position: relative;background-color: white;}#sk-container-id-2 div.sk-parallel-item:first-child::after {align-self: flex-end;width: 50%;}#sk-container-id-2 div.sk-parallel-item:last-child::after {align-self: flex-start;width: 50%;}#sk-container-id-2 div.sk-parallel-item:only-child::after {width: 0;}#sk-container-id-2 div.sk-dashed-wrapped {border: 1px dashed gray;margin: 0 0.4em 0.5em 0.4em;box-sizing: border-box;padding-bottom: 0.4em;background-color: white;}#sk-container-id-2 div.sk-label label {font-family: monospace;font-weight: bold;display: inline-block;line-height: 1.2em;}#sk-container-id-2 div.sk-label-container {text-align: center;}#sk-container-id-2 div.sk-container {/* jupyter's `normalize.less` sets `[hidden] { display: none; }` but bootstrap.min.css set `[hidden] { display: none !important; }` so we also need the `!important` here to be able to override the default hidden behavior on the sphinx rendered scikit-learn.org. See: https://github.com/scikit-learn/scikit-learn/issues/21755 */display: inline-block !important;position: relative;}#sk-container-id-2 div.sk-text-repr-fallback {display: none;}</style><div id=\"sk-container-id-2\" class=\"sk-top-container\"><div class=\"sk-text-repr-fallback\"><pre>LGBMClassifier(bagging_fraction=0.9, bagging_freq=4, boosting_type=&#x27;gbdt&#x27;,\n",
       "               class_weight=&#x27;balanced&#x27;, colsample_bytree=1.0,\n",
       "               feature_fraction=0.7, importance_type=&#x27;split&#x27;, learning_rate=0.2,\n",
       "               max_depth=-1, min_child_samples=21, min_child_weight=0.001,\n",
       "               min_split_gain=0, n_estimators=270, n_jobs=-1, num_leaves=80,\n",
       "               objective=None, random_state=123, reg_alpha=0.005,\n",
       "               reg_lambda=0.3, silent=&#x27;warn&#x27;, subsample=1.0,\n",
       "               subsample_for_bin=200000, subsample_freq=0)</pre><b>In a Jupyter environment, please rerun this cell to show the HTML representation or trust the notebook. <br />On GitHub, the HTML representation is unable to render, please try loading this page with nbviewer.org.</b></div><div class=\"sk-container\" hidden><div class=\"sk-item\"><div class=\"sk-estimator sk-toggleable\"><input class=\"sk-toggleable__control sk-hidden--visually\" id=\"sk-estimator-id-2\" type=\"checkbox\" checked><label for=\"sk-estimator-id-2\" class=\"sk-toggleable__label sk-toggleable__label-arrow\">LGBMClassifier</label><div class=\"sk-toggleable__content\"><pre>LGBMClassifier(bagging_fraction=0.9, bagging_freq=4, boosting_type=&#x27;gbdt&#x27;,\n",
       "               class_weight=&#x27;balanced&#x27;, colsample_bytree=1.0,\n",
       "               feature_fraction=0.7, importance_type=&#x27;split&#x27;, learning_rate=0.2,\n",
       "               max_depth=-1, min_child_samples=21, min_child_weight=0.001,\n",
       "               min_split_gain=0, n_estimators=270, n_jobs=-1, num_leaves=80,\n",
       "               objective=None, random_state=123, reg_alpha=0.005,\n",
       "               reg_lambda=0.3, silent=&#x27;warn&#x27;, subsample=1.0,\n",
       "               subsample_for_bin=200000, subsample_freq=0)</pre></div></div></div></div></div>"
      ],
      "text/plain": [
       "LGBMClassifier(bagging_fraction=0.9, bagging_freq=4, boosting_type='gbdt',\n",
       "               class_weight='balanced', colsample_bytree=1.0,\n",
       "               feature_fraction=0.7, importance_type='split', learning_rate=0.2,\n",
       "               max_depth=-1, min_child_samples=21, min_child_weight=0.001,\n",
       "               min_split_gain=0, n_estimators=270, n_jobs=-1, num_leaves=80,\n",
       "               objective=None, random_state=123, reg_alpha=0.005,\n",
       "               reg_lambda=0.3, silent='warn', subsample=1.0,\n",
       "               subsample_for_bin=200000, subsample_freq=0)"
      ]
     },
     "execution_count": 27,
     "metadata": {},
     "output_type": "execute_result"
    }
   ],
   "source": [
    "#tuned classifier hyperparemeters\n",
    "tuned_model"
   ]
  },
  {
   "cell_type": "markdown",
   "id": "badbcd8b-ed81-452d-9fa6-5499c20e3a83",
   "metadata": {},
   "source": [
    "### Model Calibration:\n",
    "This function calibrates the probability of a given estimator using isotonic or logistic regression. The output of this function is a score grid with CV scores by fold.\n",
    "By default function uses Logistic regression model to transform probabilities.\n",
    "We chose this method to take into account the following library documentation [warning](https://pycaret.readthedocs.io/en/latest) and avoid overfitting. \n"
   ]
  },
  {
   "cell_type": "code",
   "execution_count": 28,
   "id": "6130bb8e",
   "metadata": {},
   "outputs": [
    {
     "data": {
      "text/html": [],
      "text/plain": [
       "<IPython.core.display.HTML object>"
      ]
     },
     "metadata": {},
     "output_type": "display_data"
    },
    {
     "data": {
      "text/html": [
       "<style type=\"text/css\">\n",
       "#T_7e480_row10_col0, #T_7e480_row10_col1, #T_7e480_row10_col2, #T_7e480_row10_col3 {\n",
       "  background: yellow;\n",
       "}\n",
       "</style>\n",
       "<table id=\"T_7e480\">\n",
       "  <thead>\n",
       "    <tr>\n",
       "      <th class=\"blank level0\" >&nbsp;</th>\n",
       "      <th id=\"T_7e480_level0_col0\" class=\"col_heading level0 col0\" >Accuracy</th>\n",
       "      <th id=\"T_7e480_level0_col1\" class=\"col_heading level0 col1\" >Recall</th>\n",
       "      <th id=\"T_7e480_level0_col2\" class=\"col_heading level0 col2\" >Prec.</th>\n",
       "      <th id=\"T_7e480_level0_col3\" class=\"col_heading level0 col3\" >F1</th>\n",
       "    </tr>\n",
       "    <tr>\n",
       "      <th class=\"index_name level0\" >Fold</th>\n",
       "      <th class=\"blank col0\" >&nbsp;</th>\n",
       "      <th class=\"blank col1\" >&nbsp;</th>\n",
       "      <th class=\"blank col2\" >&nbsp;</th>\n",
       "      <th class=\"blank col3\" >&nbsp;</th>\n",
       "    </tr>\n",
       "  </thead>\n",
       "  <tbody>\n",
       "    <tr>\n",
       "      <th id=\"T_7e480_level0_row0\" class=\"row_heading level0 row0\" >0</th>\n",
       "      <td id=\"T_7e480_row0_col0\" class=\"data row0 col0\" >0.9817</td>\n",
       "      <td id=\"T_7e480_row0_col1\" class=\"data row0 col1\" >0.9817</td>\n",
       "      <td id=\"T_7e480_row0_col2\" class=\"data row0 col2\" >0.9834</td>\n",
       "      <td id=\"T_7e480_row0_col3\" class=\"data row0 col3\" >0.9815</td>\n",
       "    </tr>\n",
       "    <tr>\n",
       "      <th id=\"T_7e480_level0_row1\" class=\"row_heading level0 row1\" >1</th>\n",
       "      <td id=\"T_7e480_row1_col0\" class=\"data row1 col0\" >0.9541</td>\n",
       "      <td id=\"T_7e480_row1_col1\" class=\"data row1 col1\" >0.9541</td>\n",
       "      <td id=\"T_7e480_row1_col2\" class=\"data row1 col2\" >0.9560</td>\n",
       "      <td id=\"T_7e480_row1_col3\" class=\"data row1 col3\" >0.9535</td>\n",
       "    </tr>\n",
       "    <tr>\n",
       "      <th id=\"T_7e480_level0_row2\" class=\"row_heading level0 row2\" >2</th>\n",
       "      <td id=\"T_7e480_row2_col0\" class=\"data row2 col0\" >0.9633</td>\n",
       "      <td id=\"T_7e480_row2_col1\" class=\"data row2 col1\" >0.9633</td>\n",
       "      <td id=\"T_7e480_row2_col2\" class=\"data row2 col2\" >0.9631</td>\n",
       "      <td id=\"T_7e480_row2_col3\" class=\"data row2 col3\" >0.9625</td>\n",
       "    </tr>\n",
       "    <tr>\n",
       "      <th id=\"T_7e480_level0_row3\" class=\"row_heading level0 row3\" >3</th>\n",
       "      <td id=\"T_7e480_row3_col0\" class=\"data row3 col0\" >0.9817</td>\n",
       "      <td id=\"T_7e480_row3_col1\" class=\"data row3 col1\" >0.9817</td>\n",
       "      <td id=\"T_7e480_row3_col2\" class=\"data row3 col2\" >0.9821</td>\n",
       "      <td id=\"T_7e480_row3_col3\" class=\"data row3 col3\" >0.9816</td>\n",
       "    </tr>\n",
       "    <tr>\n",
       "      <th id=\"T_7e480_level0_row4\" class=\"row_heading level0 row4\" >4</th>\n",
       "      <td id=\"T_7e480_row4_col0\" class=\"data row4 col0\" >0.9722</td>\n",
       "      <td id=\"T_7e480_row4_col1\" class=\"data row4 col1\" >0.9722</td>\n",
       "      <td id=\"T_7e480_row4_col2\" class=\"data row4 col2\" >0.9737</td>\n",
       "      <td id=\"T_7e480_row4_col3\" class=\"data row4 col3\" >0.9719</td>\n",
       "    </tr>\n",
       "    <tr>\n",
       "      <th id=\"T_7e480_level0_row5\" class=\"row_heading level0 row5\" >5</th>\n",
       "      <td id=\"T_7e480_row5_col0\" class=\"data row5 col0\" >1.0000</td>\n",
       "      <td id=\"T_7e480_row5_col1\" class=\"data row5 col1\" >1.0000</td>\n",
       "      <td id=\"T_7e480_row5_col2\" class=\"data row5 col2\" >1.0000</td>\n",
       "      <td id=\"T_7e480_row5_col3\" class=\"data row5 col3\" >1.0000</td>\n",
       "    </tr>\n",
       "    <tr>\n",
       "      <th id=\"T_7e480_level0_row6\" class=\"row_heading level0 row6\" >6</th>\n",
       "      <td id=\"T_7e480_row6_col0\" class=\"data row6 col0\" >0.9815</td>\n",
       "      <td id=\"T_7e480_row6_col1\" class=\"data row6 col1\" >0.9815</td>\n",
       "      <td id=\"T_7e480_row6_col2\" class=\"data row6 col2\" >0.9824</td>\n",
       "      <td id=\"T_7e480_row6_col3\" class=\"data row6 col3\" >0.9815</td>\n",
       "    </tr>\n",
       "    <tr>\n",
       "      <th id=\"T_7e480_level0_row7\" class=\"row_heading level0 row7\" >7</th>\n",
       "      <td id=\"T_7e480_row7_col0\" class=\"data row7 col0\" >0.9907</td>\n",
       "      <td id=\"T_7e480_row7_col1\" class=\"data row7 col1\" >0.9907</td>\n",
       "      <td id=\"T_7e480_row7_col2\" class=\"data row7 col2\" >0.9912</td>\n",
       "      <td id=\"T_7e480_row7_col3\" class=\"data row7 col3\" >0.9907</td>\n",
       "    </tr>\n",
       "    <tr>\n",
       "      <th id=\"T_7e480_level0_row8\" class=\"row_heading level0 row8\" >8</th>\n",
       "      <td id=\"T_7e480_row8_col0\" class=\"data row8 col0\" >0.9815</td>\n",
       "      <td id=\"T_7e480_row8_col1\" class=\"data row8 col1\" >0.9815</td>\n",
       "      <td id=\"T_7e480_row8_col2\" class=\"data row8 col2\" >0.9820</td>\n",
       "      <td id=\"T_7e480_row8_col3\" class=\"data row8 col3\" >0.9815</td>\n",
       "    </tr>\n",
       "    <tr>\n",
       "      <th id=\"T_7e480_level0_row9\" class=\"row_heading level0 row9\" >9</th>\n",
       "      <td id=\"T_7e480_row9_col0\" class=\"data row9 col0\" >0.9815</td>\n",
       "      <td id=\"T_7e480_row9_col1\" class=\"data row9 col1\" >0.9815</td>\n",
       "      <td id=\"T_7e480_row9_col2\" class=\"data row9 col2\" >0.9815</td>\n",
       "      <td id=\"T_7e480_row9_col3\" class=\"data row9 col3\" >0.9815</td>\n",
       "    </tr>\n",
       "    <tr>\n",
       "      <th id=\"T_7e480_level0_row10\" class=\"row_heading level0 row10\" >Mean</th>\n",
       "      <td id=\"T_7e480_row10_col0\" class=\"data row10 col0\" >0.9788</td>\n",
       "      <td id=\"T_7e480_row10_col1\" class=\"data row10 col1\" >0.9788</td>\n",
       "      <td id=\"T_7e480_row10_col2\" class=\"data row10 col2\" >0.9795</td>\n",
       "      <td id=\"T_7e480_row10_col3\" class=\"data row10 col3\" >0.9786</td>\n",
       "    </tr>\n",
       "    <tr>\n",
       "      <th id=\"T_7e480_level0_row11\" class=\"row_heading level0 row11\" >Std</th>\n",
       "      <td id=\"T_7e480_row11_col0\" class=\"data row11 col0\" >0.0123</td>\n",
       "      <td id=\"T_7e480_row11_col1\" class=\"data row11 col1\" >0.0123</td>\n",
       "      <td id=\"T_7e480_row11_col2\" class=\"data row11 col2\" >0.0121</td>\n",
       "      <td id=\"T_7e480_row11_col3\" class=\"data row11 col3\" >0.0126</td>\n",
       "    </tr>\n",
       "  </tbody>\n",
       "</table>\n"
      ],
      "text/plain": [
       "<pandas.io.formats.style.Styler at 0x7efd0da9f0d0>"
      ]
     },
     "metadata": {},
     "output_type": "display_data"
    },
    {
     "data": {
      "application/vnd.jupyter.widget-view+json": {
       "model_id": "",
       "version_major": 2,
       "version_minor": 0
      },
      "text/plain": [
       "Processing:   0%|          | 0/6 [00:00<?, ?it/s]"
      ]
     },
     "metadata": {},
     "output_type": "display_data"
    },
    {
     "data": {
      "text/html": [
       "<style>#sk-container-id-3 {color: black;background-color: white;}#sk-container-id-3 pre{padding: 0;}#sk-container-id-3 div.sk-toggleable {background-color: white;}#sk-container-id-3 label.sk-toggleable__label {cursor: pointer;display: block;width: 100%;margin-bottom: 0;padding: 0.3em;box-sizing: border-box;text-align: center;}#sk-container-id-3 label.sk-toggleable__label-arrow:before {content: \"▸\";float: left;margin-right: 0.25em;color: #696969;}#sk-container-id-3 label.sk-toggleable__label-arrow:hover:before {color: black;}#sk-container-id-3 div.sk-estimator:hover label.sk-toggleable__label-arrow:before {color: black;}#sk-container-id-3 div.sk-toggleable__content {max-height: 0;max-width: 0;overflow: hidden;text-align: left;background-color: #f0f8ff;}#sk-container-id-3 div.sk-toggleable__content pre {margin: 0.2em;color: black;border-radius: 0.25em;background-color: #f0f8ff;}#sk-container-id-3 input.sk-toggleable__control:checked~div.sk-toggleable__content {max-height: 200px;max-width: 100%;overflow: auto;}#sk-container-id-3 input.sk-toggleable__control:checked~label.sk-toggleable__label-arrow:before {content: \"▾\";}#sk-container-id-3 div.sk-estimator input.sk-toggleable__control:checked~label.sk-toggleable__label {background-color: #d4ebff;}#sk-container-id-3 div.sk-label input.sk-toggleable__control:checked~label.sk-toggleable__label {background-color: #d4ebff;}#sk-container-id-3 input.sk-hidden--visually {border: 0;clip: rect(1px 1px 1px 1px);clip: rect(1px, 1px, 1px, 1px);height: 1px;margin: -1px;overflow: hidden;padding: 0;position: absolute;width: 1px;}#sk-container-id-3 div.sk-estimator {font-family: monospace;background-color: #f0f8ff;border: 1px dotted black;border-radius: 0.25em;box-sizing: border-box;margin-bottom: 0.5em;}#sk-container-id-3 div.sk-estimator:hover {background-color: #d4ebff;}#sk-container-id-3 div.sk-parallel-item::after {content: \"\";width: 100%;border-bottom: 1px solid gray;flex-grow: 1;}#sk-container-id-3 div.sk-label:hover label.sk-toggleable__label {background-color: #d4ebff;}#sk-container-id-3 div.sk-serial::before {content: \"\";position: absolute;border-left: 1px solid gray;box-sizing: border-box;top: 0;bottom: 0;left: 50%;z-index: 0;}#sk-container-id-3 div.sk-serial {display: flex;flex-direction: column;align-items: center;background-color: white;padding-right: 0.2em;padding-left: 0.2em;position: relative;}#sk-container-id-3 div.sk-item {position: relative;z-index: 1;}#sk-container-id-3 div.sk-parallel {display: flex;align-items: stretch;justify-content: center;background-color: white;position: relative;}#sk-container-id-3 div.sk-item::before, #sk-container-id-3 div.sk-parallel-item::before {content: \"\";position: absolute;border-left: 1px solid gray;box-sizing: border-box;top: 0;bottom: 0;left: 50%;z-index: -1;}#sk-container-id-3 div.sk-parallel-item {display: flex;flex-direction: column;z-index: 1;position: relative;background-color: white;}#sk-container-id-3 div.sk-parallel-item:first-child::after {align-self: flex-end;width: 50%;}#sk-container-id-3 div.sk-parallel-item:last-child::after {align-self: flex-start;width: 50%;}#sk-container-id-3 div.sk-parallel-item:only-child::after {width: 0;}#sk-container-id-3 div.sk-dashed-wrapped {border: 1px dashed gray;margin: 0 0.4em 0.5em 0.4em;box-sizing: border-box;padding-bottom: 0.4em;background-color: white;}#sk-container-id-3 div.sk-label label {font-family: monospace;font-weight: bold;display: inline-block;line-height: 1.2em;}#sk-container-id-3 div.sk-label-container {text-align: center;}#sk-container-id-3 div.sk-container {/* jupyter's `normalize.less` sets `[hidden] { display: none; }` but bootstrap.min.css set `[hidden] { display: none !important; }` so we also need the `!important` here to be able to override the default hidden behavior on the sphinx rendered scikit-learn.org. See: https://github.com/scikit-learn/scikit-learn/issues/21755 */display: inline-block !important;position: relative;}#sk-container-id-3 div.sk-text-repr-fallback {display: none;}</style><div id=\"sk-container-id-3\" class=\"sk-top-container\"><div class=\"sk-text-repr-fallback\"><pre>CalibratedClassifierCV(base_estimator=LGBMClassifier(bagging_fraction=0.9,\n",
       "                                                     bagging_freq=4,\n",
       "                                                     boosting_type=&#x27;gbdt&#x27;,\n",
       "                                                     class_weight=&#x27;balanced&#x27;,\n",
       "                                                     colsample_bytree=1.0,\n",
       "                                                     feature_fraction=0.7,\n",
       "                                                     importance_type=&#x27;split&#x27;,\n",
       "                                                     learning_rate=0.2,\n",
       "                                                     max_depth=-1,\n",
       "                                                     min_child_samples=21,\n",
       "                                                     min_child_weight=0.001,\n",
       "                                                     min_split_gain=0,\n",
       "                                                     n_estimators=270,\n",
       "                                                     n_jobs=-1, num_leaves=80,\n",
       "                                                     objective=None,\n",
       "                                                     random_state=123,\n",
       "                                                     reg_alpha=0.005,\n",
       "                                                     reg_lambda=0.3,\n",
       "                                                     silent=&#x27;warn&#x27;,\n",
       "                                                     subsample=1.0,\n",
       "                                                     subsample_for_bin=200000,\n",
       "                                                     subsample_freq=0),\n",
       "                       cv=5, ensemble=True, estimator=None, method=&#x27;sigmoid&#x27;,\n",
       "                       n_jobs=None)</pre><b>In a Jupyter environment, please rerun this cell to show the HTML representation or trust the notebook. <br />On GitHub, the HTML representation is unable to render, please try loading this page with nbviewer.org.</b></div><div class=\"sk-container\" hidden><div class=\"sk-item sk-dashed-wrapped\"><div class=\"sk-label-container\"><div class=\"sk-label sk-toggleable\"><input class=\"sk-toggleable__control sk-hidden--visually\" id=\"sk-estimator-id-3\" type=\"checkbox\" ><label for=\"sk-estimator-id-3\" class=\"sk-toggleable__label sk-toggleable__label-arrow\">CalibratedClassifierCV</label><div class=\"sk-toggleable__content\"><pre>CalibratedClassifierCV(base_estimator=LGBMClassifier(bagging_fraction=0.9,\n",
       "                                                     bagging_freq=4,\n",
       "                                                     boosting_type=&#x27;gbdt&#x27;,\n",
       "                                                     class_weight=&#x27;balanced&#x27;,\n",
       "                                                     colsample_bytree=1.0,\n",
       "                                                     feature_fraction=0.7,\n",
       "                                                     importance_type=&#x27;split&#x27;,\n",
       "                                                     learning_rate=0.2,\n",
       "                                                     max_depth=-1,\n",
       "                                                     min_child_samples=21,\n",
       "                                                     min_child_weight=0.001,\n",
       "                                                     min_split_gain=0,\n",
       "                                                     n_estimators=270,\n",
       "                                                     n_jobs=-1, num_leaves=80,\n",
       "                                                     objective=None,\n",
       "                                                     random_state=123,\n",
       "                                                     reg_alpha=0.005,\n",
       "                                                     reg_lambda=0.3,\n",
       "                                                     silent=&#x27;warn&#x27;,\n",
       "                                                     subsample=1.0,\n",
       "                                                     subsample_for_bin=200000,\n",
       "                                                     subsample_freq=0),\n",
       "                       cv=5, ensemble=True, estimator=None, method=&#x27;sigmoid&#x27;,\n",
       "                       n_jobs=None)</pre></div></div></div><div class=\"sk-parallel\"><div class=\"sk-parallel-item\"><div class=\"sk-item\"><div class=\"sk-label-container\"><div class=\"sk-label sk-toggleable\"><input class=\"sk-toggleable__control sk-hidden--visually\" id=\"sk-estimator-id-4\" type=\"checkbox\" ><label for=\"sk-estimator-id-4\" class=\"sk-toggleable__label sk-toggleable__label-arrow\">base_estimator: LGBMClassifier</label><div class=\"sk-toggleable__content\"><pre>LGBMClassifier(bagging_fraction=0.9, bagging_freq=4, boosting_type=&#x27;gbdt&#x27;,\n",
       "               class_weight=&#x27;balanced&#x27;, colsample_bytree=1.0,\n",
       "               feature_fraction=0.7, importance_type=&#x27;split&#x27;, learning_rate=0.2,\n",
       "               max_depth=-1, min_child_samples=21, min_child_weight=0.001,\n",
       "               min_split_gain=0, n_estimators=270, n_jobs=-1, num_leaves=80,\n",
       "               objective=None, random_state=123, reg_alpha=0.005,\n",
       "               reg_lambda=0.3, silent=&#x27;warn&#x27;, subsample=1.0,\n",
       "               subsample_for_bin=200000, subsample_freq=0)</pre></div></div></div><div class=\"sk-serial\"><div class=\"sk-item\"><div class=\"sk-estimator sk-toggleable\"><input class=\"sk-toggleable__control sk-hidden--visually\" id=\"sk-estimator-id-5\" type=\"checkbox\" ><label for=\"sk-estimator-id-5\" class=\"sk-toggleable__label sk-toggleable__label-arrow\">LGBMClassifier</label><div class=\"sk-toggleable__content\"><pre>LGBMClassifier(bagging_fraction=0.9, bagging_freq=4, class_weight=&#x27;balanced&#x27;,\n",
       "               feature_fraction=0.7, learning_rate=0.2, min_child_samples=21,\n",
       "               min_split_gain=0, n_estimators=270, num_leaves=80,\n",
       "               random_state=123, reg_alpha=0.005, reg_lambda=0.3)</pre></div></div></div></div></div></div></div></div></div></div>"
      ],
      "text/plain": [
       "CalibratedClassifierCV(base_estimator=LGBMClassifier(bagging_fraction=0.9,\n",
       "                                                     bagging_freq=4,\n",
       "                                                     boosting_type='gbdt',\n",
       "                                                     class_weight='balanced',\n",
       "                                                     colsample_bytree=1.0,\n",
       "                                                     feature_fraction=0.7,\n",
       "                                                     importance_type='split',\n",
       "                                                     learning_rate=0.2,\n",
       "                                                     max_depth=-1,\n",
       "                                                     min_child_samples=21,\n",
       "                                                     min_child_weight=0.001,\n",
       "                                                     min_split_gain=0,\n",
       "                                                     n_estimators=270,\n",
       "                                                     n_jobs=-1, num_leaves=80,\n",
       "                                                     objective=None,\n",
       "                                                     random_state=123,\n",
       "                                                     reg_alpha=0.005,\n",
       "                                                     reg_lambda=0.3,\n",
       "                                                     silent='warn',\n",
       "                                                     subsample=1.0,\n",
       "                                                     subsample_for_bin=200000,\n",
       "                                                     subsample_freq=0),\n",
       "                       cv=5, ensemble=True, estimator=None, method='sigmoid',\n",
       "                       n_jobs=None)"
      ]
     },
     "execution_count": 28,
     "metadata": {},
     "output_type": "execute_result"
    }
   ],
   "source": [
    "cal_model = calibrate_model(tuned_model)\n",
    "cal_model"
   ]
  },
  {
   "cell_type": "code",
   "execution_count": 29,
   "id": "33069d70-3f4a-4557-b212-431d6bf1a69d",
   "metadata": {},
   "outputs": [],
   "source": [
    "cal_model_metrics = pull()\n",
    "cal_model_metrics.to_csv('./TABLES/final_strunzclassifier_metrics.csv')"
   ]
  },
  {
   "cell_type": "markdown",
   "id": "234337b6-e6b8-4a64-ab14-3571f1191f6d",
   "metadata": {},
   "source": [
    "### Validation"
   ]
  },
  {
   "cell_type": "markdown",
   "id": "4e4eec39-c622-4a6e-aa2d-4c956f5c826c",
   "metadata": {},
   "source": [
    "#### In this step  test data is used to evaluate the model:\n",
    "This function generates the label using a trained model. \n",
    "When data is None, it predicts label and score on the holdout set. "
   ]
  },
  {
   "cell_type": "code",
   "execution_count": 30,
   "id": "520967a4-5232-42b1-848e-81b0a75fa0c5",
   "metadata": {},
   "outputs": [
    {
     "data": {
      "text/html": [
       "<style type=\"text/css\">\n",
       "</style>\n",
       "<table id=\"T_f8e77\">\n",
       "  <thead>\n",
       "    <tr>\n",
       "      <th class=\"blank level0\" >&nbsp;</th>\n",
       "      <th id=\"T_f8e77_level0_col0\" class=\"col_heading level0 col0\" >Model</th>\n",
       "      <th id=\"T_f8e77_level0_col1\" class=\"col_heading level0 col1\" >Accuracy</th>\n",
       "      <th id=\"T_f8e77_level0_col2\" class=\"col_heading level0 col2\" >Recall</th>\n",
       "      <th id=\"T_f8e77_level0_col3\" class=\"col_heading level0 col3\" >Prec.</th>\n",
       "      <th id=\"T_f8e77_level0_col4\" class=\"col_heading level0 col4\" >F1</th>\n",
       "    </tr>\n",
       "  </thead>\n",
       "  <tbody>\n",
       "    <tr>\n",
       "      <th id=\"T_f8e77_level0_row0\" class=\"row_heading level0 row0\" >0</th>\n",
       "      <td id=\"T_f8e77_row0_col0\" class=\"data row0 col0\" >Light Gradient Boosting Machine</td>\n",
       "      <td id=\"T_f8e77_row0_col1\" class=\"data row0 col1\" >0.9852</td>\n",
       "      <td id=\"T_f8e77_row0_col2\" class=\"data row0 col2\" >0.9852</td>\n",
       "      <td id=\"T_f8e77_row0_col3\" class=\"data row0 col3\" >0.9857</td>\n",
       "      <td id=\"T_f8e77_row0_col4\" class=\"data row0 col4\" >0.9852</td>\n",
       "    </tr>\n",
       "  </tbody>\n",
       "</table>\n"
      ],
      "text/plain": [
       "<pandas.io.formats.style.Styler at 0x7efd0db33fd0>"
      ]
     },
     "metadata": {},
     "output_type": "display_data"
    },
    {
     "data": {
      "text/html": [
       "<div>\n",
       "<style scoped>\n",
       "    .dataframe tbody tr th:only-of-type {\n",
       "        vertical-align: middle;\n",
       "    }\n",
       "\n",
       "    .dataframe tbody tr th {\n",
       "        vertical-align: top;\n",
       "    }\n",
       "\n",
       "    .dataframe thead th {\n",
       "        text-align: right;\n",
       "    }\n",
       "</style>\n",
       "<table border=\"1\" class=\"dataframe\">\n",
       "  <thead>\n",
       "    <tr style=\"text-align: right;\">\n",
       "      <th></th>\n",
       "      <th>Mg</th>\n",
       "      <th>Al</th>\n",
       "      <th>Si</th>\n",
       "      <th>P</th>\n",
       "      <th>S</th>\n",
       "      <th>Cl</th>\n",
       "      <th>K</th>\n",
       "      <th>Ca</th>\n",
       "      <th>Sc</th>\n",
       "      <th>Ti</th>\n",
       "      <th>...</th>\n",
       "      <th>Ta</th>\n",
       "      <th>W</th>\n",
       "      <th>Au</th>\n",
       "      <th>Hg</th>\n",
       "      <th>Tl</th>\n",
       "      <th>Pb</th>\n",
       "      <th>Th</th>\n",
       "      <th>target</th>\n",
       "      <th>prediction_label</th>\n",
       "      <th>prediction_score</th>\n",
       "    </tr>\n",
       "  </thead>\n",
       "  <tbody>\n",
       "    <tr>\n",
       "      <th>488</th>\n",
       "      <td>0.633958</td>\n",
       "      <td>19.023205</td>\n",
       "      <td>28.773365</td>\n",
       "      <td>5.631203</td>\n",
       "      <td>7.729700</td>\n",
       "      <td>4.062696</td>\n",
       "      <td>6.596744</td>\n",
       "      <td>2.891708</td>\n",
       "      <td>0.006340</td>\n",
       "      <td>0.462751</td>\n",
       "      <td>...</td>\n",
       "      <td>0.000634</td>\n",
       "      <td>0.000634</td>\n",
       "      <td>0.000634</td>\n",
       "      <td>0.000634</td>\n",
       "      <td>0.000634</td>\n",
       "      <td>0.00001</td>\n",
       "      <td>0.000634</td>\n",
       "      <td>5</td>\n",
       "      <td>Sulfates</td>\n",
       "      <td>0.9551</td>\n",
       "    </tr>\n",
       "    <tr>\n",
       "      <th>398</th>\n",
       "      <td>0.607765</td>\n",
       "      <td>6.684669</td>\n",
       "      <td>6.395513</td>\n",
       "      <td>0.714153</td>\n",
       "      <td>1.101863</td>\n",
       "      <td>2.826368</td>\n",
       "      <td>0.548111</td>\n",
       "      <td>80.284065</td>\n",
       "      <td>0.006078</td>\n",
       "      <td>0.081891</td>\n",
       "      <td>...</td>\n",
       "      <td>0.000608</td>\n",
       "      <td>0.000608</td>\n",
       "      <td>0.000608</td>\n",
       "      <td>0.000608</td>\n",
       "      <td>0.000608</td>\n",
       "      <td>0.00001</td>\n",
       "      <td>0.000608</td>\n",
       "      <td>0</td>\n",
       "      <td>Carbonates(Nitrates)</td>\n",
       "      <td>0.9581</td>\n",
       "    </tr>\n",
       "    <tr>\n",
       "      <th>737</th>\n",
       "      <td>0.450678</td>\n",
       "      <td>41.453625</td>\n",
       "      <td>2.371415</td>\n",
       "      <td>50.518017</td>\n",
       "      <td>0.817434</td>\n",
       "      <td>2.952863</td>\n",
       "      <td>0.004507</td>\n",
       "      <td>0.165077</td>\n",
       "      <td>0.004507</td>\n",
       "      <td>0.128518</td>\n",
       "      <td>...</td>\n",
       "      <td>0.002665</td>\n",
       "      <td>0.000451</td>\n",
       "      <td>0.000451</td>\n",
       "      <td>0.000451</td>\n",
       "      <td>0.000451</td>\n",
       "      <td>0.00001</td>\n",
       "      <td>0.000451</td>\n",
       "      <td>3</td>\n",
       "      <td>Phosphates,Arsenates,Vanadates</td>\n",
       "      <td>0.9596</td>\n",
       "    </tr>\n",
       "    <tr>\n",
       "      <th>354</th>\n",
       "      <td>0.472555</td>\n",
       "      <td>41.471985</td>\n",
       "      <td>7.170863</td>\n",
       "      <td>46.776031</td>\n",
       "      <td>0.249101</td>\n",
       "      <td>1.033357</td>\n",
       "      <td>0.004726</td>\n",
       "      <td>0.225206</td>\n",
       "      <td>0.004726</td>\n",
       "      <td>0.107509</td>\n",
       "      <td>...</td>\n",
       "      <td>0.011752</td>\n",
       "      <td>0.000473</td>\n",
       "      <td>0.000473</td>\n",
       "      <td>0.000473</td>\n",
       "      <td>0.000473</td>\n",
       "      <td>0.00001</td>\n",
       "      <td>0.000473</td>\n",
       "      <td>3</td>\n",
       "      <td>Phosphates,Arsenates,Vanadates</td>\n",
       "      <td>0.9596</td>\n",
       "    </tr>\n",
       "    <tr>\n",
       "      <th>733</th>\n",
       "      <td>0.466237</td>\n",
       "      <td>38.555008</td>\n",
       "      <td>7.716442</td>\n",
       "      <td>48.092373</td>\n",
       "      <td>0.377381</td>\n",
       "      <td>2.329738</td>\n",
       "      <td>0.004662</td>\n",
       "      <td>0.308281</td>\n",
       "      <td>0.004662</td>\n",
       "      <td>0.038474</td>\n",
       "      <td>...</td>\n",
       "      <td>0.000466</td>\n",
       "      <td>0.000466</td>\n",
       "      <td>0.000466</td>\n",
       "      <td>0.000466</td>\n",
       "      <td>0.000466</td>\n",
       "      <td>0.00001</td>\n",
       "      <td>0.000466</td>\n",
       "      <td>3</td>\n",
       "      <td>Phosphates,Arsenates,Vanadates</td>\n",
       "      <td>0.9596</td>\n",
       "    </tr>\n",
       "  </tbody>\n",
       "</table>\n",
       "<p>5 rows × 48 columns</p>\n",
       "</div>"
      ],
      "text/plain": [
       "           Mg         Al         Si          P         S        Cl         K  \\\n",
       "488  0.633958  19.023205  28.773365   5.631203  7.729700  4.062696  6.596744   \n",
       "398  0.607765   6.684669   6.395513   0.714153  1.101863  2.826368  0.548111   \n",
       "737  0.450678  41.453625   2.371415  50.518017  0.817434  2.952863  0.004507   \n",
       "354  0.472555  41.471985   7.170863  46.776031  0.249101  1.033357  0.004726   \n",
       "733  0.466237  38.555008   7.716442  48.092373  0.377381  2.329738  0.004662   \n",
       "\n",
       "            Ca        Sc        Ti  ...        Ta         W        Au  \\\n",
       "488   2.891708  0.006340  0.462751  ...  0.000634  0.000634  0.000634   \n",
       "398  80.284065  0.006078  0.081891  ...  0.000608  0.000608  0.000608   \n",
       "737   0.165077  0.004507  0.128518  ...  0.002665  0.000451  0.000451   \n",
       "354   0.225206  0.004726  0.107509  ...  0.011752  0.000473  0.000473   \n",
       "733   0.308281  0.004662  0.038474  ...  0.000466  0.000466  0.000466   \n",
       "\n",
       "           Hg        Tl       Pb        Th  target  \\\n",
       "488  0.000634  0.000634  0.00001  0.000634       5   \n",
       "398  0.000608  0.000608  0.00001  0.000608       0   \n",
       "737  0.000451  0.000451  0.00001  0.000451       3   \n",
       "354  0.000473  0.000473  0.00001  0.000473       3   \n",
       "733  0.000466  0.000466  0.00001  0.000466       3   \n",
       "\n",
       "                   prediction_label  prediction_score  \n",
       "488                        Sulfates            0.9551  \n",
       "398            Carbonates(Nitrates)            0.9581  \n",
       "737  Phosphates,Arsenates,Vanadates            0.9596  \n",
       "354  Phosphates,Arsenates,Vanadates            0.9596  \n",
       "733  Phosphates,Arsenates,Vanadates            0.9596  \n",
       "\n",
       "[5 rows x 48 columns]"
      ]
     },
     "execution_count": 30,
     "metadata": {},
     "output_type": "execute_result"
    }
   ],
   "source": [
    "predictions = predict_model(cal_model);\n",
    "predictions.head()"
   ]
  },
  {
   "cell_type": "markdown",
   "id": "b112581d-1005-4e27-bea6-7a90ec55afdb",
   "metadata": {},
   "source": [
    "#### Final training iteration with all available data (80% training + 20% testing)\n",
    "\n",
    "This function trains a given model on the entire dataset including the hold-out set."
   ]
  },
  {
   "cell_type": "code",
   "execution_count": 31,
   "id": "6db4af4a",
   "metadata": {},
   "outputs": [],
   "source": [
    "final_model = finalize_model(cal_model)# Final training iteration with all available data\n"
   ]
  },
  {
   "cell_type": "markdown",
   "id": "d2e1cfd2-7183-43c4-a1bd-92f301f70089",
   "metadata": {},
   "source": [
    "### Validation on VS1 and VS2 \n",
    "Predicting on VS1 and VS2"
   ]
  },
  {
   "cell_type": "markdown",
   "id": "59f2cab3-da77-4458-98ae-785c07dd263b",
   "metadata": {},
   "source": [
    "#### Model evaluation on VS2"
   ]
  },
  {
   "cell_type": "code",
   "execution_count": 32,
   "id": "e1f331e8-2ca0-4659-99bb-145acf2a7f64",
   "metadata": {},
   "outputs": [
    {
     "data": {
      "text/html": [],
      "text/plain": [
       "<IPython.core.display.HTML object>"
      ]
     },
     "metadata": {},
     "output_type": "display_data"
    },
    {
     "data": {
      "text/html": [
       "<div>\n",
       "<style scoped>\n",
       "    .dataframe tbody tr th:only-of-type {\n",
       "        vertical-align: middle;\n",
       "    }\n",
       "\n",
       "    .dataframe tbody tr th {\n",
       "        vertical-align: top;\n",
       "    }\n",
       "\n",
       "    .dataframe thead th {\n",
       "        text-align: right;\n",
       "    }\n",
       "</style>\n",
       "<table border=\"1\" class=\"dataframe\">\n",
       "  <thead>\n",
       "    <tr style=\"text-align: right;\">\n",
       "      <th></th>\n",
       "      <th>precision</th>\n",
       "      <th>recall</th>\n",
       "      <th>f1-score</th>\n",
       "      <th>support</th>\n",
       "    </tr>\n",
       "  </thead>\n",
       "  <tbody>\n",
       "    <tr>\n",
       "      <th>Carbonates(Nitrates)</th>\n",
       "      <td>1.000000</td>\n",
       "      <td>1.000000</td>\n",
       "      <td>1.000000</td>\n",
       "      <td>35.00000</td>\n",
       "    </tr>\n",
       "    <tr>\n",
       "      <th>Halides</th>\n",
       "      <td>1.000000</td>\n",
       "      <td>1.000000</td>\n",
       "      <td>1.000000</td>\n",
       "      <td>25.00000</td>\n",
       "    </tr>\n",
       "    <tr>\n",
       "      <th>Oxides</th>\n",
       "      <td>1.000000</td>\n",
       "      <td>1.000000</td>\n",
       "      <td>1.000000</td>\n",
       "      <td>16.00000</td>\n",
       "    </tr>\n",
       "    <tr>\n",
       "      <th>Phosphates,Arsenates,Vanadates</th>\n",
       "      <td>0.916667</td>\n",
       "      <td>0.916667</td>\n",
       "      <td>0.916667</td>\n",
       "      <td>24.00000</td>\n",
       "    </tr>\n",
       "    <tr>\n",
       "      <th>Silicates</th>\n",
       "      <td>0.913043</td>\n",
       "      <td>0.913043</td>\n",
       "      <td>0.913043</td>\n",
       "      <td>23.00000</td>\n",
       "    </tr>\n",
       "    <tr>\n",
       "      <th>Sulfates</th>\n",
       "      <td>1.000000</td>\n",
       "      <td>1.000000</td>\n",
       "      <td>1.000000</td>\n",
       "      <td>28.00000</td>\n",
       "    </tr>\n",
       "    <tr>\n",
       "      <th>accuracy</th>\n",
       "      <td>0.973510</td>\n",
       "      <td>0.973510</td>\n",
       "      <td>0.973510</td>\n",
       "      <td>0.97351</td>\n",
       "    </tr>\n",
       "    <tr>\n",
       "      <th>macro avg</th>\n",
       "      <td>0.971618</td>\n",
       "      <td>0.971618</td>\n",
       "      <td>0.971618</td>\n",
       "      <td>151.00000</td>\n",
       "    </tr>\n",
       "    <tr>\n",
       "      <th>weighted avg</th>\n",
       "      <td>0.973510</td>\n",
       "      <td>0.973510</td>\n",
       "      <td>0.973510</td>\n",
       "      <td>151.00000</td>\n",
       "    </tr>\n",
       "  </tbody>\n",
       "</table>\n",
       "</div>"
      ],
      "text/plain": [
       "                                precision    recall  f1-score    support\n",
       "Carbonates(Nitrates)             1.000000  1.000000  1.000000   35.00000\n",
       "Halides                          1.000000  1.000000  1.000000   25.00000\n",
       "Oxides                           1.000000  1.000000  1.000000   16.00000\n",
       "Phosphates,Arsenates,Vanadates   0.916667  0.916667  0.916667   24.00000\n",
       "Silicates                        0.913043  0.913043  0.913043   23.00000\n",
       "Sulfates                         1.000000  1.000000  1.000000   28.00000\n",
       "accuracy                         0.973510  0.973510  0.973510    0.97351\n",
       "macro avg                        0.971618  0.971618  0.971618  151.00000\n",
       "weighted avg                     0.973510  0.973510  0.973510  151.00000"
      ]
     },
     "execution_count": 32,
     "metadata": {},
     "output_type": "execute_result"
    }
   ],
   "source": [
    "vs2_for_pred = vs2.drop(['target'], axis=1)\n",
    "vs2_predictions = predict_model(final_model, vs2_for_pred)\n",
    "vs2_predictions['target'] = vs2['target']\n",
    "\n",
    "y_true_vs2 = vs2_predictions['target']\n",
    "y_pred_vs2 = vs2_predictions['prediction_label']\n",
    "class_rep_vs2 = pd.DataFrame(classification_report(y_true_vs2, y_pred_vs2, output_dict=True)).T\n",
    "\n",
    "class_rep_vs2.to_csv('./TABLES/strunzclassifier_classification_report_vs2.csv')\n",
    "\n",
    "class_rep_vs2"
   ]
  },
  {
   "cell_type": "code",
   "execution_count": 36,
   "id": "cdabe7e6-1598-42fb-b503-ca672cb4a92b",
   "metadata": {
    "tags": []
   },
   "outputs": [],
   "source": [
    "vs2_predictions.to_csv('./intermediate_data/strunz_predictions_vs2.csv')"
   ]
  },
  {
   "cell_type": "markdown",
   "id": "b9f5b41b-6a53-4c69-84e0-170c9a7d5a44",
   "metadata": {},
   "source": [
    "#### Model evaluation using VS1"
   ]
  },
  {
   "cell_type": "code",
   "execution_count": 37,
   "id": "fa1553da",
   "metadata": {},
   "outputs": [
    {
     "data": {
      "text/html": [
       "<style type=\"text/css\">\n",
       "</style>\n",
       "<table id=\"T_db7d2\">\n",
       "  <thead>\n",
       "    <tr>\n",
       "      <th class=\"blank level0\" >&nbsp;</th>\n",
       "      <th id=\"T_db7d2_level0_col0\" class=\"col_heading level0 col0\" >Model</th>\n",
       "      <th id=\"T_db7d2_level0_col1\" class=\"col_heading level0 col1\" >Accuracy</th>\n",
       "      <th id=\"T_db7d2_level0_col2\" class=\"col_heading level0 col2\" >Recall</th>\n",
       "      <th id=\"T_db7d2_level0_col3\" class=\"col_heading level0 col3\" >Prec.</th>\n",
       "      <th id=\"T_db7d2_level0_col4\" class=\"col_heading level0 col4\" >F1</th>\n",
       "    </tr>\n",
       "  </thead>\n",
       "  <tbody>\n",
       "    <tr>\n",
       "      <th id=\"T_db7d2_level0_row0\" class=\"row_heading level0 row0\" >0</th>\n",
       "      <td id=\"T_db7d2_row0_col0\" class=\"data row0 col0\" >Light Gradient Boosting Machine</td>\n",
       "      <td id=\"T_db7d2_row0_col1\" class=\"data row0 col1\" >0.9677</td>\n",
       "      <td id=\"T_db7d2_row0_col2\" class=\"data row0 col2\" >0.9677</td>\n",
       "      <td id=\"T_db7d2_row0_col3\" class=\"data row0 col3\" >0.9729</td>\n",
       "      <td id=\"T_db7d2_row0_col4\" class=\"data row0 col4\" >0.9688</td>\n",
       "    </tr>\n",
       "  </tbody>\n",
       "</table>\n"
      ],
      "text/plain": [
       "<pandas.io.formats.style.Styler at 0x7efc94b4edf0>"
      ]
     },
     "metadata": {},
     "output_type": "display_data"
    },
    {
     "data": {
      "text/html": [],
      "text/plain": [
       "<IPython.core.display.HTML object>"
      ]
     },
     "metadata": {},
     "output_type": "display_data"
    },
    {
     "data": {
      "text/html": [
       "<div>\n",
       "<style scoped>\n",
       "    .dataframe tbody tr th:only-of-type {\n",
       "        vertical-align: middle;\n",
       "    }\n",
       "\n",
       "    .dataframe tbody tr th {\n",
       "        vertical-align: top;\n",
       "    }\n",
       "\n",
       "    .dataframe thead th {\n",
       "        text-align: right;\n",
       "    }\n",
       "</style>\n",
       "<table border=\"1\" class=\"dataframe\">\n",
       "  <thead>\n",
       "    <tr style=\"text-align: right;\">\n",
       "      <th></th>\n",
       "      <th>precision</th>\n",
       "      <th>recall</th>\n",
       "      <th>f1-score</th>\n",
       "      <th>support</th>\n",
       "    </tr>\n",
       "  </thead>\n",
       "  <tbody>\n",
       "    <tr>\n",
       "      <th>Carbonates(Nitrates)</th>\n",
       "      <td>1.000000</td>\n",
       "      <td>1.000000</td>\n",
       "      <td>1.000000</td>\n",
       "      <td>7.000000</td>\n",
       "    </tr>\n",
       "    <tr>\n",
       "      <th>Halides</th>\n",
       "      <td>1.000000</td>\n",
       "      <td>1.000000</td>\n",
       "      <td>1.000000</td>\n",
       "      <td>2.000000</td>\n",
       "    </tr>\n",
       "    <tr>\n",
       "      <th>Oxides</th>\n",
       "      <td>0.666667</td>\n",
       "      <td>1.000000</td>\n",
       "      <td>0.800000</td>\n",
       "      <td>2.000000</td>\n",
       "    </tr>\n",
       "    <tr>\n",
       "      <th>Phosphates,Arsenates,Vanadates</th>\n",
       "      <td>1.000000</td>\n",
       "      <td>0.954023</td>\n",
       "      <td>0.976471</td>\n",
       "      <td>87.000000</td>\n",
       "    </tr>\n",
       "    <tr>\n",
       "      <th>Silicates</th>\n",
       "      <td>0.896552</td>\n",
       "      <td>1.000000</td>\n",
       "      <td>0.945455</td>\n",
       "      <td>26.000000</td>\n",
       "    </tr>\n",
       "    <tr>\n",
       "      <th>accuracy</th>\n",
       "      <td>0.967742</td>\n",
       "      <td>0.967742</td>\n",
       "      <td>0.967742</td>\n",
       "      <td>0.967742</td>\n",
       "    </tr>\n",
       "    <tr>\n",
       "      <th>macro avg</th>\n",
       "      <td>0.912644</td>\n",
       "      <td>0.990805</td>\n",
       "      <td>0.944385</td>\n",
       "      <td>124.000000</td>\n",
       "    </tr>\n",
       "    <tr>\n",
       "      <th>weighted avg</th>\n",
       "      <td>0.972933</td>\n",
       "      <td>0.967742</td>\n",
       "      <td>0.968829</td>\n",
       "      <td>124.000000</td>\n",
       "    </tr>\n",
       "  </tbody>\n",
       "</table>\n",
       "</div>"
      ],
      "text/plain": [
       "                                precision    recall  f1-score     support\n",
       "Carbonates(Nitrates)             1.000000  1.000000  1.000000    7.000000\n",
       "Halides                          1.000000  1.000000  1.000000    2.000000\n",
       "Oxides                           0.666667  1.000000  0.800000    2.000000\n",
       "Phosphates,Arsenates,Vanadates   1.000000  0.954023  0.976471   87.000000\n",
       "Silicates                        0.896552  1.000000  0.945455   26.000000\n",
       "accuracy                         0.967742  0.967742  0.967742    0.967742\n",
       "macro avg                        0.912644  0.990805  0.944385  124.000000\n",
       "weighted avg                     0.972933  0.967742  0.968829  124.000000"
      ]
     },
     "execution_count": 37,
     "metadata": {},
     "output_type": "execute_result"
    }
   ],
   "source": [
    "vs1_predictions = predict_model(final_model, data=vs1)\n",
    "\n",
    "vs1_for_pred = vs1.drop(['target'], axis=1)\n",
    "\n",
    "vs1_predictions = predict_model(final_model, vs1_for_pred)\n",
    "vs1_predictions['target'] = vs1['target']\n",
    "#metrics for vs1\n",
    "y_true_vs1 = vs1_predictions['target']\n",
    "y_pred_vs1 = vs1_predictions['prediction_label']\n",
    "class_rep_vs1 = pd.DataFrame(classification_report(y_true_vs1, y_pred_vs1, output_dict=True)).T\n",
    "\n",
    "vs1_predictions.to_csv('./intermediate_data/strunz_predictions_vs1.csv')\n",
    "class_rep_vs1.to_csv('./TABLES/strunzclassifier_classification_report_vs1.csv')\n",
    "class_rep_vs1\n"
   ]
  },
  {
   "cell_type": "code",
   "execution_count": 38,
   "id": "0c43f81f-b5c9-455e-8262-4ba1abed40ac",
   "metadata": {},
   "outputs": [
    {
     "data": {
      "application/vnd.jupyter.widget-view+json": {
       "model_id": "d7faad7864d6405badea4427a2d890bf",
       "version_major": 2,
       "version_minor": 0
      },
      "text/plain": [
       "interactive(children=(ToggleButtons(description='Plot Type:', icons=('',), options=(('Pipeline Plot', 'pipelin…"
      ]
     },
     "metadata": {},
     "output_type": "display_data"
    }
   ],
   "source": [
    "evaluate_model(final_model, plot_kwargs ={'classes' : get_config('pipeline').steps[0][1].transformer.classes_})"
   ]
  },
  {
   "cell_type": "code",
   "execution_count": 39,
   "id": "775da1b0-4d0b-49ce-9b61-840b82ff9635",
   "metadata": {},
   "outputs": [],
   "source": [
    "final_model_parameters = pull()\n",
    "final_model_parameters.to_csv('./TABLES/final_strunzclassifier_parameters.csv')"
   ]
  },
  {
   "cell_type": "markdown",
   "id": "a6643fff-b51e-422e-bbcf-05911c63aa9f",
   "metadata": {},
   "source": [
    "### Save the Model\n",
    "This function saves the transformation pipeline and trained model object into the current working directory as a pickle file for later use."
   ]
  },
  {
   "cell_type": "code",
   "execution_count": 40,
   "id": "83fb5365",
   "metadata": {},
   "outputs": [
    {
     "name": "stdout",
     "output_type": "stream",
     "text": [
      "Transformation Pipeline and Model Successfully Saved\n"
     ]
    },
    {
     "data": {
      "text/plain": [
       "(Pipeline(memory=FastMemory(location=/tmp/joblib),\n",
       "          steps=[('label_encoding',\n",
       "                  TransformerWrapperWithInverse(exclude=None, include=None,\n",
       "                                                transformer=LabelEncoder())),\n",
       "                 ('numerical_imputer',\n",
       "                  TransformerWrapper(exclude=None,\n",
       "                                     include=['Mg', 'Al', 'Si', 'P', 'S', 'Cl',\n",
       "                                              'K', 'Ca', 'Sc', 'Ti', 'V', 'Cr',\n",
       "                                              'Mn', 'Fe', 'Co', 'Ni', 'Cu', 'Zn',\n",
       "                                              'Ga', 'Ge', 'As', 'Se', 'Br', 'Rb',\n",
       "                                              'Sr', 'Y', 'Zr'...\n",
       "                                                                       importance_type='split',\n",
       "                                                                       learning_rate=0.2,\n",
       "                                                                       max_depth=-1,\n",
       "                                                                       min_child_samples=21,\n",
       "                                                                       min_child_weight=0.001,\n",
       "                                                                       min_split_gain=0,\n",
       "                                                                       n_estimators=270,\n",
       "                                                                       n_jobs=-1,\n",
       "                                                                       num_leaves=80,\n",
       "                                                                       objective=None,\n",
       "                                                                       random_state=123,\n",
       "                                                                       reg_alpha=0.005,\n",
       "                                                                       reg_lambda=0.3,\n",
       "                                                                       silent='warn',\n",
       "                                                                       subsample=1.0,\n",
       "                                                                       subsample_for_bin=200000,\n",
       "                                                                       subsample_freq=0),\n",
       "                                         cv=5, ensemble=True, estimator=None,\n",
       "                                         method='sigmoid', n_jobs=None))],\n",
       "          verbose=False),\n",
       " './intermediate_data/strunz_classifier.pkl')"
      ]
     },
     "execution_count": 40,
     "metadata": {},
     "output_type": "execute_result"
    }
   ],
   "source": [
    "save_model(final_model, model_name = './intermediate_data/strunz_classifier',verbose=True)"
   ]
  },
  {
   "cell_type": "code",
   "execution_count": null,
   "id": "a50fd6ac",
   "metadata": {},
   "outputs": [],
   "source": []
  }
 ],
 "metadata": {
  "kernelspec": {
   "display_name": "Python 3 (ipykernel)",
   "language": "python",
   "name": "python3"
  },
  "language_info": {
   "codemirror_mode": {
    "name": "ipython",
    "version": 3
   },
   "file_extension": ".py",
   "mimetype": "text/x-python",
   "name": "python",
   "nbconvert_exporter": "python",
   "pygments_lexer": "ipython3",
   "version": "3.8.10"
  }
 },
 "nbformat": 4,
 "nbformat_minor": 5
}

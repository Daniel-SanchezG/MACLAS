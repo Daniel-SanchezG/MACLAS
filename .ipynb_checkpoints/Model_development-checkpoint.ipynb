{
 "cells": [
  {
   "cell_type": "markdown",
   "id": "6dfcc4a3",
   "metadata": {},
   "source": [
    "##  Model development Pipeline.\n",
    "\n",
    "This notebook presents the entire development process of the Multiclass Model of Mineral Species Classification.\n",
    "It contains:\n",
    "\n",
    "\n",
    "* Exploratory data analysis\n",
    "* Preprocessing and resampling\n",
    "* Algorithm evaluation and benchmarking\n",
    "* Optimization\n",
    "* Calibration \n",
    "* Final validation\n",
    " \n",
    "\n",
    "\n",
    "\n",
    "#### Clasification function is given by; X = (1243 x 45 numerical features), y = 18 classes\n",
    "\n",
    "\n",
    "---"
   ]
  },
  {
   "cell_type": "code",
   "execution_count": 1,
   "id": "83877dab",
   "metadata": {
    "tags": []
   },
   "outputs": [],
   "source": [
    "import pandas as pd\n",
    "import numpy as np\n",
    "from pycaret.classification import * # Machine learning tools\n",
    "import imblearn  # Resampling\n",
    "from imblearn.over_sampling import SMOTE \n",
    "from imblearn.under_sampling import CondensedNearestNeighbour \n",
    "from imblearn.under_sampling import EditedNearestNeighbours\n",
    "from sklearn.metrics import ConfusionMatrixDisplay # Model evaluation\n",
    "import matplotlib.pyplot as plt # Visualization\n",
    "import seaborn as sns\n",
    "from sklearn.metrics import classification_report # Model evaluation report\n",
    "from ipywidgets import widgets # Interactive functions"
   ]
  },
  {
   "cell_type": "markdown",
   "id": "c0c683ae",
   "metadata": {},
   "source": [
    "#### Performing basic data exploratory analysis"
   ]
  },
  {
   "cell_type": "code",
   "execution_count": 2,
   "id": "fc04a540",
   "metadata": {},
   "outputs": [
    {
     "name": "stdout",
     "output_type": "stream",
     "text": [
      "<class 'pandas.core.frame.DataFrame'>\n",
      "RangeIndex: 1243 entries, 0 to 1242\n",
      "Data columns (total 56 columns):\n",
      " #   Column            Non-Null Count  Dtype  \n",
      "---  ------            --------------  -----  \n",
      " 0   index             1243 non-null   int64  \n",
      " 1   Name              1243 non-null   object \n",
      " 2   XRD_MIN_          1243 non-null   object \n",
      " 3   XRD_MIN_2         196 non-null    object \n",
      " 4   XRD_MIN_3         51 non-null     object \n",
      " 5   XRD_MIN_4         4 non-null      object \n",
      " 6   target            1243 non-null   object \n",
      " 7   Strunz            1243 non-null   object \n",
      " 8   Variscite_Binary  1158 non-null   float64\n",
      " 9   Duration          1237 non-null   float64\n",
      " 10  Mg                1243 non-null   float64\n",
      " 11  Al                1243 non-null   float64\n",
      " 12  Si                1243 non-null   float64\n",
      " 13  P                 1243 non-null   float64\n",
      " 14  S                 1243 non-null   float64\n",
      " 15  Cl                1243 non-null   float64\n",
      " 16  K                 1243 non-null   float64\n",
      " 17  Ca                1243 non-null   float64\n",
      " 18  Sc                1243 non-null   float64\n",
      " 19  Ti                1243 non-null   float64\n",
      " 20  V                 1243 non-null   float64\n",
      " 21  Cr                1243 non-null   float64\n",
      " 22  Mn                1243 non-null   float64\n",
      " 23  Fe                1243 non-null   float64\n",
      " 24  Co                1243 non-null   float64\n",
      " 25  Ni                1243 non-null   float64\n",
      " 26  Cu                1243 non-null   float64\n",
      " 27  Zn                1243 non-null   float64\n",
      " 28  Ga                1243 non-null   float64\n",
      " 29  Ge                1243 non-null   float64\n",
      " 30  As                1243 non-null   float64\n",
      " 31  Se                1243 non-null   float64\n",
      " 32  Br                1243 non-null   float64\n",
      " 33  Rb                1243 non-null   float64\n",
      " 34  Sr                1243 non-null   float64\n",
      " 35  Y                 1243 non-null   float64\n",
      " 36  Zr                1243 non-null   float64\n",
      " 37  Nb                1243 non-null   float64\n",
      " 38  Mo                1243 non-null   float64\n",
      " 39  Ru                1243 non-null   float64\n",
      " 40  Pd                1243 non-null   float64\n",
      " 41  Ag                1243 non-null   float64\n",
      " 42  Cd                1243 non-null   float64\n",
      " 43  In                1243 non-null   float64\n",
      " 44  Sn                1243 non-null   float64\n",
      " 45  Sb                1243 non-null   float64\n",
      " 46  Te                1243 non-null   float64\n",
      " 47  Ba                1243 non-null   float64\n",
      " 48  Ta                1243 non-null   float64\n",
      " 49  W                 1243 non-null   float64\n",
      " 50  Au                1243 non-null   float64\n",
      " 51  Hg                1243 non-null   float64\n",
      " 52  Tl                1243 non-null   float64\n",
      " 53  Pb                1243 non-null   float64\n",
      " 54  Th                1243 non-null   float64\n",
      " 55  suma              1243 non-null   float64\n",
      "dtypes: float64(48), int64(1), object(7)\n",
      "memory usage: 543.9+ KB\n"
     ]
    }
   ],
   "source": [
    "df1 = pd.read_excel('./DATA/MACLAS_DATASET.xlsx',sheet_name='training', engine='openpyxl')\n",
    "#df1 = df1.drop_duplicates(subset='Name')\n",
    "df1.info(verbose=True, null_counts=True)"
   ]
  },
  {
   "cell_type": "code",
   "execution_count": 3,
   "id": "c11bd0ad",
   "metadata": {},
   "outputs": [],
   "source": [
    "#Filtering contextual data\n",
    "df = df1.iloc[:, 10:]\n",
    "df = df.drop(['suma'], axis= 1)\n",
    "df['target'] = df1['target']\n"
   ]
  },
  {
   "cell_type": "code",
   "execution_count": 4,
   "id": "8cc65957",
   "metadata": {},
   "outputs": [
    {
     "name": "stdout",
     "output_type": "stream",
     "text": [
      "<class 'pandas.core.frame.DataFrame'>\n",
      "RangeIndex: 1243 entries, 0 to 1242\n",
      "Data columns (total 46 columns):\n",
      " #   Column  Non-Null Count  Dtype  \n",
      "---  ------  --------------  -----  \n",
      " 0   Mg      1243 non-null   float64\n",
      " 1   Al      1243 non-null   float64\n",
      " 2   Si      1243 non-null   float64\n",
      " 3   P       1243 non-null   float64\n",
      " 4   S       1243 non-null   float64\n",
      " 5   Cl      1243 non-null   float64\n",
      " 6   K       1243 non-null   float64\n",
      " 7   Ca      1243 non-null   float64\n",
      " 8   Sc      1243 non-null   float64\n",
      " 9   Ti      1243 non-null   float64\n",
      " 10  V       1243 non-null   float64\n",
      " 11  Cr      1243 non-null   float64\n",
      " 12  Mn      1243 non-null   float64\n",
      " 13  Fe      1243 non-null   float64\n",
      " 14  Co      1243 non-null   float64\n",
      " 15  Ni      1243 non-null   float64\n",
      " 16  Cu      1243 non-null   float64\n",
      " 17  Zn      1243 non-null   float64\n",
      " 18  Ga      1243 non-null   float64\n",
      " 19  Ge      1243 non-null   float64\n",
      " 20  As      1243 non-null   float64\n",
      " 21  Se      1243 non-null   float64\n",
      " 22  Br      1243 non-null   float64\n",
      " 23  Rb      1243 non-null   float64\n",
      " 24  Sr      1243 non-null   float64\n",
      " 25  Y       1243 non-null   float64\n",
      " 26  Zr      1243 non-null   float64\n",
      " 27  Nb      1243 non-null   float64\n",
      " 28  Mo      1243 non-null   float64\n",
      " 29  Ru      1243 non-null   float64\n",
      " 30  Pd      1243 non-null   float64\n",
      " 31  Ag      1243 non-null   float64\n",
      " 32  Cd      1243 non-null   float64\n",
      " 33  In      1243 non-null   float64\n",
      " 34  Sn      1243 non-null   float64\n",
      " 35  Sb      1243 non-null   float64\n",
      " 36  Te      1243 non-null   float64\n",
      " 37  Ba      1243 non-null   float64\n",
      " 38  Ta      1243 non-null   float64\n",
      " 39  W       1243 non-null   float64\n",
      " 40  Au      1243 non-null   float64\n",
      " 41  Hg      1243 non-null   float64\n",
      " 42  Tl      1243 non-null   float64\n",
      " 43  Pb      1243 non-null   float64\n",
      " 44  Th      1243 non-null   float64\n",
      " 45  target  1243 non-null   object \n",
      "dtypes: float64(45), object(1)\n",
      "memory usage: 446.8+ KB\n"
     ]
    }
   ],
   "source": [
    "df.info()"
   ]
  },
  {
   "cell_type": "markdown",
   "id": "bfc68337",
   "metadata": {},
   "source": [
    "#### Checking that there are no missing values in the data"
   ]
  },
  {
   "cell_type": "code",
   "execution_count": 5,
   "id": "be1a99a4",
   "metadata": {},
   "outputs": [
    {
     "data": {
      "text/plain": [
       "False"
      ]
     },
     "execution_count": 5,
     "metadata": {},
     "output_type": "execute_result"
    }
   ],
   "source": [
    "df.isnull().any().any()"
   ]
  },
  {
   "cell_type": "markdown",
   "id": "d29651b9",
   "metadata": {},
   "source": [
    "#### Exploring target distribution"
   ]
  },
  {
   "cell_type": "code",
   "execution_count": 6,
   "id": "14dc50fc",
   "metadata": {},
   "outputs": [
    {
     "data": {
      "text/plain": [
       "Variscite              781\n",
       "Muscovite               68\n",
       "Clinochlore             53\n",
       "Talc                    41\n",
       "Aheylite                35\n",
       "Chlorite-serpentine     35\n",
       "Calcite                 28\n",
       "Berlinite               25\n",
       "Crandallite             23\n",
       "Planerite               18\n",
       "Strengite               12\n",
       "Annabergite             11\n",
       "Metavariscite            9\n",
       "Aragonite                8\n",
       "Fluorite                 8\n",
       "Quartz                   7\n",
       "Turquoise                7\n",
       "Illite                   7\n",
       "Volkonskoite             6\n",
       "Phosphosiderite          5\n",
       "Ankerite                 4\n",
       "Alunite                  3\n",
       "Goethite                 3\n",
       "Braunite                 3\n",
       "Phlogopite               3\n",
       "Nimite                   2\n",
       "Fluellite                2\n",
       "Satterlyite              2\n",
       "Montgomeryite            2\n",
       "Dickite                  2\n",
       "Dolomite                 2\n",
       "Magnesiochloritoid       2\n",
       "Nontronite               2\n",
       "Chrysotile               2\n",
       "Kaolinite                2\n",
       "Pyrophyllite             2\n",
       "Paranatrolite            2\n",
       "Opal-A                   1\n",
       "Montmorillonite          1\n",
       "Microcline               1\n",
       "Hematite                 1\n",
       "Saponite                 1\n",
       "Celestine                1\n",
       "Jarosite                 1\n",
       "Cordierite               1\n",
       "Anorthite                1\n",
       "Riebeckite               1\n",
       "Hydroxylapatite          1\n",
       "Sobolevite               1\n",
       "Chlorite-Serpentine      1\n",
       "Clinocrisotile           1\n",
       "Monetite                 1\n",
       "Lepidolite               1\n",
       "Name: target, dtype: int64"
      ]
     },
     "execution_count": 6,
     "metadata": {},
     "output_type": "execute_result"
    }
   ],
   "source": [
    "target = df['target'].value_counts()\n",
    "target"
   ]
  },
  {
   "cell_type": "markdown",
   "id": "1960eb05",
   "metadata": {},
   "source": [
    "### Preprocess:"
   ]
  },
  {
   "cell_type": "markdown",
   "id": "b8cbd14f-3a0d-4f1a-973f-99ba3bf6e594",
   "metadata": {},
   "source": [
    "We have established a minimum number of seven cases per class in order to keep the label within the  training data, below this threshold we have had a lot of problems with the resampling strategies. A lower number leads to a resampling with very homogeneous samples which in the end leads to a high risk of overfitting."
   ]
  },
  {
   "cell_type": "code",
   "execution_count": 7,
   "id": "ba34eff4",
   "metadata": {},
   "outputs": [],
   "source": [
    "# Case deletion for classes < 7\n",
    "casos = target[target <7]\n",
    "values = casos.index\n",
    "values\n",
    "deleted_cases= df[df[\"target\"].isin(values)]\n",
    "case_del = deleted_cases.index\n",
    "df.drop(case_del, inplace=True)"
   ]
  },
  {
   "cell_type": "code",
   "execution_count": 8,
   "id": "3de282c9",
   "metadata": {},
   "outputs": [
    {
     "name": "stdout",
     "output_type": "stream",
     "text": [
      "<class 'pandas.core.frame.DataFrame'>\n",
      "Int64Index: 1176 entries, 0 to 1242\n",
      "Data columns (total 46 columns):\n",
      " #   Column  Non-Null Count  Dtype  \n",
      "---  ------  --------------  -----  \n",
      " 0   Mg      1176 non-null   float64\n",
      " 1   Al      1176 non-null   float64\n",
      " 2   Si      1176 non-null   float64\n",
      " 3   P       1176 non-null   float64\n",
      " 4   S       1176 non-null   float64\n",
      " 5   Cl      1176 non-null   float64\n",
      " 6   K       1176 non-null   float64\n",
      " 7   Ca      1176 non-null   float64\n",
      " 8   Sc      1176 non-null   float64\n",
      " 9   Ti      1176 non-null   float64\n",
      " 10  V       1176 non-null   float64\n",
      " 11  Cr      1176 non-null   float64\n",
      " 12  Mn      1176 non-null   float64\n",
      " 13  Fe      1176 non-null   float64\n",
      " 14  Co      1176 non-null   float64\n",
      " 15  Ni      1176 non-null   float64\n",
      " 16  Cu      1176 non-null   float64\n",
      " 17  Zn      1176 non-null   float64\n",
      " 18  Ga      1176 non-null   float64\n",
      " 19  Ge      1176 non-null   float64\n",
      " 20  As      1176 non-null   float64\n",
      " 21  Se      1176 non-null   float64\n",
      " 22  Br      1176 non-null   float64\n",
      " 23  Rb      1176 non-null   float64\n",
      " 24  Sr      1176 non-null   float64\n",
      " 25  Y       1176 non-null   float64\n",
      " 26  Zr      1176 non-null   float64\n",
      " 27  Nb      1176 non-null   float64\n",
      " 28  Mo      1176 non-null   float64\n",
      " 29  Ru      1176 non-null   float64\n",
      " 30  Pd      1176 non-null   float64\n",
      " 31  Ag      1176 non-null   float64\n",
      " 32  Cd      1176 non-null   float64\n",
      " 33  In      1176 non-null   float64\n",
      " 34  Sn      1176 non-null   float64\n",
      " 35  Sb      1176 non-null   float64\n",
      " 36  Te      1176 non-null   float64\n",
      " 37  Ba      1176 non-null   float64\n",
      " 38  Ta      1176 non-null   float64\n",
      " 39  W       1176 non-null   float64\n",
      " 40  Au      1176 non-null   float64\n",
      " 41  Hg      1176 non-null   float64\n",
      " 42  Tl      1176 non-null   float64\n",
      " 43  Pb      1176 non-null   float64\n",
      " 44  Th      1176 non-null   float64\n",
      " 45  target  1176 non-null   object \n",
      "dtypes: float64(45), object(1)\n",
      "memory usage: 431.8+ KB\n"
     ]
    }
   ],
   "source": [
    "df.info()"
   ]
  },
  {
   "cell_type": "markdown",
   "id": "b73d27c2",
   "metadata": {},
   "source": [
    "### Target distribution after class deletion"
   ]
  },
  {
   "cell_type": "code",
   "execution_count": 9,
   "id": "dd092958",
   "metadata": {},
   "outputs": [
    {
     "data": {
      "text/plain": [
       "Variscite              781\n",
       "Muscovite               68\n",
       "Clinochlore             53\n",
       "Talc                    41\n",
       "Chlorite-serpentine     35\n",
       "Aheylite                35\n",
       "Calcite                 28\n",
       "Berlinite               25\n",
       "Crandallite             23\n",
       "Planerite               18\n",
       "Strengite               12\n",
       "Annabergite             11\n",
       "Metavariscite            9\n",
       "Aragonite                8\n",
       "Fluorite                 8\n",
       "Illite                   7\n",
       "Turquoise                7\n",
       "Quartz                   7\n",
       "Name: target, dtype: int64"
      ]
     },
     "execution_count": 9,
     "metadata": {},
     "output_type": "execute_result"
    }
   ],
   "source": [
    "target = df['target'].value_counts()\n",
    "target"
   ]
  },
  {
   "cell_type": "markdown",
   "id": "724f963e",
   "metadata": {},
   "source": [
    "#### Creating Validation Set 1 (VS1) (10%)\n",
    "```\n",
    "Note that these data have not been resampled.```"
   ]
  },
  {
   "cell_type": "code",
   "execution_count": 10,
   "id": "1492c239",
   "metadata": {},
   "outputs": [
    {
     "name": "stdout",
     "output_type": "stream",
     "text": [
      "Data for further procedures: (1058, 46)\n",
      "Data for final validation: (118, 46)\n"
     ]
    }
   ],
   "source": [
    "# Validation set 1 (VS1)\n",
    "data = df.sample(frac=0.90, random_state=786)\n",
    "vs1 = df.drop(data.index)\n",
    "data.reset_index(inplace=True, drop=True)\n",
    "vs1.reset_index(inplace=True, drop=True)\n",
    "print('Data for further procedures: ' + str(data.shape))\n",
    "print('Data for final validation: ' + str(vs1.shape))\n",
    "#vs1.to_csv('./TABLES/validation_set1.csv')"
   ]
  },
  {
   "cell_type": "markdown",
   "id": "7ad52ff2",
   "metadata": {},
   "source": [
    "#### Creating our Classification function:\n",
    "\n",
    "the same pipeline has been used to aim at different targets. In this [notebook](./Strunz_Model_development.ipynb) you will find the model for classifying major groups."
   ]
  },
  {
   "cell_type": "code",
   "execution_count": 11,
   "id": "ce6cd74d",
   "metadata": {},
   "outputs": [],
   "source": [
    "X = df.drop(['target'], axis=1)\n",
    "y = df['target']"
   ]
  },
  {
   "cell_type": "code",
   "execution_count": 12,
   "id": "c505798b",
   "metadata": {},
   "outputs": [
    {
     "name": "stdout",
     "output_type": "stream",
     "text": [
      "<class 'pandas.core.frame.DataFrame'>\n",
      "Int64Index: 1176 entries, 0 to 1242\n",
      "Data columns (total 45 columns):\n",
      " #   Column  Non-Null Count  Dtype  \n",
      "---  ------  --------------  -----  \n",
      " 0   Mg      1176 non-null   float64\n",
      " 1   Al      1176 non-null   float64\n",
      " 2   Si      1176 non-null   float64\n",
      " 3   P       1176 non-null   float64\n",
      " 4   S       1176 non-null   float64\n",
      " 5   Cl      1176 non-null   float64\n",
      " 6   K       1176 non-null   float64\n",
      " 7   Ca      1176 non-null   float64\n",
      " 8   Sc      1176 non-null   float64\n",
      " 9   Ti      1176 non-null   float64\n",
      " 10  V       1176 non-null   float64\n",
      " 11  Cr      1176 non-null   float64\n",
      " 12  Mn      1176 non-null   float64\n",
      " 13  Fe      1176 non-null   float64\n",
      " 14  Co      1176 non-null   float64\n",
      " 15  Ni      1176 non-null   float64\n",
      " 16  Cu      1176 non-null   float64\n",
      " 17  Zn      1176 non-null   float64\n",
      " 18  Ga      1176 non-null   float64\n",
      " 19  Ge      1176 non-null   float64\n",
      " 20  As      1176 non-null   float64\n",
      " 21  Se      1176 non-null   float64\n",
      " 22  Br      1176 non-null   float64\n",
      " 23  Rb      1176 non-null   float64\n",
      " 24  Sr      1176 non-null   float64\n",
      " 25  Y       1176 non-null   float64\n",
      " 26  Zr      1176 non-null   float64\n",
      " 27  Nb      1176 non-null   float64\n",
      " 28  Mo      1176 non-null   float64\n",
      " 29  Ru      1176 non-null   float64\n",
      " 30  Pd      1176 non-null   float64\n",
      " 31  Ag      1176 non-null   float64\n",
      " 32  Cd      1176 non-null   float64\n",
      " 33  In      1176 non-null   float64\n",
      " 34  Sn      1176 non-null   float64\n",
      " 35  Sb      1176 non-null   float64\n",
      " 36  Te      1176 non-null   float64\n",
      " 37  Ba      1176 non-null   float64\n",
      " 38  Ta      1176 non-null   float64\n",
      " 39  W       1176 non-null   float64\n",
      " 40  Au      1176 non-null   float64\n",
      " 41  Hg      1176 non-null   float64\n",
      " 42  Tl      1176 non-null   float64\n",
      " 43  Pb      1176 non-null   float64\n",
      " 44  Th      1176 non-null   float64\n",
      "dtypes: float64(45)\n",
      "memory usage: 454.9 KB\n"
     ]
    }
   ],
   "source": [
    "X.info()"
   ]
  },
  {
   "cell_type": "markdown",
   "id": "14a7c0c1",
   "metadata": {},
   "source": [
    "####  Handling Imbalance (Subsampling Majority Class)\n",
    "We used [The Condensed Nearest Neighbour Rule](https://ieeexplore.ieee.org/document/1054155) to keep only non-redundant data on majority class \"Variscite\".\n",
    "\n",
    "Setting a number of 5 neighbors has proven to be optimal in eliminating redundant cases.\n",
    "\n",
    "```Note that the resulting sub-sampled set contains only 252 Variscite data points. This number can be controlled by the n_seeds_S parameter.``` "
   ]
  },
  {
   "cell_type": "code",
   "execution_count": 13,
   "id": "516282af",
   "metadata": {},
   "outputs": [
    {
     "data": {
      "text/plain": [
       "Variscite              252\n",
       "Muscovite               68\n",
       "Clinochlore             53\n",
       "Talc                    41\n",
       "Chlorite-serpentine     35\n",
       "Aheylite                35\n",
       "Calcite                 28\n",
       "Berlinite               25\n",
       "Crandallite             23\n",
       "Planerite               18\n",
       "Strengite               12\n",
       "Annabergite             11\n",
       "Metavariscite            9\n",
       "Fluorite                 8\n",
       "Aragonite                8\n",
       "Quartz                   7\n",
       "Turquoise                7\n",
       "Illite                   7\n",
       "Name: target, dtype: int64"
      ]
     },
     "execution_count": 13,
     "metadata": {},
     "output_type": "execute_result"
    },
    {
     "data": {
      "image/png": "[encoded data removed]",
      "text/plain": [
       "<Figure size 800x550 with 1 Axes>"
      ]
     },
     "metadata": {},
     "output_type": "display_data"
    }
   ],
   "source": [
    "undersample = CondensedNearestNeighbour(sampling_strategy=['Variscite'], n_neighbors=5, n_seeds_S= 250, random_state=123)\n",
    "X_cnn, y_cnn = undersample.fit_resample(X, y)\n",
    "y_cnn.value_counts().plot(kind='bar')\n",
    "y_cnn.value_counts()"
   ]
  },
  {
   "cell_type": "markdown",
   "id": "372f566e",
   "metadata": {},
   "source": [
    "#### Data augmentation of minority classes\n",
    "We carry out the Synthetic Minority Oversampling Technique (SMOTE)"
   ]
  },
  {
   "cell_type": "code",
   "execution_count": 14,
   "id": "30e713f8",
   "metadata": {},
   "outputs": [
    {
     "data": {
      "text/plain": [
       "Aheylite               252\n",
       "Annabergite            252\n",
       "Turquoise              252\n",
       "Talc                   252\n",
       "Strengite              252\n",
       "Quartz                 252\n",
       "Planerite              252\n",
       "Muscovite              252\n",
       "Metavariscite          252\n",
       "Illite                 252\n",
       "Fluorite               252\n",
       "Crandallite            252\n",
       "Clinochlore            252\n",
       "Chlorite-serpentine    252\n",
       "Calcite                252\n",
       "Berlinite              252\n",
       "Aragonite              252\n",
       "Variscite              252\n",
       "Name: target, dtype: int64"
      ]
     },
     "execution_count": 14,
     "metadata": {},
     "output_type": "execute_result"
    },
    {
     "data": {
      "image/png": "[encoded data removed]",
      "text/plain": [
       "<Figure size 800x550 with 1 Axes>"
      ]
     },
     "metadata": {},
     "output_type": "display_data"
    }
   ],
   "source": [
    "# oversampling strategy\n",
    "smote = SMOTE()\n",
    "X_smote, y_smote = smote.fit_resample(X_cnn, y_cnn)\n",
    "\n",
    "y_smote.value_counts().plot(kind='bar')\n",
    "y_smote.value_counts()"
   ]
  },
  {
   "cell_type": "markdown",
   "id": "8fb37169",
   "metadata": {},
   "source": [
    "#### We have created a balanced data set with 252 cases per class."
   ]
  },
  {
   "cell_type": "code",
   "execution_count": 15,
   "id": "a69a913c",
   "metadata": {},
   "outputs": [],
   "source": [
    "# Creating final resampled dataset\n",
    "smote_data = X_smote\n",
    "smote_data['target'] = y_smote"
   ]
  },
  {
   "cell_type": "code",
   "execution_count": 16,
   "id": "68636863",
   "metadata": {},
   "outputs": [
    {
     "name": "stdout",
     "output_type": "stream",
     "text": [
      "<class 'pandas.core.frame.DataFrame'>\n",
      "RangeIndex: 4536 entries, 0 to 4535\n",
      "Data columns (total 46 columns):\n",
      " #   Column  Non-Null Count  Dtype  \n",
      "---  ------  --------------  -----  \n",
      " 0   Mg      4536 non-null   float64\n",
      " 1   Al      4536 non-null   float64\n",
      " 2   Si      4536 non-null   float64\n",
      " 3   P       4536 non-null   float64\n",
      " 4   S       4536 non-null   float64\n",
      " 5   Cl      4536 non-null   float64\n",
      " 6   K       4536 non-null   float64\n",
      " 7   Ca      4536 non-null   float64\n",
      " 8   Sc      4536 non-null   float64\n",
      " 9   Ti      4536 non-null   float64\n",
      " 10  V       4536 non-null   float64\n",
      " 11  Cr      4536 non-null   float64\n",
      " 12  Mn      4536 non-null   float64\n",
      " 13  Fe      4536 non-null   float64\n",
      " 14  Co      4536 non-null   float64\n",
      " 15  Ni      4536 non-null   float64\n",
      " 16  Cu      4536 non-null   float64\n",
      " 17  Zn      4536 non-null   float64\n",
      " 18  Ga      4536 non-null   float64\n",
      " 19  Ge      4536 non-null   float64\n",
      " 20  As      4536 non-null   float64\n",
      " 21  Se      4536 non-null   float64\n",
      " 22  Br      4536 non-null   float64\n",
      " 23  Rb      4536 non-null   float64\n",
      " 24  Sr      4536 non-null   float64\n",
      " 25  Y       4536 non-null   float64\n",
      " 26  Zr      4536 non-null   float64\n",
      " 27  Nb      4536 non-null   float64\n",
      " 28  Mo      4536 non-null   float64\n",
      " 29  Ru      4536 non-null   float64\n",
      " 30  Pd      4536 non-null   float64\n",
      " 31  Ag      4536 non-null   float64\n",
      " 32  Cd      4536 non-null   float64\n",
      " 33  In      4536 non-null   float64\n",
      " 34  Sn      4536 non-null   float64\n",
      " 35  Sb      4536 non-null   float64\n",
      " 36  Te      4536 non-null   float64\n",
      " 37  Ba      4536 non-null   float64\n",
      " 38  Ta      4536 non-null   float64\n",
      " 39  W       4536 non-null   float64\n",
      " 40  Au      4536 non-null   float64\n",
      " 41  Hg      4536 non-null   float64\n",
      " 42  Tl      4536 non-null   float64\n",
      " 43  Pb      4536 non-null   float64\n",
      " 44  Th      4536 non-null   float64\n",
      " 45  target  4536 non-null   object \n",
      "dtypes: float64(45), object(1)\n",
      "memory usage: 1.6+ MB\n"
     ]
    }
   ],
   "source": [
    "# Final dataset shape after resampling\n",
    "smote_data.info()"
   ]
  },
  {
   "cell_type": "markdown",
   "id": "997fc378",
   "metadata": {},
   "source": [
    "#### Creating Validation Set 2 (VS2) (10%)\n",
    "```\n",
    "Note that this subset contains synthetic data```"
   ]
  },
  {
   "cell_type": "code",
   "execution_count": 17,
   "id": "7d8c829f",
   "metadata": {},
   "outputs": [
    {
     "name": "stdout",
     "output_type": "stream",
     "text": [
      "Data for model development: (4082, 46)\n",
      "Data for VS2: (454, 46)\n"
     ]
    }
   ],
   "source": [
    "# Second Data split. 10% Held-out for validation\n",
    "data = smote_data.sample(frac=0.90, random_state=786)\n",
    "vs2 = smote_data.drop(data.index)\n",
    "data.reset_index(inplace=True, drop=True)\n",
    "vs2.reset_index(inplace=True, drop=True)\n",
    "print('Data for model development: ' + str(data.shape))\n",
    "print('Data for VS2: ' + str(vs2.shape))"
   ]
  },
  {
   "cell_type": "code",
   "execution_count": null,
   "id": "a57b819b-43b3-4f62-af8a-427a2bd2b938",
   "metadata": {
    "tags": []
   },
   "outputs": [],
   "source": []
  },
  {
   "cell_type": "markdown",
   "id": "ffd15cfb",
   "metadata": {},
   "source": [
    "### Model Development:\n",
    "\n",
    "Once the data preprocessing is finished, we are going to develop a multiclass classification model.\n",
    "For evaluation and comparison of the different algorithms, a stratified cross-validation resampling technique has been used using 80% of the data for training. For Development pourposes we use Pycaret, a library that offers several machine learing tools on top of scikit-learn\n",
    "\n",
    "**session_id parameter generates a seed for later reproducibility**"
   ]
  },
  {
   "cell_type": "code",
   "execution_count": 18,
   "id": "32f9e3c1",
   "metadata": {},
   "outputs": [
    {
     "data": {
      "text/html": [
       "<style type=\"text/css\">\n",
       "#T_dca76_row9_col1 {\n",
       "  background-color: lightgreen;\n",
       "}\n",
       "</style>\n",
       "<table id=\"T_dca76\">\n",
       "  <thead>\n",
       "    <tr>\n",
       "      <th class=\"blank level0\" >&nbsp;</th>\n",
       "      <th id=\"T_dca76_level0_col0\" class=\"col_heading level0 col0\" >Description</th>\n",
       "      <th id=\"T_dca76_level0_col1\" class=\"col_heading level0 col1\" >Value</th>\n",
       "    </tr>\n",
       "  </thead>\n",
       "  <tbody>\n",
       "    <tr>\n",
       "      <th id=\"T_dca76_level0_row0\" class=\"row_heading level0 row0\" >0</th>\n",
       "      <td id=\"T_dca76_row0_col0\" class=\"data row0 col0\" >Session id</td>\n",
       "      <td id=\"T_dca76_row0_col1\" class=\"data row0 col1\" >123</td>\n",
       "    </tr>\n",
       "    <tr>\n",
       "      <th id=\"T_dca76_level0_row1\" class=\"row_heading level0 row1\" >1</th>\n",
       "      <td id=\"T_dca76_row1_col0\" class=\"data row1 col0\" >Target</td>\n",
       "      <td id=\"T_dca76_row1_col1\" class=\"data row1 col1\" >target</td>\n",
       "    </tr>\n",
       "    <tr>\n",
       "      <th id=\"T_dca76_level0_row2\" class=\"row_heading level0 row2\" >2</th>\n",
       "      <td id=\"T_dca76_row2_col0\" class=\"data row2 col0\" >Target type</td>\n",
       "      <td id=\"T_dca76_row2_col1\" class=\"data row2 col1\" >Multiclass</td>\n",
       "    </tr>\n",
       "    <tr>\n",
       "      <th id=\"T_dca76_level0_row3\" class=\"row_heading level0 row3\" >3</th>\n",
       "      <td id=\"T_dca76_row3_col0\" class=\"data row3 col0\" >Target mapping</td>\n",
       "      <td id=\"T_dca76_row3_col1\" class=\"data row3 col1\" >Aheylite: 0, Annabergite: 1, Aragonite: 2, Berlinite: 3, Calcite: 4, Chlorite-serpentine: 5, Clinochlore: 6, Crandallite: 7, Fluorite: 8, Illite: 9, Metavariscite: 10, Muscovite: 11, Planerite: 12, Quartz: 13, Strengite: 14, Talc: 15, Turquoise: 16, Variscite: 17</td>\n",
       "    </tr>\n",
       "    <tr>\n",
       "      <th id=\"T_dca76_level0_row4\" class=\"row_heading level0 row4\" >4</th>\n",
       "      <td id=\"T_dca76_row4_col0\" class=\"data row4 col0\" >Original data shape</td>\n",
       "      <td id=\"T_dca76_row4_col1\" class=\"data row4 col1\" >(4082, 46)</td>\n",
       "    </tr>\n",
       "    <tr>\n",
       "      <th id=\"T_dca76_level0_row5\" class=\"row_heading level0 row5\" >5</th>\n",
       "      <td id=\"T_dca76_row5_col0\" class=\"data row5 col0\" >Transformed data shape</td>\n",
       "      <td id=\"T_dca76_row5_col1\" class=\"data row5 col1\" >(4082, 46)</td>\n",
       "    </tr>\n",
       "    <tr>\n",
       "      <th id=\"T_dca76_level0_row6\" class=\"row_heading level0 row6\" >6</th>\n",
       "      <td id=\"T_dca76_row6_col0\" class=\"data row6 col0\" >Transformed train set shape</td>\n",
       "      <td id=\"T_dca76_row6_col1\" class=\"data row6 col1\" >(3265, 46)</td>\n",
       "    </tr>\n",
       "    <tr>\n",
       "      <th id=\"T_dca76_level0_row7\" class=\"row_heading level0 row7\" >7</th>\n",
       "      <td id=\"T_dca76_row7_col0\" class=\"data row7 col0\" >Transformed test set shape</td>\n",
       "      <td id=\"T_dca76_row7_col1\" class=\"data row7 col1\" >(817, 46)</td>\n",
       "    </tr>\n",
       "    <tr>\n",
       "      <th id=\"T_dca76_level0_row8\" class=\"row_heading level0 row8\" >8</th>\n",
       "      <td id=\"T_dca76_row8_col0\" class=\"data row8 col0\" >Numeric features</td>\n",
       "      <td id=\"T_dca76_row8_col1\" class=\"data row8 col1\" >45</td>\n",
       "    </tr>\n",
       "    <tr>\n",
       "      <th id=\"T_dca76_level0_row9\" class=\"row_heading level0 row9\" >9</th>\n",
       "      <td id=\"T_dca76_row9_col0\" class=\"data row9 col0\" >Preprocess</td>\n",
       "      <td id=\"T_dca76_row9_col1\" class=\"data row9 col1\" >True</td>\n",
       "    </tr>\n",
       "    <tr>\n",
       "      <th id=\"T_dca76_level0_row10\" class=\"row_heading level0 row10\" >10</th>\n",
       "      <td id=\"T_dca76_row10_col0\" class=\"data row10 col0\" >Imputation type</td>\n",
       "      <td id=\"T_dca76_row10_col1\" class=\"data row10 col1\" >simple</td>\n",
       "    </tr>\n",
       "    <tr>\n",
       "      <th id=\"T_dca76_level0_row11\" class=\"row_heading level0 row11\" >11</th>\n",
       "      <td id=\"T_dca76_row11_col0\" class=\"data row11 col0\" >Numeric imputation</td>\n",
       "      <td id=\"T_dca76_row11_col1\" class=\"data row11 col1\" >mean</td>\n",
       "    </tr>\n",
       "    <tr>\n",
       "      <th id=\"T_dca76_level0_row12\" class=\"row_heading level0 row12\" >12</th>\n",
       "      <td id=\"T_dca76_row12_col0\" class=\"data row12 col0\" >Categorical imputation</td>\n",
       "      <td id=\"T_dca76_row12_col1\" class=\"data row12 col1\" >mode</td>\n",
       "    </tr>\n",
       "    <tr>\n",
       "      <th id=\"T_dca76_level0_row13\" class=\"row_heading level0 row13\" >13</th>\n",
       "      <td id=\"T_dca76_row13_col0\" class=\"data row13 col0\" >Fold Generator</td>\n",
       "      <td id=\"T_dca76_row13_col1\" class=\"data row13 col1\" >StratifiedKFold</td>\n",
       "    </tr>\n",
       "    <tr>\n",
       "      <th id=\"T_dca76_level0_row14\" class=\"row_heading level0 row14\" >14</th>\n",
       "      <td id=\"T_dca76_row14_col0\" class=\"data row14 col0\" >Fold Number</td>\n",
       "      <td id=\"T_dca76_row14_col1\" class=\"data row14 col1\" >10</td>\n",
       "    </tr>\n",
       "    <tr>\n",
       "      <th id=\"T_dca76_level0_row15\" class=\"row_heading level0 row15\" >15</th>\n",
       "      <td id=\"T_dca76_row15_col0\" class=\"data row15 col0\" >CPU Jobs</td>\n",
       "      <td id=\"T_dca76_row15_col1\" class=\"data row15 col1\" >-1</td>\n",
       "    </tr>\n",
       "    <tr>\n",
       "      <th id=\"T_dca76_level0_row16\" class=\"row_heading level0 row16\" >16</th>\n",
       "      <td id=\"T_dca76_row16_col0\" class=\"data row16 col0\" >Use GPU</td>\n",
       "      <td id=\"T_dca76_row16_col1\" class=\"data row16 col1\" >False</td>\n",
       "    </tr>\n",
       "    <tr>\n",
       "      <th id=\"T_dca76_level0_row17\" class=\"row_heading level0 row17\" >17</th>\n",
       "      <td id=\"T_dca76_row17_col0\" class=\"data row17 col0\" >Log Experiment</td>\n",
       "      <td id=\"T_dca76_row17_col1\" class=\"data row17 col1\" >False</td>\n",
       "    </tr>\n",
       "    <tr>\n",
       "      <th id=\"T_dca76_level0_row18\" class=\"row_heading level0 row18\" >18</th>\n",
       "      <td id=\"T_dca76_row18_col0\" class=\"data row18 col0\" >Experiment Name</td>\n",
       "      <td id=\"T_dca76_row18_col1\" class=\"data row18 col1\" >clf-default-name</td>\n",
       "    </tr>\n",
       "    <tr>\n",
       "      <th id=\"T_dca76_level0_row19\" class=\"row_heading level0 row19\" >19</th>\n",
       "      <td id=\"T_dca76_row19_col0\" class=\"data row19 col0\" >USI</td>\n",
       "      <td id=\"T_dca76_row19_col1\" class=\"data row19 col1\" >6682</td>\n",
       "    </tr>\n",
       "  </tbody>\n",
       "</table>\n"
      ],
      "text/plain": [
       "<pandas.io.formats.style.Styler at 0x7f1a5fd45e50>"
      ]
     },
     "metadata": {},
     "output_type": "display_data"
    }
   ],
   "source": [
    "# Experiment setup (pycaret)\n",
    "\n",
    "experiment = setup(data=data, target= 'target',train_size=0.8, session_id=123)\n"
   ]
  },
  {
   "cell_type": "code",
   "execution_count": 19,
   "id": "fb0ca037",
   "metadata": {},
   "outputs": [],
   "source": [
    "remove_metric('MCC')\n",
    "remove_metric('Kappa')\n",
    "remove_metric('AUC')\n",
    "#'AUC', , 'MCC'"
   ]
  },
  {
   "cell_type": "markdown",
   "id": "7cb84929",
   "metadata": {},
   "source": [
    "### Algorithm Experimentation\n",
    "\n",
    "This function trains and evaluates the performance of all the estimators available in the model library \n",
    "using cross-validation. The output of this function is a scoring grid with average cross-validated scores.\n",
    "Metrics evaluated during CV can be accessed using the get_metrics function. Custom metrics can be added or removed \n",
    "using add_metric and remove_metric function."
   ]
  },
  {
   "cell_type": "code",
   "execution_count": 20,
   "id": "5378c8a7",
   "metadata": {},
   "outputs": [
    {
     "data": {
      "text/html": [],
      "text/plain": [
       "<IPython.core.display.HTML object>"
      ]
     },
     "metadata": {},
     "output_type": "display_data"
    },
    {
     "data": {
      "text/html": [
       "<style type=\"text/css\">\n",
       "#T_66552 th {\n",
       "  text-align: left;\n",
       "}\n",
       "#T_66552_row0_col0, #T_66552_row1_col0, #T_66552_row1_col1, #T_66552_row1_col2, #T_66552_row1_col3, #T_66552_row1_col4, #T_66552_row2_col0, #T_66552_row2_col1, #T_66552_row2_col2, #T_66552_row2_col3, #T_66552_row2_col4, #T_66552_row3_col0, #T_66552_row3_col1, #T_66552_row3_col2, #T_66552_row3_col3, #T_66552_row3_col4, #T_66552_row4_col0, #T_66552_row4_col1, #T_66552_row4_col2, #T_66552_row4_col3, #T_66552_row4_col4, #T_66552_row5_col0, #T_66552_row5_col1, #T_66552_row5_col2, #T_66552_row5_col3, #T_66552_row5_col4, #T_66552_row6_col0, #T_66552_row6_col1, #T_66552_row6_col2, #T_66552_row6_col3, #T_66552_row6_col4, #T_66552_row7_col0, #T_66552_row7_col1, #T_66552_row7_col2, #T_66552_row7_col3, #T_66552_row7_col4, #T_66552_row8_col0, #T_66552_row8_col1, #T_66552_row8_col2, #T_66552_row8_col3, #T_66552_row8_col4, #T_66552_row9_col0, #T_66552_row9_col1, #T_66552_row9_col2, #T_66552_row9_col3, #T_66552_row9_col4, #T_66552_row10_col0, #T_66552_row10_col1, #T_66552_row10_col2, #T_66552_row10_col3, #T_66552_row10_col4, #T_66552_row11_col0, #T_66552_row11_col1, #T_66552_row11_col2, #T_66552_row11_col3, #T_66552_row11_col4, #T_66552_row12_col0, #T_66552_row12_col1, #T_66552_row12_col2, #T_66552_row12_col3, #T_66552_row12_col4 {\n",
       "  text-align: left;\n",
       "}\n",
       "#T_66552_row0_col1, #T_66552_row0_col2, #T_66552_row0_col3, #T_66552_row0_col4 {\n",
       "  text-align: left;\n",
       "  background-color: yellow;\n",
       "}\n",
       "#T_66552_row0_col5, #T_66552_row1_col5, #T_66552_row2_col5, #T_66552_row3_col5, #T_66552_row4_col5, #T_66552_row5_col5, #T_66552_row6_col5, #T_66552_row8_col5, #T_66552_row10_col5, #T_66552_row11_col5, #T_66552_row12_col5 {\n",
       "  text-align: left;\n",
       "  background-color: lightgrey;\n",
       "}\n",
       "#T_66552_row7_col5, #T_66552_row9_col5 {\n",
       "  text-align: left;\n",
       "  background-color: yellow;\n",
       "  background-color: lightgrey;\n",
       "}\n",
       "</style>\n",
       "<table id=\"T_66552\">\n",
       "  <thead>\n",
       "    <tr>\n",
       "      <th class=\"blank level0\" >&nbsp;</th>\n",
       "      <th id=\"T_66552_level0_col0\" class=\"col_heading level0 col0\" >Model</th>\n",
       "      <th id=\"T_66552_level0_col1\" class=\"col_heading level0 col1\" >Accuracy</th>\n",
       "      <th id=\"T_66552_level0_col2\" class=\"col_heading level0 col2\" >Recall</th>\n",
       "      <th id=\"T_66552_level0_col3\" class=\"col_heading level0 col3\" >Prec.</th>\n",
       "      <th id=\"T_66552_level0_col4\" class=\"col_heading level0 col4\" >F1</th>\n",
       "      <th id=\"T_66552_level0_col5\" class=\"col_heading level0 col5\" >TT (Sec)</th>\n",
       "    </tr>\n",
       "  </thead>\n",
       "  <tbody>\n",
       "    <tr>\n",
       "      <th id=\"T_66552_level0_row0\" class=\"row_heading level0 row0\" >lightgbm</th>\n",
       "      <td id=\"T_66552_row0_col0\" class=\"data row0 col0\" >Light Gradient Boosting Machine</td>\n",
       "      <td id=\"T_66552_row0_col1\" class=\"data row0 col1\" >0.9835</td>\n",
       "      <td id=\"T_66552_row0_col2\" class=\"data row0 col2\" >0.9835</td>\n",
       "      <td id=\"T_66552_row0_col3\" class=\"data row0 col3\" >0.9841</td>\n",
       "      <td id=\"T_66552_row0_col4\" class=\"data row0 col4\" >0.9833</td>\n",
       "      <td id=\"T_66552_row0_col5\" class=\"data row0 col5\" >3.0510</td>\n",
       "    </tr>\n",
       "    <tr>\n",
       "      <th id=\"T_66552_level0_row1\" class=\"row_heading level0 row1\" >et</th>\n",
       "      <td id=\"T_66552_row1_col0\" class=\"data row1 col0\" >Extra Trees Classifier</td>\n",
       "      <td id=\"T_66552_row1_col1\" class=\"data row1 col1\" >0.9804</td>\n",
       "      <td id=\"T_66552_row1_col2\" class=\"data row1 col2\" >0.9804</td>\n",
       "      <td id=\"T_66552_row1_col3\" class=\"data row1 col3\" >0.9814</td>\n",
       "      <td id=\"T_66552_row1_col4\" class=\"data row1 col4\" >0.9802</td>\n",
       "      <td id=\"T_66552_row1_col5\" class=\"data row1 col5\" >0.3560</td>\n",
       "    </tr>\n",
       "    <tr>\n",
       "      <th id=\"T_66552_level0_row2\" class=\"row_heading level0 row2\" >xgboost</th>\n",
       "      <td id=\"T_66552_row2_col0\" class=\"data row2 col0\" >Extreme Gradient Boosting</td>\n",
       "      <td id=\"T_66552_row2_col1\" class=\"data row2 col1\" >0.9773</td>\n",
       "      <td id=\"T_66552_row2_col2\" class=\"data row2 col2\" >0.9773</td>\n",
       "      <td id=\"T_66552_row2_col3\" class=\"data row2 col3\" >0.9785</td>\n",
       "      <td id=\"T_66552_row2_col4\" class=\"data row2 col4\" >0.9771</td>\n",
       "      <td id=\"T_66552_row2_col5\" class=\"data row2 col5\" >4.8040</td>\n",
       "    </tr>\n",
       "    <tr>\n",
       "      <th id=\"T_66552_level0_row3\" class=\"row_heading level0 row3\" >rf</th>\n",
       "      <td id=\"T_66552_row3_col0\" class=\"data row3 col0\" >Random Forest Classifier</td>\n",
       "      <td id=\"T_66552_row3_col1\" class=\"data row3 col1\" >0.9761</td>\n",
       "      <td id=\"T_66552_row3_col2\" class=\"data row3 col2\" >0.9761</td>\n",
       "      <td id=\"T_66552_row3_col3\" class=\"data row3 col3\" >0.9772</td>\n",
       "      <td id=\"T_66552_row3_col4\" class=\"data row3 col4\" >0.9758</td>\n",
       "      <td id=\"T_66552_row3_col5\" class=\"data row3 col5\" >0.7080</td>\n",
       "    </tr>\n",
       "    <tr>\n",
       "      <th id=\"T_66552_level0_row4\" class=\"row_heading level0 row4\" >dt</th>\n",
       "      <td id=\"T_66552_row4_col0\" class=\"data row4 col0\" >Decision Tree Classifier</td>\n",
       "      <td id=\"T_66552_row4_col1\" class=\"data row4 col1\" >0.9391</td>\n",
       "      <td id=\"T_66552_row4_col2\" class=\"data row4 col2\" >0.9391</td>\n",
       "      <td id=\"T_66552_row4_col3\" class=\"data row4 col3\" >0.9414</td>\n",
       "      <td id=\"T_66552_row4_col4\" class=\"data row4 col4\" >0.9385</td>\n",
       "      <td id=\"T_66552_row4_col5\" class=\"data row4 col5\" >0.1080</td>\n",
       "    </tr>\n",
       "    <tr>\n",
       "      <th id=\"T_66552_level0_row5\" class=\"row_heading level0 row5\" >knn</th>\n",
       "      <td id=\"T_66552_row5_col0\" class=\"data row5 col0\" >K Neighbors Classifier</td>\n",
       "      <td id=\"T_66552_row5_col1\" class=\"data row5 col1\" >0.9121</td>\n",
       "      <td id=\"T_66552_row5_col2\" class=\"data row5 col2\" >0.9121</td>\n",
       "      <td id=\"T_66552_row5_col3\" class=\"data row5 col3\" >0.9158</td>\n",
       "      <td id=\"T_66552_row5_col4\" class=\"data row5 col4\" >0.9103</td>\n",
       "      <td id=\"T_66552_row5_col5\" class=\"data row5 col5\" >0.0540</td>\n",
       "    </tr>\n",
       "    <tr>\n",
       "      <th id=\"T_66552_level0_row6\" class=\"row_heading level0 row6\" >lr</th>\n",
       "      <td id=\"T_66552_row6_col0\" class=\"data row6 col0\" >Logistic Regression</td>\n",
       "      <td id=\"T_66552_row6_col1\" class=\"data row6 col1\" >0.8564</td>\n",
       "      <td id=\"T_66552_row6_col2\" class=\"data row6 col2\" >0.8564</td>\n",
       "      <td id=\"T_66552_row6_col3\" class=\"data row6 col3\" >0.8607</td>\n",
       "      <td id=\"T_66552_row6_col4\" class=\"data row6 col4\" >0.8524</td>\n",
       "      <td id=\"T_66552_row6_col5\" class=\"data row6 col5\" >1.4750</td>\n",
       "    </tr>\n",
       "    <tr>\n",
       "      <th id=\"T_66552_level0_row7\" class=\"row_heading level0 row7\" >nb</th>\n",
       "      <td id=\"T_66552_row7_col0\" class=\"data row7 col0\" >Naive Bayes</td>\n",
       "      <td id=\"T_66552_row7_col1\" class=\"data row7 col1\" >0.7617</td>\n",
       "      <td id=\"T_66552_row7_col2\" class=\"data row7 col2\" >0.7617</td>\n",
       "      <td id=\"T_66552_row7_col3\" class=\"data row7 col3\" >0.7727</td>\n",
       "      <td id=\"T_66552_row7_col4\" class=\"data row7 col4\" >0.7202</td>\n",
       "      <td id=\"T_66552_row7_col5\" class=\"data row7 col5\" >0.0450</td>\n",
       "    </tr>\n",
       "    <tr>\n",
       "      <th id=\"T_66552_level0_row8\" class=\"row_heading level0 row8\" >lda</th>\n",
       "      <td id=\"T_66552_row8_col0\" class=\"data row8 col0\" >Linear Discriminant Analysis</td>\n",
       "      <td id=\"T_66552_row8_col1\" class=\"data row8 col1\" >0.7525</td>\n",
       "      <td id=\"T_66552_row8_col2\" class=\"data row8 col2\" >0.7525</td>\n",
       "      <td id=\"T_66552_row8_col3\" class=\"data row8 col3\" >0.7712</td>\n",
       "      <td id=\"T_66552_row8_col4\" class=\"data row8 col4\" >0.7471</td>\n",
       "      <td id=\"T_66552_row8_col5\" class=\"data row8 col5\" >0.0530</td>\n",
       "    </tr>\n",
       "    <tr>\n",
       "      <th id=\"T_66552_level0_row9\" class=\"row_heading level0 row9\" >ridge</th>\n",
       "      <td id=\"T_66552_row9_col0\" class=\"data row9 col0\" >Ridge Classifier</td>\n",
       "      <td id=\"T_66552_row9_col1\" class=\"data row9 col1\" >0.6925</td>\n",
       "      <td id=\"T_66552_row9_col2\" class=\"data row9 col2\" >0.6925</td>\n",
       "      <td id=\"T_66552_row9_col3\" class=\"data row9 col3\" >0.6787</td>\n",
       "      <td id=\"T_66552_row9_col4\" class=\"data row9 col4\" >0.6593</td>\n",
       "      <td id=\"T_66552_row9_col5\" class=\"data row9 col5\" >0.0450</td>\n",
       "    </tr>\n",
       "    <tr>\n",
       "      <th id=\"T_66552_level0_row10\" class=\"row_heading level0 row10\" >svm</th>\n",
       "      <td id=\"T_66552_row10_col0\" class=\"data row10 col0\" >SVM - Linear Kernel</td>\n",
       "      <td id=\"T_66552_row10_col1\" class=\"data row10 col1\" >0.5970</td>\n",
       "      <td id=\"T_66552_row10_col2\" class=\"data row10 col2\" >0.5970</td>\n",
       "      <td id=\"T_66552_row10_col3\" class=\"data row10 col3\" >0.6327</td>\n",
       "      <td id=\"T_66552_row10_col4\" class=\"data row10 col4\" >0.5561</td>\n",
       "      <td id=\"T_66552_row10_col5\" class=\"data row10 col5\" >0.1930</td>\n",
       "    </tr>\n",
       "    <tr>\n",
       "      <th id=\"T_66552_level0_row11\" class=\"row_heading level0 row11\" >qda</th>\n",
       "      <td id=\"T_66552_row11_col0\" class=\"data row11 col0\" >Quadratic Discriminant Analysis</td>\n",
       "      <td id=\"T_66552_row11_col1\" class=\"data row11 col1\" >0.5299</td>\n",
       "      <td id=\"T_66552_row11_col2\" class=\"data row11 col2\" >0.5299</td>\n",
       "      <td id=\"T_66552_row11_col3\" class=\"data row11 col3\" >0.6866</td>\n",
       "      <td id=\"T_66552_row11_col4\" class=\"data row11 col4\" >0.5293</td>\n",
       "      <td id=\"T_66552_row11_col5\" class=\"data row11 col5\" >0.0480</td>\n",
       "    </tr>\n",
       "    <tr>\n",
       "      <th id=\"T_66552_level0_row12\" class=\"row_heading level0 row12\" >ada</th>\n",
       "      <td id=\"T_66552_row12_col0\" class=\"data row12 col0\" >Ada Boost Classifier</td>\n",
       "      <td id=\"T_66552_row12_col1\" class=\"data row12 col1\" >0.1847</td>\n",
       "      <td id=\"T_66552_row12_col2\" class=\"data row12 col2\" >0.1847</td>\n",
       "      <td id=\"T_66552_row12_col3\" class=\"data row12 col3\" >0.1286</td>\n",
       "      <td id=\"T_66552_row12_col4\" class=\"data row12 col4\" >0.1194</td>\n",
       "      <td id=\"T_66552_row12_col5\" class=\"data row12 col5\" >0.4970</td>\n",
       "    </tr>\n",
       "  </tbody>\n",
       "</table>\n"
      ],
      "text/plain": [
       "<pandas.io.formats.style.Styler at 0x7f1a6b4c2790>"
      ]
     },
     "metadata": {},
     "output_type": "display_data"
    },
    {
     "data": {
      "application/vnd.jupyter.widget-view+json": {
       "model_id": "",
       "version_major": 2,
       "version_minor": 0
      },
      "text/plain": [
       "Processing:   0%|          | 0/57 [00:00<?, ?it/s]"
      ]
     },
     "metadata": {},
     "output_type": "display_data"
    },
    {
     "data": {
      "text/html": [
       "<style>#sk-container-id-1 {color: black;background-color: white;}#sk-container-id-1 pre{padding: 0;}#sk-container-id-1 div.sk-toggleable {background-color: white;}#sk-container-id-1 label.sk-toggleable__label {cursor: pointer;display: block;width: 100%;margin-bottom: 0;padding: 0.3em;box-sizing: border-box;text-align: center;}#sk-container-id-1 label.sk-toggleable__label-arrow:before {content: \"▸\";float: left;margin-right: 0.25em;color: #696969;}#sk-container-id-1 label.sk-toggleable__label-arrow:hover:before {color: black;}#sk-container-id-1 div.sk-estimator:hover label.sk-toggleable__label-arrow:before {color: black;}#sk-container-id-1 div.sk-toggleable__content {max-height: 0;max-width: 0;overflow: hidden;text-align: left;background-color: #f0f8ff;}#sk-container-id-1 div.sk-toggleable__content pre {margin: 0.2em;color: black;border-radius: 0.25em;background-color: #f0f8ff;}#sk-container-id-1 input.sk-toggleable__control:checked~div.sk-toggleable__content {max-height: 200px;max-width: 100%;overflow: auto;}#sk-container-id-1 input.sk-toggleable__control:checked~label.sk-toggleable__label-arrow:before {content: \"▾\";}#sk-container-id-1 div.sk-estimator input.sk-toggleable__control:checked~label.sk-toggleable__label {background-color: #d4ebff;}#sk-container-id-1 div.sk-label input.sk-toggleable__control:checked~label.sk-toggleable__label {background-color: #d4ebff;}#sk-container-id-1 input.sk-hidden--visually {border: 0;clip: rect(1px 1px 1px 1px);clip: rect(1px, 1px, 1px, 1px);height: 1px;margin: -1px;overflow: hidden;padding: 0;position: absolute;width: 1px;}#sk-container-id-1 div.sk-estimator {font-family: monospace;background-color: #f0f8ff;border: 1px dotted black;border-radius: 0.25em;box-sizing: border-box;margin-bottom: 0.5em;}#sk-container-id-1 div.sk-estimator:hover {background-color: #d4ebff;}#sk-container-id-1 div.sk-parallel-item::after {content: \"\";width: 100%;border-bottom: 1px solid gray;flex-grow: 1;}#sk-container-id-1 div.sk-label:hover label.sk-toggleable__label {background-color: #d4ebff;}#sk-container-id-1 div.sk-serial::before {content: \"\";position: absolute;border-left: 1px solid gray;box-sizing: border-box;top: 0;bottom: 0;left: 50%;z-index: 0;}#sk-container-id-1 div.sk-serial {display: flex;flex-direction: column;align-items: center;background-color: white;padding-right: 0.2em;padding-left: 0.2em;position: relative;}#sk-container-id-1 div.sk-item {position: relative;z-index: 1;}#sk-container-id-1 div.sk-parallel {display: flex;align-items: stretch;justify-content: center;background-color: white;position: relative;}#sk-container-id-1 div.sk-item::before, #sk-container-id-1 div.sk-parallel-item::before {content: \"\";position: absolute;border-left: 1px solid gray;box-sizing: border-box;top: 0;bottom: 0;left: 50%;z-index: -1;}#sk-container-id-1 div.sk-parallel-item {display: flex;flex-direction: column;z-index: 1;position: relative;background-color: white;}#sk-container-id-1 div.sk-parallel-item:first-child::after {align-self: flex-end;width: 50%;}#sk-container-id-1 div.sk-parallel-item:last-child::after {align-self: flex-start;width: 50%;}#sk-container-id-1 div.sk-parallel-item:only-child::after {width: 0;}#sk-container-id-1 div.sk-dashed-wrapped {border: 1px dashed gray;margin: 0 0.4em 0.5em 0.4em;box-sizing: border-box;padding-bottom: 0.4em;background-color: white;}#sk-container-id-1 div.sk-label label {font-family: monospace;font-weight: bold;display: inline-block;line-height: 1.2em;}#sk-container-id-1 div.sk-label-container {text-align: center;}#sk-container-id-1 div.sk-container {/* jupyter's `normalize.less` sets `[hidden] { display: none; }` but bootstrap.min.css set `[hidden] { display: none !important; }` so we also need the `!important` here to be able to override the default hidden behavior on the sphinx rendered scikit-learn.org. See: https://github.com/scikit-learn/scikit-learn/issues/21755 */display: inline-block !important;position: relative;}#sk-container-id-1 div.sk-text-repr-fallback {display: none;}</style><div id=\"sk-container-id-1\" class=\"sk-top-container\"><div class=\"sk-text-repr-fallback\"><pre>LGBMClassifier(boosting_type=&#x27;gbdt&#x27;, class_weight=None, colsample_bytree=1.0,\n",
       "               importance_type=&#x27;split&#x27;, learning_rate=0.1, max_depth=-1,\n",
       "               min_child_samples=20, min_child_weight=0.001, min_split_gain=0.0,\n",
       "               n_estimators=100, n_jobs=-1, num_leaves=31, objective=None,\n",
       "               random_state=123, reg_alpha=0.0, reg_lambda=0.0, silent=&#x27;warn&#x27;,\n",
       "               subsample=1.0, subsample_for_bin=200000, subsample_freq=0)</pre><b>In a Jupyter environment, please rerun this cell to show the HTML representation or trust the notebook. <br />On GitHub, the HTML representation is unable to render, please try loading this page with nbviewer.org.</b></div><div class=\"sk-container\" hidden><div class=\"sk-item\"><div class=\"sk-estimator sk-toggleable\"><input class=\"sk-toggleable__control sk-hidden--visually\" id=\"sk-estimator-id-1\" type=\"checkbox\" checked><label for=\"sk-estimator-id-1\" class=\"sk-toggleable__label sk-toggleable__label-arrow\">LGBMClassifier</label><div class=\"sk-toggleable__content\"><pre>LGBMClassifier(boosting_type=&#x27;gbdt&#x27;, class_weight=None, colsample_bytree=1.0,\n",
       "               importance_type=&#x27;split&#x27;, learning_rate=0.1, max_depth=-1,\n",
       "               min_child_samples=20, min_child_weight=0.001, min_split_gain=0.0,\n",
       "               n_estimators=100, n_jobs=-1, num_leaves=31, objective=None,\n",
       "               random_state=123, reg_alpha=0.0, reg_lambda=0.0, silent=&#x27;warn&#x27;,\n",
       "               subsample=1.0, subsample_for_bin=200000, subsample_freq=0)</pre></div></div></div></div></div>"
      ],
      "text/plain": [
       "LGBMClassifier(boosting_type='gbdt', class_weight=None, colsample_bytree=1.0,\n",
       "               importance_type='split', learning_rate=0.1, max_depth=-1,\n",
       "               min_child_samples=20, min_child_weight=0.001, min_split_gain=0.0,\n",
       "               n_estimators=100, n_jobs=-1, num_leaves=31, objective=None,\n",
       "               random_state=123, reg_alpha=0.0, reg_lambda=0.0, silent='warn',\n",
       "               subsample=1.0, subsample_for_bin=200000, subsample_freq=0)"
      ]
     },
     "execution_count": 20,
     "metadata": {},
     "output_type": "execute_result"
    }
   ],
   "source": [
    "# Algorithm Experimentation\n",
    "compare_models(exclude = ['dummy', 'gbc', 'catboost'])"
   ]
  },
  {
   "cell_type": "code",
   "execution_count": 21,
   "id": "93adbbe7",
   "metadata": {},
   "outputs": [],
   "source": [
    "results = pull()\n",
    "results.to_csv('./TABLES/model_benchmarking.csv')\n",
    "models = results.Model.tolist()\n"
   ]
  },
  {
   "cell_type": "markdown",
   "id": "c22ccdf2-f2fc-4d5a-9463-a568183336fe",
   "metadata": {},
   "source": [
    "#### Creating the model for further procedures. \n",
    "This function trains and evaluates the performance of a given estimator. \n",
    "The output of this function is a scoring grid with CV scores by fold. Metrics evaluated during CV can be accessed using the get_metrics function.\n",
    "Successive routines may lead to slightly different results in the ranking of the algorithms. We have used LightGBM because it has proven to be consistent across multiple comparison routines. However, any of the evaluated algorithms can be used to create the model."
   ]
  },
  {
   "cell_type": "code",
   "execution_count": 22,
   "id": "12f725f3-a461-455b-99c2-59eaffe4ae5d",
   "metadata": {},
   "outputs": [
    {
     "data": {
      "application/vnd.jupyter.widget-view+json": {
       "model_id": "6f5edcf6ec2040eca99ea801f622cb5a",
       "version_major": 2,
       "version_minor": 0
      },
      "text/plain": [
       "Dropdown(description='Method', options=('Light Gradient Boosting Machine', 'Extra Trees Classifier', 'Extreme …"
      ]
     },
     "metadata": {},
     "output_type": "display_data"
    }
   ],
   "source": [
    "# Selecting a model\n",
    "method = widgets.Dropdown(options=models,description='Method')\n",
    "display(method)"
   ]
  },
  {
   "cell_type": "code",
   "execution_count": 23,
   "id": "722e9736-49f9-466a-89f0-87bba6d318ec",
   "metadata": {
    "tags": []
   },
   "outputs": [
    {
     "data": {
      "text/html": [],
      "text/plain": [
       "<IPython.core.display.HTML object>"
      ]
     },
     "metadata": {},
     "output_type": "display_data"
    },
    {
     "data": {
      "text/html": [
       "<style type=\"text/css\">\n",
       "#T_7af59_row10_col0, #T_7af59_row10_col1, #T_7af59_row10_col2, #T_7af59_row10_col3 {\n",
       "  background: yellow;\n",
       "}\n",
       "</style>\n",
       "<table id=\"T_7af59\">\n",
       "  <thead>\n",
       "    <tr>\n",
       "      <th class=\"blank level0\" >&nbsp;</th>\n",
       "      <th id=\"T_7af59_level0_col0\" class=\"col_heading level0 col0\" >Accuracy</th>\n",
       "      <th id=\"T_7af59_level0_col1\" class=\"col_heading level0 col1\" >Recall</th>\n",
       "      <th id=\"T_7af59_level0_col2\" class=\"col_heading level0 col2\" >Prec.</th>\n",
       "      <th id=\"T_7af59_level0_col3\" class=\"col_heading level0 col3\" >F1</th>\n",
       "    </tr>\n",
       "    <tr>\n",
       "      <th class=\"index_name level0\" >Fold</th>\n",
       "      <th class=\"blank col0\" >&nbsp;</th>\n",
       "      <th class=\"blank col1\" >&nbsp;</th>\n",
       "      <th class=\"blank col2\" >&nbsp;</th>\n",
       "      <th class=\"blank col3\" >&nbsp;</th>\n",
       "    </tr>\n",
       "  </thead>\n",
       "  <tbody>\n",
       "    <tr>\n",
       "      <th id=\"T_7af59_level0_row0\" class=\"row_heading level0 row0\" >0</th>\n",
       "      <td id=\"T_7af59_row0_col0\" class=\"data row0 col0\" >0.9817</td>\n",
       "      <td id=\"T_7af59_row0_col1\" class=\"data row0 col1\" >0.9817</td>\n",
       "      <td id=\"T_7af59_row0_col2\" class=\"data row0 col2\" >0.9824</td>\n",
       "      <td id=\"T_7af59_row0_col3\" class=\"data row0 col3\" >0.9815</td>\n",
       "    </tr>\n",
       "    <tr>\n",
       "      <th id=\"T_7af59_level0_row1\" class=\"row_heading level0 row1\" >1</th>\n",
       "      <td id=\"T_7af59_row1_col0\" class=\"data row1 col0\" >0.9908</td>\n",
       "      <td id=\"T_7af59_row1_col1\" class=\"data row1 col1\" >0.9908</td>\n",
       "      <td id=\"T_7af59_row1_col2\" class=\"data row1 col2\" >0.9913</td>\n",
       "      <td id=\"T_7af59_row1_col3\" class=\"data row1 col3\" >0.9908</td>\n",
       "    </tr>\n",
       "    <tr>\n",
       "      <th id=\"T_7af59_level0_row2\" class=\"row_heading level0 row2\" >2</th>\n",
       "      <td id=\"T_7af59_row2_col0\" class=\"data row2 col0\" >0.9817</td>\n",
       "      <td id=\"T_7af59_row2_col1\" class=\"data row2 col1\" >0.9817</td>\n",
       "      <td id=\"T_7af59_row2_col2\" class=\"data row2 col2\" >0.9824</td>\n",
       "      <td id=\"T_7af59_row2_col3\" class=\"data row2 col3\" >0.9811</td>\n",
       "    </tr>\n",
       "    <tr>\n",
       "      <th id=\"T_7af59_level0_row3\" class=\"row_heading level0 row3\" >3</th>\n",
       "      <td id=\"T_7af59_row3_col0\" class=\"data row3 col0\" >0.9755</td>\n",
       "      <td id=\"T_7af59_row3_col1\" class=\"data row3 col1\" >0.9755</td>\n",
       "      <td id=\"T_7af59_row3_col2\" class=\"data row3 col2\" >0.9773</td>\n",
       "      <td id=\"T_7af59_row3_col3\" class=\"data row3 col3\" >0.9752</td>\n",
       "    </tr>\n",
       "    <tr>\n",
       "      <th id=\"T_7af59_level0_row4\" class=\"row_heading level0 row4\" >4</th>\n",
       "      <td id=\"T_7af59_row4_col0\" class=\"data row4 col0\" >0.9786</td>\n",
       "      <td id=\"T_7af59_row4_col1\" class=\"data row4 col1\" >0.9786</td>\n",
       "      <td id=\"T_7af59_row4_col2\" class=\"data row4 col2\" >0.9794</td>\n",
       "      <td id=\"T_7af59_row4_col3\" class=\"data row4 col3\" >0.9784</td>\n",
       "    </tr>\n",
       "    <tr>\n",
       "      <th id=\"T_7af59_level0_row5\" class=\"row_heading level0 row5\" >5</th>\n",
       "      <td id=\"T_7af59_row5_col0\" class=\"data row5 col0\" >0.9877</td>\n",
       "      <td id=\"T_7af59_row5_col1\" class=\"data row5 col1\" >0.9877</td>\n",
       "      <td id=\"T_7af59_row5_col2\" class=\"data row5 col2\" >0.9882</td>\n",
       "      <td id=\"T_7af59_row5_col3\" class=\"data row5 col3\" >0.9876</td>\n",
       "    </tr>\n",
       "    <tr>\n",
       "      <th id=\"T_7af59_level0_row6\" class=\"row_heading level0 row6\" >6</th>\n",
       "      <td id=\"T_7af59_row6_col0\" class=\"data row6 col0\" >0.9847</td>\n",
       "      <td id=\"T_7af59_row6_col1\" class=\"data row6 col1\" >0.9847</td>\n",
       "      <td id=\"T_7af59_row6_col2\" class=\"data row6 col2\" >0.9846</td>\n",
       "      <td id=\"T_7af59_row6_col3\" class=\"data row6 col3\" >0.9845</td>\n",
       "    </tr>\n",
       "    <tr>\n",
       "      <th id=\"T_7af59_level0_row7\" class=\"row_heading level0 row7\" >7</th>\n",
       "      <td id=\"T_7af59_row7_col0\" class=\"data row7 col0\" >0.9939</td>\n",
       "      <td id=\"T_7af59_row7_col1\" class=\"data row7 col1\" >0.9939</td>\n",
       "      <td id=\"T_7af59_row7_col2\" class=\"data row7 col2\" >0.9942</td>\n",
       "      <td id=\"T_7af59_row7_col3\" class=\"data row7 col3\" >0.9939</td>\n",
       "    </tr>\n",
       "    <tr>\n",
       "      <th id=\"T_7af59_level0_row8\" class=\"row_heading level0 row8\" >8</th>\n",
       "      <td id=\"T_7af59_row8_col0\" class=\"data row8 col0\" >0.9724</td>\n",
       "      <td id=\"T_7af59_row8_col1\" class=\"data row8 col1\" >0.9724</td>\n",
       "      <td id=\"T_7af59_row8_col2\" class=\"data row8 col2\" >0.9731</td>\n",
       "      <td id=\"T_7af59_row8_col3\" class=\"data row8 col3\" >0.9719</td>\n",
       "    </tr>\n",
       "    <tr>\n",
       "      <th id=\"T_7af59_level0_row9\" class=\"row_heading level0 row9\" >9</th>\n",
       "      <td id=\"T_7af59_row9_col0\" class=\"data row9 col0\" >0.9816</td>\n",
       "      <td id=\"T_7af59_row9_col1\" class=\"data row9 col1\" >0.9816</td>\n",
       "      <td id=\"T_7af59_row9_col2\" class=\"data row9 col2\" >0.9827</td>\n",
       "      <td id=\"T_7af59_row9_col3\" class=\"data row9 col3\" >0.9816</td>\n",
       "    </tr>\n",
       "    <tr>\n",
       "      <th id=\"T_7af59_level0_row10\" class=\"row_heading level0 row10\" >Mean</th>\n",
       "      <td id=\"T_7af59_row10_col0\" class=\"data row10 col0\" >0.9829</td>\n",
       "      <td id=\"T_7af59_row10_col1\" class=\"data row10 col1\" >0.9829</td>\n",
       "      <td id=\"T_7af59_row10_col2\" class=\"data row10 col2\" >0.9836</td>\n",
       "      <td id=\"T_7af59_row10_col3\" class=\"data row10 col3\" >0.9826</td>\n",
       "    </tr>\n",
       "    <tr>\n",
       "      <th id=\"T_7af59_level0_row11\" class=\"row_heading level0 row11\" >Std</th>\n",
       "      <td id=\"T_7af59_row11_col0\" class=\"data row11 col0\" >0.0063</td>\n",
       "      <td id=\"T_7af59_row11_col1\" class=\"data row11 col1\" >0.0063</td>\n",
       "      <td id=\"T_7af59_row11_col2\" class=\"data row11 col2\" >0.0060</td>\n",
       "      <td id=\"T_7af59_row11_col3\" class=\"data row11 col3\" >0.0064</td>\n",
       "    </tr>\n",
       "  </tbody>\n",
       "</table>\n"
      ],
      "text/plain": [
       "<pandas.io.formats.style.Styler at 0x7f1af818e580>"
      ]
     },
     "metadata": {},
     "output_type": "display_data"
    },
    {
     "data": {
      "application/vnd.jupyter.widget-view+json": {
       "model_id": "",
       "version_major": 2,
       "version_minor": 0
      },
      "text/plain": [
       "Processing:   0%|          | 0/4 [00:00<?, ?it/s]"
      ]
     },
     "metadata": {},
     "output_type": "display_data"
    }
   ],
   "source": [
    "#creating the model selected\n",
    "model_mappings = {\n",
    "    \n",
    "    'Light Gradient Boosting Machine': ('lightgbm', {'class_weight': 'balanced'}),\n",
    "    'Extreme Gradient Boosting': ('xgboost', {}),\n",
    "    'Extra Trees Classifier': ('et', {}),\n",
    "    'Random Forest Classifier': ('rf', {}),\n",
    "    'Decision Tree Classifier': ('dt', {}),\n",
    "    'K Neighbors Classifier': ('knn', {}),\n",
    "    'Naive Bayes': ('nb', {}),\n",
    "    'Linear Discriminant Analysis': ('lda', {}),\n",
    "    'Ridge Classifier': ('ridge', {}),\n",
    "    'SVM - Linear Kernel': ('svm', {}),\n",
    "    'Quadratic Discriminant Analysis': ('qda', {}),\n",
    "    'Ada Boost Classifier': ('ada', {}),\n",
    "    'Dummy Classifier': ('dummy', {}),\n",
    "}\n",
    "\n",
    "model_name, model_args = model_mappings.get(method.value, (None, None))\n",
    "\n",
    "if model_name is not None:\n",
    "    model = create_model(model_name, **model_args)\n",
    "else:\n",
    "    print(\"Method not found or not yet implemented.\")\n"
   ]
  },
  {
   "cell_type": "code",
   "execution_count": 24,
   "id": "f42f9055-a197-44fe-8325-e4be546bcdac",
   "metadata": {
    "tags": []
   },
   "outputs": [
    {
     "data": {
      "text/html": [
       "<style>#sk-container-id-2 {color: black;background-color: white;}#sk-container-id-2 pre{padding: 0;}#sk-container-id-2 div.sk-toggleable {background-color: white;}#sk-container-id-2 label.sk-toggleable__label {cursor: pointer;display: block;width: 100%;margin-bottom: 0;padding: 0.3em;box-sizing: border-box;text-align: center;}#sk-container-id-2 label.sk-toggleable__label-arrow:before {content: \"▸\";float: left;margin-right: 0.25em;color: #696969;}#sk-container-id-2 label.sk-toggleable__label-arrow:hover:before {color: black;}#sk-container-id-2 div.sk-estimator:hover label.sk-toggleable__label-arrow:before {color: black;}#sk-container-id-2 div.sk-toggleable__content {max-height: 0;max-width: 0;overflow: hidden;text-align: left;background-color: #f0f8ff;}#sk-container-id-2 div.sk-toggleable__content pre {margin: 0.2em;color: black;border-radius: 0.25em;background-color: #f0f8ff;}#sk-container-id-2 input.sk-toggleable__control:checked~div.sk-toggleable__content {max-height: 200px;max-width: 100%;overflow: auto;}#sk-container-id-2 input.sk-toggleable__control:checked~label.sk-toggleable__label-arrow:before {content: \"▾\";}#sk-container-id-2 div.sk-estimator input.sk-toggleable__control:checked~label.sk-toggleable__label {background-color: #d4ebff;}#sk-container-id-2 div.sk-label input.sk-toggleable__control:checked~label.sk-toggleable__label {background-color: #d4ebff;}#sk-container-id-2 input.sk-hidden--visually {border: 0;clip: rect(1px 1px 1px 1px);clip: rect(1px, 1px, 1px, 1px);height: 1px;margin: -1px;overflow: hidden;padding: 0;position: absolute;width: 1px;}#sk-container-id-2 div.sk-estimator {font-family: monospace;background-color: #f0f8ff;border: 1px dotted black;border-radius: 0.25em;box-sizing: border-box;margin-bottom: 0.5em;}#sk-container-id-2 div.sk-estimator:hover {background-color: #d4ebff;}#sk-container-id-2 div.sk-parallel-item::after {content: \"\";width: 100%;border-bottom: 1px solid gray;flex-grow: 1;}#sk-container-id-2 div.sk-label:hover label.sk-toggleable__label {background-color: #d4ebff;}#sk-container-id-2 div.sk-serial::before {content: \"\";position: absolute;border-left: 1px solid gray;box-sizing: border-box;top: 0;bottom: 0;left: 50%;z-index: 0;}#sk-container-id-2 div.sk-serial {display: flex;flex-direction: column;align-items: center;background-color: white;padding-right: 0.2em;padding-left: 0.2em;position: relative;}#sk-container-id-2 div.sk-item {position: relative;z-index: 1;}#sk-container-id-2 div.sk-parallel {display: flex;align-items: stretch;justify-content: center;background-color: white;position: relative;}#sk-container-id-2 div.sk-item::before, #sk-container-id-2 div.sk-parallel-item::before {content: \"\";position: absolute;border-left: 1px solid gray;box-sizing: border-box;top: 0;bottom: 0;left: 50%;z-index: -1;}#sk-container-id-2 div.sk-parallel-item {display: flex;flex-direction: column;z-index: 1;position: relative;background-color: white;}#sk-container-id-2 div.sk-parallel-item:first-child::after {align-self: flex-end;width: 50%;}#sk-container-id-2 div.sk-parallel-item:last-child::after {align-self: flex-start;width: 50%;}#sk-container-id-2 div.sk-parallel-item:only-child::after {width: 0;}#sk-container-id-2 div.sk-dashed-wrapped {border: 1px dashed gray;margin: 0 0.4em 0.5em 0.4em;box-sizing: border-box;padding-bottom: 0.4em;background-color: white;}#sk-container-id-2 div.sk-label label {font-family: monospace;font-weight: bold;display: inline-block;line-height: 1.2em;}#sk-container-id-2 div.sk-label-container {text-align: center;}#sk-container-id-2 div.sk-container {/* jupyter's `normalize.less` sets `[hidden] { display: none; }` but bootstrap.min.css set `[hidden] { display: none !important; }` so we also need the `!important` here to be able to override the default hidden behavior on the sphinx rendered scikit-learn.org. See: https://github.com/scikit-learn/scikit-learn/issues/21755 */display: inline-block !important;position: relative;}#sk-container-id-2 div.sk-text-repr-fallback {display: none;}</style><div id=\"sk-container-id-2\" class=\"sk-top-container\"><div class=\"sk-text-repr-fallback\"><pre>LGBMClassifier(boosting_type=&#x27;gbdt&#x27;, class_weight=&#x27;balanced&#x27;,\n",
       "               colsample_bytree=1.0, importance_type=&#x27;split&#x27;, learning_rate=0.1,\n",
       "               max_depth=-1, min_child_samples=20, min_child_weight=0.001,\n",
       "               min_split_gain=0.0, n_estimators=100, n_jobs=-1, num_leaves=31,\n",
       "               objective=None, random_state=123, reg_alpha=0.0, reg_lambda=0.0,\n",
       "               silent=&#x27;warn&#x27;, subsample=1.0, subsample_for_bin=200000,\n",
       "               subsample_freq=0)</pre><b>In a Jupyter environment, please rerun this cell to show the HTML representation or trust the notebook. <br />On GitHub, the HTML representation is unable to render, please try loading this page with nbviewer.org.</b></div><div class=\"sk-container\" hidden><div class=\"sk-item\"><div class=\"sk-estimator sk-toggleable\"><input class=\"sk-toggleable__control sk-hidden--visually\" id=\"sk-estimator-id-2\" type=\"checkbox\" checked><label for=\"sk-estimator-id-2\" class=\"sk-toggleable__label sk-toggleable__label-arrow\">LGBMClassifier</label><div class=\"sk-toggleable__content\"><pre>LGBMClassifier(boosting_type=&#x27;gbdt&#x27;, class_weight=&#x27;balanced&#x27;,\n",
       "               colsample_bytree=1.0, importance_type=&#x27;split&#x27;, learning_rate=0.1,\n",
       "               max_depth=-1, min_child_samples=20, min_child_weight=0.001,\n",
       "               min_split_gain=0.0, n_estimators=100, n_jobs=-1, num_leaves=31,\n",
       "               objective=None, random_state=123, reg_alpha=0.0, reg_lambda=0.0,\n",
       "               silent=&#x27;warn&#x27;, subsample=1.0, subsample_for_bin=200000,\n",
       "               subsample_freq=0)</pre></div></div></div></div></div>"
      ],
      "text/plain": [
       "LGBMClassifier(boosting_type='gbdt', class_weight='balanced',\n",
       "               colsample_bytree=1.0, importance_type='split', learning_rate=0.1,\n",
       "               max_depth=-1, min_child_samples=20, min_child_weight=0.001,\n",
       "               min_split_gain=0.0, n_estimators=100, n_jobs=-1, num_leaves=31,\n",
       "               objective=None, random_state=123, reg_alpha=0.0, reg_lambda=0.0,\n",
       "               silent='warn', subsample=1.0, subsample_for_bin=200000,\n",
       "               subsample_freq=0)"
      ]
     },
     "execution_count": 24,
     "metadata": {},
     "output_type": "execute_result"
    }
   ],
   "source": [
    "# Model parameters\n",
    "model"
   ]
  },
  {
   "cell_type": "code",
   "execution_count": 25,
   "id": "bbaf7b1a",
   "metadata": {},
   "outputs": [],
   "source": [
    "model_score_grid = pull()\n",
    "model_score_grid.to_csv('./TABLES/model_score_before_tuning.csv')"
   ]
  },
  {
   "cell_type": "markdown",
   "id": "29eaa993",
   "metadata": {},
   "source": [
    "### Model Optimization \n",
    "\n",
    "This function tunes the hyperparameters of a given estimator. The output of this function is a score grid with CV scores by fold of the best selected model based on optimize parameter. By default, the function focuses on accuracy to evaluate the tuning process.\n",
    "Function uses scikit-learn's ```RandomizedSearchCV()``` algorithm by default.\n",
    "```n_iter``` parameter defines the number of iterations in the search space.\n",
    "\n",
    "```Warning: this process can be computationally intensive depending on your resources. You can set a smaller n_iter number to control this behaviour.``` \n",
    "\n",
    "See [Workflow.ipynb](./Workflow.ipynb) for resources used \n"
   ]
  },
  {
   "cell_type": "code",
   "execution_count": 26,
   "id": "0714f33e",
   "metadata": {},
   "outputs": [
    {
     "data": {
      "text/html": [
       "<div>\n",
       "<style scoped>\n",
       "    .dataframe tbody tr th:only-of-type {\n",
       "        vertical-align: middle;\n",
       "    }\n",
       "\n",
       "    .dataframe tbody tr th {\n",
       "        vertical-align: top;\n",
       "    }\n",
       "\n",
       "    .dataframe thead th {\n",
       "        text-align: right;\n",
       "    }\n",
       "</style>\n",
       "<table border=\"1\" class=\"dataframe\">\n",
       "  <thead>\n",
       "    <tr style=\"text-align: right;\">\n",
       "      <th></th>\n",
       "      <th></th>\n",
       "      <th></th>\n",
       "    </tr>\n",
       "    <tr>\n",
       "      <th></th>\n",
       "      <th></th>\n",
       "      <th></th>\n",
       "    </tr>\n",
       "  </thead>\n",
       "  <tbody>\n",
       "    <tr>\n",
       "      <th>Initiated</th>\n",
       "      <td>. . . . . . . . . . . . . . . . . .</td>\n",
       "      <td>20:53:40</td>\n",
       "    </tr>\n",
       "    <tr>\n",
       "      <th>Status</th>\n",
       "      <td>. . . . . . . . . . . . . . . . . .</td>\n",
       "      <td>Searching Hyperparameters</td>\n",
       "    </tr>\n",
       "    <tr>\n",
       "      <th>Estimator</th>\n",
       "      <td>. . . . . . . . . . . . . . . . . .</td>\n",
       "      <td>Light Gradient Boosting Machine</td>\n",
       "    </tr>\n",
       "  </tbody>\n",
       "</table>\n",
       "</div>"
      ],
      "text/plain": [
       "                                                \\\n",
       "                                                 \n",
       "Initiated  . . . . . . . . . . . . . . . . . .   \n",
       "Status     . . . . . . . . . . . . . . . . . .   \n",
       "Estimator  . . . . . . . . . . . . . . . . . .   \n",
       "\n",
       "                                            \n",
       "                                            \n",
       "Initiated                         20:53:40  \n",
       "Status           Searching Hyperparameters  \n",
       "Estimator  Light Gradient Boosting Machine  "
      ]
     },
     "metadata": {},
     "output_type": "display_data"
    },
    {
     "data": {
      "text/html": [],
      "text/plain": [
       "<IPython.core.display.HTML object>"
      ]
     },
     "metadata": {},
     "output_type": "display_data"
    },
    {
     "data": {
      "application/vnd.jupyter.widget-view+json": {
       "model_id": "c247f08e6fa14fdb8f5fd9f1925c31da",
       "version_major": 2,
       "version_minor": 0
      },
      "text/plain": [
       "Processing:   0%|          | 0/7 [00:00<?, ?it/s]"
      ]
     },
     "metadata": {},
     "output_type": "display_data"
    },
    {
     "ename": "KeyboardInterrupt",
     "evalue": "",
     "output_type": "error",
     "traceback": [
      "\u001b[0;31m---------------------------------------------------------------------------\u001b[0m",
      "\u001b[0;31mKeyboardInterrupt\u001b[0m                         Traceback (most recent call last)",
      "\u001b[0;32m/tmp/ipykernel_21361/1379142518.py\u001b[0m in \u001b[0;36m<cell line: 1>\u001b[0;34m()\u001b[0m\n\u001b[0;32m----> 1\u001b[0;31m \u001b[0mtuned_model\u001b[0m \u001b[0;34m=\u001b[0m \u001b[0mtune_model\u001b[0m\u001b[0;34m(\u001b[0m\u001b[0mmodel\u001b[0m\u001b[0;34m,\u001b[0m \u001b[0mn_iter\u001b[0m\u001b[0;34m=\u001b[0m\u001b[0;36m1000\u001b[0m\u001b[0;34m,\u001b[0m \u001b[0mtuner_verbose\u001b[0m\u001b[0;34m=\u001b[0m\u001b[0;32mFalse\u001b[0m\u001b[0;34m)\u001b[0m\u001b[0;31m#,return_tuner=True)\u001b[0m\u001b[0;34m\u001b[0m\u001b[0;34m\u001b[0m\u001b[0m\n\u001b[0m",
      "\u001b[0;32m~/.local/lib/python3.8/site-packages/pycaret/utils/generic.py\u001b[0m in \u001b[0;36mwrapper\u001b[0;34m(*args, **kwargs)\u001b[0m\n\u001b[1;32m    963\u001b[0m                 \u001b[0;32mif\u001b[0m \u001b[0mglobals_d\u001b[0m\u001b[0;34m[\u001b[0m\u001b[0mname\u001b[0m\u001b[0;34m]\u001b[0m \u001b[0;32mis\u001b[0m \u001b[0;32mNone\u001b[0m\u001b[0;34m:\u001b[0m\u001b[0;34m\u001b[0m\u001b[0;34m\u001b[0m\u001b[0m\n\u001b[1;32m    964\u001b[0m                     \u001b[0;32mraise\u001b[0m \u001b[0mValueError\u001b[0m\u001b[0;34m(\u001b[0m\u001b[0mmessage\u001b[0m\u001b[0;34m)\u001b[0m\u001b[0;34m\u001b[0m\u001b[0;34m\u001b[0m\u001b[0m\n\u001b[0;32m--> 965\u001b[0;31m             \u001b[0;32mreturn\u001b[0m \u001b[0mfunc\u001b[0m\u001b[0;34m(\u001b[0m\u001b[0;34m*\u001b[0m\u001b[0margs\u001b[0m\u001b[0;34m,\u001b[0m \u001b[0;34m**\u001b[0m\u001b[0mkwargs\u001b[0m\u001b[0;34m)\u001b[0m\u001b[0;34m\u001b[0m\u001b[0;34m\u001b[0m\u001b[0m\n\u001b[0m\u001b[1;32m    966\u001b[0m \u001b[0;34m\u001b[0m\u001b[0m\n\u001b[1;32m    967\u001b[0m         \u001b[0;32mreturn\u001b[0m \u001b[0mwrapper\u001b[0m\u001b[0;34m\u001b[0m\u001b[0;34m\u001b[0m\u001b[0m\n",
      "\u001b[0;32m~/.local/lib/python3.8/site-packages/pycaret/classification/functional.py\u001b[0m in \u001b[0;36mtune_model\u001b[0;34m(estimator, fold, round, n_iter, custom_grid, optimize, custom_scorer, search_library, search_algorithm, early_stopping, early_stopping_max_iters, choose_better, fit_kwargs, groups, return_tuner, verbose, tuner_verbose, return_train_score, **kwargs)\u001b[0m\n\u001b[1;32m   1214\u001b[0m     \"\"\"\n\u001b[1;32m   1215\u001b[0m \u001b[0;34m\u001b[0m\u001b[0m\n\u001b[0;32m-> 1216\u001b[0;31m     return _CURRENT_EXPERIMENT.tune_model(\n\u001b[0m\u001b[1;32m   1217\u001b[0m         \u001b[0mestimator\u001b[0m\u001b[0;34m=\u001b[0m\u001b[0mestimator\u001b[0m\u001b[0;34m,\u001b[0m\u001b[0;34m\u001b[0m\u001b[0;34m\u001b[0m\u001b[0m\n\u001b[1;32m   1218\u001b[0m         \u001b[0mfold\u001b[0m\u001b[0;34m=\u001b[0m\u001b[0mfold\u001b[0m\u001b[0;34m,\u001b[0m\u001b[0;34m\u001b[0m\u001b[0;34m\u001b[0m\u001b[0m\n",
      "\u001b[0;32m~/.local/lib/python3.8/site-packages/pycaret/classification/oop.py\u001b[0m in \u001b[0;36mtune_model\u001b[0;34m(self, estimator, fold, round, n_iter, custom_grid, optimize, custom_scorer, search_library, search_algorithm, early_stopping, early_stopping_max_iters, choose_better, fit_kwargs, groups, return_tuner, verbose, tuner_verbose, return_train_score, **kwargs)\u001b[0m\n\u001b[1;32m   1562\u001b[0m         \"\"\"\n\u001b[1;32m   1563\u001b[0m \u001b[0;34m\u001b[0m\u001b[0m\n\u001b[0;32m-> 1564\u001b[0;31m         return super().tune_model(\n\u001b[0m\u001b[1;32m   1565\u001b[0m             \u001b[0mestimator\u001b[0m\u001b[0;34m=\u001b[0m\u001b[0mestimator\u001b[0m\u001b[0;34m,\u001b[0m\u001b[0;34m\u001b[0m\u001b[0;34m\u001b[0m\u001b[0m\n\u001b[1;32m   1566\u001b[0m             \u001b[0mfold\u001b[0m\u001b[0;34m=\u001b[0m\u001b[0mfold\u001b[0m\u001b[0;34m,\u001b[0m\u001b[0;34m\u001b[0m\u001b[0;34m\u001b[0m\u001b[0m\n",
      "\u001b[0;32m~/.local/lib/python3.8/site-packages/pycaret/internal/pycaret_experiment/supervised_experiment.py\u001b[0m in \u001b[0;36mtune_model\u001b[0;34m(self, estimator, fold, round, n_iter, custom_grid, optimize, custom_scorer, search_library, search_algorithm, early_stopping, early_stopping_max_iters, choose_better, fit_kwargs, groups, return_tuner, verbose, tuner_verbose, return_train_score, **kwargs)\u001b[0m\n\u001b[1;32m   2653\u001b[0m                         \u001b[0mpycaret\u001b[0m\u001b[0;34m.\u001b[0m\u001b[0minternal\u001b[0m\u001b[0;34m.\u001b[0m\u001b[0mpatches\u001b[0m\u001b[0;34m.\u001b[0m\u001b[0msklearn\u001b[0m\u001b[0;34m.\u001b[0m\u001b[0m_mp_ParameterGrid_getitem\u001b[0m\u001b[0;34m,\u001b[0m\u001b[0;34m\u001b[0m\u001b[0;34m\u001b[0m\u001b[0m\n\u001b[1;32m   2654\u001b[0m                     ):\n\u001b[0;32m-> 2655\u001b[0;31m                         \u001b[0mmodel_grid\u001b[0m\u001b[0;34m.\u001b[0m\u001b[0mfit\u001b[0m\u001b[0;34m(\u001b[0m\u001b[0mdata_X\u001b[0m\u001b[0;34m,\u001b[0m \u001b[0mdata_y\u001b[0m\u001b[0;34m,\u001b[0m \u001b[0mgroups\u001b[0m\u001b[0;34m=\u001b[0m\u001b[0mgroups\u001b[0m\u001b[0;34m,\u001b[0m \u001b[0;34m**\u001b[0m\u001b[0mfit_kwargs\u001b[0m\u001b[0;34m)\u001b[0m\u001b[0;34m\u001b[0m\u001b[0;34m\u001b[0m\u001b[0m\n\u001b[0m\u001b[1;32m   2656\u001b[0m             \u001b[0;32melse\u001b[0m\u001b[0;34m:\u001b[0m\u001b[0;34m\u001b[0m\u001b[0;34m\u001b[0m\u001b[0m\n\u001b[1;32m   2657\u001b[0m                 \u001b[0mmodel_grid\u001b[0m\u001b[0;34m.\u001b[0m\u001b[0mfit\u001b[0m\u001b[0;34m(\u001b[0m\u001b[0mdata_X\u001b[0m\u001b[0;34m,\u001b[0m \u001b[0mdata_y\u001b[0m\u001b[0;34m,\u001b[0m \u001b[0mgroups\u001b[0m\u001b[0;34m=\u001b[0m\u001b[0mgroups\u001b[0m\u001b[0;34m,\u001b[0m \u001b[0;34m**\u001b[0m\u001b[0mfit_kwargs\u001b[0m\u001b[0;34m)\u001b[0m\u001b[0;34m\u001b[0m\u001b[0;34m\u001b[0m\u001b[0m\n",
      "\u001b[0;32m~/.local/lib/python3.8/site-packages/sklearn/model_selection/_search.py\u001b[0m in \u001b[0;36mfit\u001b[0;34m(self, X, y, groups, **fit_params)\u001b[0m\n\u001b[1;32m    872\u001b[0m                 \u001b[0;32mreturn\u001b[0m \u001b[0mresults\u001b[0m\u001b[0;34m\u001b[0m\u001b[0;34m\u001b[0m\u001b[0m\n\u001b[1;32m    873\u001b[0m \u001b[0;34m\u001b[0m\u001b[0m\n\u001b[0;32m--> 874\u001b[0;31m             \u001b[0mself\u001b[0m\u001b[0;34m.\u001b[0m\u001b[0m_run_search\u001b[0m\u001b[0;34m(\u001b[0m\u001b[0mevaluate_candidates\u001b[0m\u001b[0;34m)\u001b[0m\u001b[0;34m\u001b[0m\u001b[0;34m\u001b[0m\u001b[0m\n\u001b[0m\u001b[1;32m    875\u001b[0m \u001b[0;34m\u001b[0m\u001b[0m\n\u001b[1;32m    876\u001b[0m             \u001b[0;31m# multimetric is determined here because in the case of a callable\u001b[0m\u001b[0;34m\u001b[0m\u001b[0;34m\u001b[0m\u001b[0;34m\u001b[0m\u001b[0m\n",
      "\u001b[0;32m~/.local/lib/python3.8/site-packages/sklearn/model_selection/_search.py\u001b[0m in \u001b[0;36m_run_search\u001b[0;34m(self, evaluate_candidates)\u001b[0m\n\u001b[1;32m   1766\u001b[0m     \u001b[0;32mdef\u001b[0m \u001b[0m_run_search\u001b[0m\u001b[0;34m(\u001b[0m\u001b[0mself\u001b[0m\u001b[0;34m,\u001b[0m \u001b[0mevaluate_candidates\u001b[0m\u001b[0;34m)\u001b[0m\u001b[0;34m:\u001b[0m\u001b[0;34m\u001b[0m\u001b[0;34m\u001b[0m\u001b[0m\n\u001b[1;32m   1767\u001b[0m         \u001b[0;34m\"\"\"Search n_iter candidates from param_distributions\"\"\"\u001b[0m\u001b[0;34m\u001b[0m\u001b[0;34m\u001b[0m\u001b[0m\n\u001b[0;32m-> 1768\u001b[0;31m         evaluate_candidates(\n\u001b[0m\u001b[1;32m   1769\u001b[0m             ParameterSampler(\n\u001b[1;32m   1770\u001b[0m                 \u001b[0mself\u001b[0m\u001b[0;34m.\u001b[0m\u001b[0mparam_distributions\u001b[0m\u001b[0;34m,\u001b[0m \u001b[0mself\u001b[0m\u001b[0;34m.\u001b[0m\u001b[0mn_iter\u001b[0m\u001b[0;34m,\u001b[0m \u001b[0mrandom_state\u001b[0m\u001b[0;34m=\u001b[0m\u001b[0mself\u001b[0m\u001b[0;34m.\u001b[0m\u001b[0mrandom_state\u001b[0m\u001b[0;34m\u001b[0m\u001b[0;34m\u001b[0m\u001b[0m\n",
      "\u001b[0;32m~/.local/lib/python3.8/site-packages/sklearn/model_selection/_search.py\u001b[0m in \u001b[0;36mevaluate_candidates\u001b[0;34m(candidate_params, cv, more_results)\u001b[0m\n\u001b[1;32m    819\u001b[0m                     )\n\u001b[1;32m    820\u001b[0m \u001b[0;34m\u001b[0m\u001b[0m\n\u001b[0;32m--> 821\u001b[0;31m                 out = parallel(\n\u001b[0m\u001b[1;32m    822\u001b[0m                     delayed(_fit_and_score)(\n\u001b[1;32m    823\u001b[0m                         \u001b[0mclone\u001b[0m\u001b[0;34m(\u001b[0m\u001b[0mbase_estimator\u001b[0m\u001b[0;34m)\u001b[0m\u001b[0;34m,\u001b[0m\u001b[0;34m\u001b[0m\u001b[0;34m\u001b[0m\u001b[0m\n",
      "\u001b[0;32m~/.local/lib/python3.8/site-packages/sklearn/utils/parallel.py\u001b[0m in \u001b[0;36m__call__\u001b[0;34m(self, iterable)\u001b[0m\n\u001b[1;32m     61\u001b[0m             \u001b[0;32mfor\u001b[0m \u001b[0mdelayed_func\u001b[0m\u001b[0;34m,\u001b[0m \u001b[0margs\u001b[0m\u001b[0;34m,\u001b[0m \u001b[0mkwargs\u001b[0m \u001b[0;32min\u001b[0m \u001b[0miterable\u001b[0m\u001b[0;34m\u001b[0m\u001b[0;34m\u001b[0m\u001b[0m\n\u001b[1;32m     62\u001b[0m         )\n\u001b[0;32m---> 63\u001b[0;31m         \u001b[0;32mreturn\u001b[0m \u001b[0msuper\u001b[0m\u001b[0;34m(\u001b[0m\u001b[0;34m)\u001b[0m\u001b[0;34m.\u001b[0m\u001b[0m__call__\u001b[0m\u001b[0;34m(\u001b[0m\u001b[0miterable_with_config\u001b[0m\u001b[0;34m)\u001b[0m\u001b[0;34m\u001b[0m\u001b[0;34m\u001b[0m\u001b[0m\n\u001b[0m\u001b[1;32m     64\u001b[0m \u001b[0;34m\u001b[0m\u001b[0m\n\u001b[1;32m     65\u001b[0m \u001b[0;34m\u001b[0m\u001b[0m\n",
      "\u001b[0;32m~/.local/lib/python3.8/site-packages/joblib/parallel.py\u001b[0m in \u001b[0;36m__call__\u001b[0;34m(self, iterable)\u001b[0m\n\u001b[1;32m   1096\u001b[0m \u001b[0;34m\u001b[0m\u001b[0m\n\u001b[1;32m   1097\u001b[0m             \u001b[0;32mwith\u001b[0m \u001b[0mself\u001b[0m\u001b[0;34m.\u001b[0m\u001b[0m_backend\u001b[0m\u001b[0;34m.\u001b[0m\u001b[0mretrieval_context\u001b[0m\u001b[0;34m(\u001b[0m\u001b[0;34m)\u001b[0m\u001b[0;34m:\u001b[0m\u001b[0;34m\u001b[0m\u001b[0;34m\u001b[0m\u001b[0m\n\u001b[0;32m-> 1098\u001b[0;31m                 \u001b[0mself\u001b[0m\u001b[0;34m.\u001b[0m\u001b[0mretrieve\u001b[0m\u001b[0;34m(\u001b[0m\u001b[0;34m)\u001b[0m\u001b[0;34m\u001b[0m\u001b[0;34m\u001b[0m\u001b[0m\n\u001b[0m\u001b[1;32m   1099\u001b[0m             \u001b[0;31m# Make sure that we get a last message telling us we are done\u001b[0m\u001b[0;34m\u001b[0m\u001b[0;34m\u001b[0m\u001b[0;34m\u001b[0m\u001b[0m\n\u001b[1;32m   1100\u001b[0m             \u001b[0melapsed_time\u001b[0m \u001b[0;34m=\u001b[0m \u001b[0mtime\u001b[0m\u001b[0;34m.\u001b[0m\u001b[0mtime\u001b[0m\u001b[0;34m(\u001b[0m\u001b[0;34m)\u001b[0m \u001b[0;34m-\u001b[0m \u001b[0mself\u001b[0m\u001b[0;34m.\u001b[0m\u001b[0m_start_time\u001b[0m\u001b[0;34m\u001b[0m\u001b[0;34m\u001b[0m\u001b[0m\n",
      "\u001b[0;32m~/.local/lib/python3.8/site-packages/joblib/parallel.py\u001b[0m in \u001b[0;36mretrieve\u001b[0;34m(self)\u001b[0m\n\u001b[1;32m    973\u001b[0m             \u001b[0;32mtry\u001b[0m\u001b[0;34m:\u001b[0m\u001b[0;34m\u001b[0m\u001b[0;34m\u001b[0m\u001b[0m\n\u001b[1;32m    974\u001b[0m                 \u001b[0;32mif\u001b[0m \u001b[0mgetattr\u001b[0m\u001b[0;34m(\u001b[0m\u001b[0mself\u001b[0m\u001b[0;34m.\u001b[0m\u001b[0m_backend\u001b[0m\u001b[0;34m,\u001b[0m \u001b[0;34m'supports_timeout'\u001b[0m\u001b[0;34m,\u001b[0m \u001b[0;32mFalse\u001b[0m\u001b[0;34m)\u001b[0m\u001b[0;34m:\u001b[0m\u001b[0;34m\u001b[0m\u001b[0;34m\u001b[0m\u001b[0m\n\u001b[0;32m--> 975\u001b[0;31m                     \u001b[0mself\u001b[0m\u001b[0;34m.\u001b[0m\u001b[0m_output\u001b[0m\u001b[0;34m.\u001b[0m\u001b[0mextend\u001b[0m\u001b[0;34m(\u001b[0m\u001b[0mjob\u001b[0m\u001b[0;34m.\u001b[0m\u001b[0mget\u001b[0m\u001b[0;34m(\u001b[0m\u001b[0mtimeout\u001b[0m\u001b[0;34m=\u001b[0m\u001b[0mself\u001b[0m\u001b[0;34m.\u001b[0m\u001b[0mtimeout\u001b[0m\u001b[0;34m)\u001b[0m\u001b[0;34m)\u001b[0m\u001b[0;34m\u001b[0m\u001b[0;34m\u001b[0m\u001b[0m\n\u001b[0m\u001b[1;32m    976\u001b[0m                 \u001b[0;32melse\u001b[0m\u001b[0;34m:\u001b[0m\u001b[0;34m\u001b[0m\u001b[0;34m\u001b[0m\u001b[0m\n\u001b[1;32m    977\u001b[0m                     \u001b[0mself\u001b[0m\u001b[0;34m.\u001b[0m\u001b[0m_output\u001b[0m\u001b[0;34m.\u001b[0m\u001b[0mextend\u001b[0m\u001b[0;34m(\u001b[0m\u001b[0mjob\u001b[0m\u001b[0;34m.\u001b[0m\u001b[0mget\u001b[0m\u001b[0;34m(\u001b[0m\u001b[0;34m)\u001b[0m\u001b[0;34m)\u001b[0m\u001b[0;34m\u001b[0m\u001b[0;34m\u001b[0m\u001b[0m\n",
      "\u001b[0;32m~/.local/lib/python3.8/site-packages/joblib/_parallel_backends.py\u001b[0m in \u001b[0;36mwrap_future_result\u001b[0;34m(future, timeout)\u001b[0m\n\u001b[1;32m    565\u001b[0m         AsyncResults.get from multiprocessing.\"\"\"\n\u001b[1;32m    566\u001b[0m         \u001b[0;32mtry\u001b[0m\u001b[0;34m:\u001b[0m\u001b[0;34m\u001b[0m\u001b[0;34m\u001b[0m\u001b[0m\n\u001b[0;32m--> 567\u001b[0;31m             \u001b[0;32mreturn\u001b[0m \u001b[0mfuture\u001b[0m\u001b[0;34m.\u001b[0m\u001b[0mresult\u001b[0m\u001b[0;34m(\u001b[0m\u001b[0mtimeout\u001b[0m\u001b[0;34m=\u001b[0m\u001b[0mtimeout\u001b[0m\u001b[0;34m)\u001b[0m\u001b[0;34m\u001b[0m\u001b[0;34m\u001b[0m\u001b[0m\n\u001b[0m\u001b[1;32m    568\u001b[0m         \u001b[0;32mexcept\u001b[0m \u001b[0mCfTimeoutError\u001b[0m \u001b[0;32mas\u001b[0m \u001b[0me\u001b[0m\u001b[0;34m:\u001b[0m\u001b[0;34m\u001b[0m\u001b[0;34m\u001b[0m\u001b[0m\n\u001b[1;32m    569\u001b[0m             \u001b[0;32mraise\u001b[0m \u001b[0mTimeoutError\u001b[0m \u001b[0;32mfrom\u001b[0m \u001b[0me\u001b[0m\u001b[0;34m\u001b[0m\u001b[0;34m\u001b[0m\u001b[0m\n",
      "\u001b[0;32m/usr/lib/python3.8/concurrent/futures/_base.py\u001b[0m in \u001b[0;36mresult\u001b[0;34m(self, timeout)\u001b[0m\n\u001b[1;32m    437\u001b[0m                     \u001b[0;32mreturn\u001b[0m \u001b[0mself\u001b[0m\u001b[0;34m.\u001b[0m\u001b[0m__get_result\u001b[0m\u001b[0;34m(\u001b[0m\u001b[0;34m)\u001b[0m\u001b[0;34m\u001b[0m\u001b[0;34m\u001b[0m\u001b[0m\n\u001b[1;32m    438\u001b[0m \u001b[0;34m\u001b[0m\u001b[0m\n\u001b[0;32m--> 439\u001b[0;31m                 \u001b[0mself\u001b[0m\u001b[0;34m.\u001b[0m\u001b[0m_condition\u001b[0m\u001b[0;34m.\u001b[0m\u001b[0mwait\u001b[0m\u001b[0;34m(\u001b[0m\u001b[0mtimeout\u001b[0m\u001b[0;34m)\u001b[0m\u001b[0;34m\u001b[0m\u001b[0;34m\u001b[0m\u001b[0m\n\u001b[0m\u001b[1;32m    440\u001b[0m \u001b[0;34m\u001b[0m\u001b[0m\n\u001b[1;32m    441\u001b[0m                 \u001b[0;32mif\u001b[0m \u001b[0mself\u001b[0m\u001b[0;34m.\u001b[0m\u001b[0m_state\u001b[0m \u001b[0;32min\u001b[0m \u001b[0;34m[\u001b[0m\u001b[0mCANCELLED\u001b[0m\u001b[0;34m,\u001b[0m \u001b[0mCANCELLED_AND_NOTIFIED\u001b[0m\u001b[0;34m]\u001b[0m\u001b[0;34m:\u001b[0m\u001b[0;34m\u001b[0m\u001b[0;34m\u001b[0m\u001b[0m\n",
      "\u001b[0;32m/usr/lib/python3.8/threading.py\u001b[0m in \u001b[0;36mwait\u001b[0;34m(self, timeout)\u001b[0m\n\u001b[1;32m    300\u001b[0m         \u001b[0;32mtry\u001b[0m\u001b[0;34m:\u001b[0m    \u001b[0;31m# restore state no matter what (e.g., KeyboardInterrupt)\u001b[0m\u001b[0;34m\u001b[0m\u001b[0;34m\u001b[0m\u001b[0m\n\u001b[1;32m    301\u001b[0m             \u001b[0;32mif\u001b[0m \u001b[0mtimeout\u001b[0m \u001b[0;32mis\u001b[0m \u001b[0;32mNone\u001b[0m\u001b[0;34m:\u001b[0m\u001b[0;34m\u001b[0m\u001b[0;34m\u001b[0m\u001b[0m\n\u001b[0;32m--> 302\u001b[0;31m                 \u001b[0mwaiter\u001b[0m\u001b[0;34m.\u001b[0m\u001b[0macquire\u001b[0m\u001b[0;34m(\u001b[0m\u001b[0;34m)\u001b[0m\u001b[0;34m\u001b[0m\u001b[0;34m\u001b[0m\u001b[0m\n\u001b[0m\u001b[1;32m    303\u001b[0m                 \u001b[0mgotit\u001b[0m \u001b[0;34m=\u001b[0m \u001b[0;32mTrue\u001b[0m\u001b[0;34m\u001b[0m\u001b[0;34m\u001b[0m\u001b[0m\n\u001b[1;32m    304\u001b[0m             \u001b[0;32melse\u001b[0m\u001b[0;34m:\u001b[0m\u001b[0;34m\u001b[0m\u001b[0;34m\u001b[0m\u001b[0m\n",
      "\u001b[0;31mKeyboardInterrupt\u001b[0m: "
     ]
    }
   ],
   "source": [
    "tuned_model = tune_model(model, n_iter=1000, tuner_verbose=False)"
   ]
  },
  {
   "cell_type": "code",
   "execution_count": null,
   "id": "299207d5",
   "metadata": {},
   "outputs": [],
   "source": [
    "tuned_model_score_grid = pull()\n",
    "tuned_model_score_grid.to_csv('./TABLES/tuned_classifier_score.csv')"
   ]
  },
  {
   "cell_type": "code",
   "execution_count": null,
   "id": "79671f78",
   "metadata": {},
   "outputs": [],
   "source": [
    "#tuned classifier hyperparemeters\n",
    "tuned_model"
   ]
  },
  {
   "cell_type": "markdown",
   "id": "999cb229-1c8a-48ef-b8d4-aa30a2fd19c4",
   "metadata": {},
   "source": [
    "### Model Calibration:\n",
    "This function calibrates the probability of a given estimator using isotonic or logistic regression. The output of this function is a score grid with CV scores by fold.\n",
    "By default function uses Logistic regression model to transform probabilities.\n",
    "We chose this method to take into account the following library documentation [warning](https://pycaret.readthedocs.io/en/latest/api/classification.html#pycaret.classification.calibrate_model) and avoid overfitting. \n"
   ]
  },
  {
   "cell_type": "code",
   "execution_count": null,
   "id": "0876c26a-74f7-45df-9a42-3b6d45e200bb",
   "metadata": {},
   "outputs": [],
   "source": [
    "cal_model = calibrate_model(tuned_model)\n",
    "cal_model"
   ]
  },
  {
   "cell_type": "code",
   "execution_count": null,
   "id": "87bc1080-1900-41f8-927f-fac4a0a14ad6",
   "metadata": {},
   "outputs": [],
   "source": [
    "cal_model_metrics = pull()\n",
    "cal_model_metrics.to_csv('./TABLES/final_classifier_metrics.csv')"
   ]
  },
  {
   "cell_type": "markdown",
   "id": "96d0684b-e31d-405e-81c6-1eba92723bb7",
   "metadata": {},
   "source": [
    "### Validation"
   ]
  },
  {
   "cell_type": "markdown",
   "id": "7fca8819-129c-4ddd-8eb9-de8426821866",
   "metadata": {},
   "source": [
    "#### In this step  test data is used to evaluate the model:\n",
    "\n",
    "This function generates the label using the trained model. When data is None, it predicts label and score on the holdout set. \n",
    "\n"
   ]
  },
  {
   "cell_type": "code",
   "execution_count": null,
   "id": "af4fbc5c",
   "metadata": {},
   "outputs": [],
   "source": [
    "predictions = predict_model(cal_model);\n",
    "predictions.head()"
   ]
  },
  {
   "cell_type": "code",
   "execution_count": null,
   "id": "2b9898ee",
   "metadata": {},
   "outputs": [],
   "source": [
    "calibrated_model_predictions_score = pull()"
   ]
  },
  {
   "cell_type": "markdown",
   "id": "710147e5-c5da-4c41-a094-88094e1a7874",
   "metadata": {},
   "source": [
    "#### Final training iteration with all available data (80% training + 20% testing)\n",
    "\n",
    "This function trains a given model on the entire dataset including the hold-out set."
   ]
  },
  {
   "cell_type": "code",
   "execution_count": null,
   "id": "774c69ab",
   "metadata": {},
   "outputs": [],
   "source": [
    "final_model = finalize_model(cal_model)# Final training iteration with all available data\n"
   ]
  },
  {
   "cell_type": "markdown",
   "id": "8ca8c7ce",
   "metadata": {},
   "source": [
    "### Validation on VS1 and VS2 \n",
    "We have used VS1 and VS2 as final validation filters. Remember that these subsets have not been used to train the model. \n",
    "\n",
    "We first evaluate the subset containing synthetic data VS2 and finally the original data VS1. We want to compare the performance of the model on these two subsets and identify possible overfitting when predicting synthetic data.\n"
   ]
  },
  {
   "cell_type": "markdown",
   "id": "2eb3b50e-21b1-4625-bdcc-eece9bcad25c",
   "metadata": {},
   "source": [
    "#### Model evaluation on VS2\n"
   ]
  },
  {
   "cell_type": "code",
   "execution_count": null,
   "id": "135ad04c",
   "metadata": {},
   "outputs": [],
   "source": [
    "vs2_for_pred = vs2.drop(['target'], axis=1)\n",
    "vs2_predictions = predict_model(final_model, vs2_for_pred)\n",
    "vs2_predictions['target'] = vs2['target']\n",
    "\n",
    "y_true_vs2 = vs2_predictions['target']\n",
    "y_pred_vs2 = vs2_predictions['prediction_label']\n",
    "class_rep_vs2 = pd.DataFrame(classification_report(y_true_vs2, y_pred_vs2, output_dict=True)).T\n",
    "vs2_predictions.to_csv('./intermediate_data/predictions_vs2.csv')\n",
    "class_rep_vs2.to_csv('./TABLES/classification_report_vs2.csv')\n",
    "\n",
    "class_rep_vs2"
   ]
  },
  {
   "cell_type": "markdown",
   "id": "07d266d7",
   "metadata": {},
   "source": [
    "#### Model evaluation using VS1"
   ]
  },
  {
   "cell_type": "code",
   "execution_count": null,
   "id": "5a9c5875",
   "metadata": {},
   "outputs": [],
   "source": [
    "vs1_predictions = predict_model(final_model, data=vs1)\n",
    "\n",
    "vs1_for_pred = vs1.drop(['target'], axis=1)\n",
    "\n",
    "vs1_predictions = predict_model(final_model, vs1_for_pred)\n",
    "vs1_predictions['target'] = vs1['target']\n",
    "#metrics for vs1\n",
    "y_true_vs1 = vs1_predictions['target']\n",
    "y_pred_vs1 = vs1_predictions['prediction_label']\n",
    "class_rep_vs1 = pd.DataFrame(classification_report(y_true_vs1, y_pred_vs1, output_dict=True)).T\n",
    "\n",
    "vs1_predictions.to_csv('./intermediate_data/predictions_vs1.csv')\n",
    "class_rep_vs1.to_csv('./TABLES/classification_report_vs1.csv')\n",
    "class_rep_vs1\n"
   ]
  },
  {
   "cell_type": "code",
   "execution_count": null,
   "id": "0dc8ebe4",
   "metadata": {},
   "outputs": [],
   "source": [
    "evaluate_model(final_model, plot_kwargs ={'classes' : get_config('pipeline').steps[0][1].transformer.classes_})"
   ]
  },
  {
   "cell_type": "code",
   "execution_count": null,
   "id": "e77dc656",
   "metadata": {},
   "outputs": [],
   "source": [
    "final_model_parameters = pull()\n",
    "final_model_parameters.to_csv('./TABLES/final_classifier_parameters.csv')"
   ]
  },
  {
   "cell_type": "markdown",
   "id": "41e619f3-1ca2-4b00-ba35-8ab92a3979e7",
   "metadata": {},
   "source": [
    "### Save the Model\n",
    "This function saves the transformation pipeline and trained model object into the current working directory as a pickle file for later use."
   ]
  },
  {
   "cell_type": "code",
   "execution_count": null,
   "id": "abf28a82",
   "metadata": {},
   "outputs": [],
   "source": [
    "\n",
    "save_model(final_model, model_name = './intermediate_data/classifier',verbose=True)\n"
   ]
  },
  {
   "cell_type": "markdown",
   "id": "d6dfe62c-efdd-41f8-80ae-9ae04167ad0d",
   "metadata": {},
   "source": [
    "### Conclusion:\n",
    "\n",
    "We have developed a pipeline to pre-process a dataset, train and evaluate different models, select the best one for tuning, calibration and validation on reserved data (vs1 and vs2). Finally, the model has been saved for later use. [Here](MACLAS.ipynb) you can use the pre-trained model for predict on new data."
   ]
  }
 ],
 "metadata": {
  "kernelspec": {
   "display_name": "Python 3 (ipykernel)",
   "language": "python",
   "name": "python3"
  },
  "language_info": {
   "codemirror_mode": {
    "name": "ipython",
    "version": 3
   },
   "file_extension": ".py",
   "mimetype": "text/x-python",
   "name": "python",
   "nbconvert_exporter": "python",
   "pygments_lexer": "ipython3",
   "version": "3.8.10"
  }
 },
 "nbformat": 4,
 "nbformat_minor": 5
}

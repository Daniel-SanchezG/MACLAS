{
 "cells": [
  {
   "cell_type": "code",
   "execution_count": null,
   "id": "93e0d82c-08c4-4fb4-bc30-898b8c3e2d12",
   "metadata": {},
   "outputs": [],
   "source": [
    "from pycaret.classification import *\n",
    "\n",
    "import pandas as pd\n",
    "import numpy as np\n",
    "import re"
   ]
  },
  {
   "cell_type": "markdown",
   "id": "bc8cdd70-7290-4ba3-97b6-bb9da7559e17",
   "metadata": {},
   "source": [
    "### Load your Data"
   ]
  },
  {
   "cell_type": "code",
   "execution_count": null,
   "id": "5a586b3a-6ad8-4331-8dea-0b0126f9cc87",
   "metadata": {},
   "outputs": [],
   "source": [
    "df = pd.read_csv(\"./your_directory/your_data.csv\")\n"
   ]
  },
  {
   "cell_type": "markdown",
   "id": "e8ec8514-e3f2-42ab-9096-22baf33f10a0",
   "metadata": {},
   "source": [
    "## Inspect your data. Predictors must contain only float values and be formatted in atomic percentages."
   ]
  },
  {
   "cell_type": "code",
   "execution_count": null,
   "id": "b6d76237-919a-4a08-975e-b61f5a0920cd",
   "metadata": {},
   "outputs": [],
   "source": [
    "df.info(verbose=True, null_counts=True)"
   ]
  },
  {
   "cell_type": "code",
   "execution_count": null,
   "id": "22d38213-99d1-42bc-af3d-50e32072073c",
   "metadata": {},
   "outputs": [],
   "source": [
    "MODEL_NAMES = {\n",
    "    'model1': 'strunz_classifier',\n",
    "    'model2': 'classifier'\n",
    "}\n",
    "\n",
    "def prediction_function(df, model_key):\n",
    "    \"\"\"\n",
    "    This function performs the following operations:\n",
    "    * Loads the specified pre-trained model\n",
    "    * Performs the probability prediction on the dataframe (df).\n",
    "    * Filters the columns containing the word 'Score' for output formatting purposes\n",
    "    * Selects the three highest probabilities, sorts them in descending order and presents them in a new column.\n",
    "    * Finally it returns the dataframe with two new columns of results 'Label' and 'top_3 Probs'.\n",
    "    \"\"\"\n",
    "    \n",
    "    model = load_model(MODEL_NAMES[model_key])\n",
    "    pred_prob = predict_model(estimator=model, data=df, raw_score=True)\n",
    "    \n",
    "    selected = [] \n",
    "    patron = re.compile('.*Score.*', re.IGNORECASE)\n",
    "    \n",
    "    for columna in pred_prob.columns:\n",
    "        if patron.match(columna):\n",
    "            selected.append(columna)\n",
    "    \n",
    "    def select_top_three_cols(row):\n",
    "        top_three_cols = row.nlargest(3)\n",
    "        top_three_cols_dict = dict(zip(top_three_cols.index, top_three_cols))\n",
    "        return top_three_cols_dict\n",
    "    \n",
    "    top_three_cols = pred_prob[selected].apply(select_top_three_cols, axis=1)\n",
    "    pred_prob['top_3_probs'] = top_three_cols\n",
    "    \n",
    "    pred_prob = pred_prob.drop(pred_prob[selected].columns, axis=1)\n",
    "     \n",
    "    return pred_prob\n",
    "    "
   ]
  },
  {
   "cell_type": "markdown",
   "id": "f7cbf538-42c4-47b2-8ff1-48ef1fed090b",
   "metadata": {},
   "source": [
    "Here a small adjustment is necessary as we are going to use the prediction function twice using the two different models. We must rename the output columns to avoid confusion. "
   ]
  },
  {
   "cell_type": "code",
   "execution_count": null,
   "id": "206f59b0-6c2c-4884-ad31-23d2b341c982",
   "metadata": {},
   "outputs": [],
   "source": [
    "# Model 1\n",
    "preds = prediction_function(df, 'model1')\n",
    "preds.rename(columns={'prediction_label': 'Predicted_strunz', 'top_3_probs': 'top_3_probs_strunz'}, inplace=True)\n",
    "preds_model1 = preds.drop(['top_3_probs_strunz'], axis=1)"
   ]
  },
  {
   "cell_type": "code",
   "execution_count": null,
   "id": "5621b7ab-3da5-48de-84a6-1263e12ca669",
   "metadata": {},
   "outputs": [],
   "source": [
    "# Model 2\n",
    "preds2 = prediction_function(preds_model1, 'model2')\n",
    "preds2['top_3_probs_strunz'] = preds['top_3_probs_strunz']\n",
    "preds2.head()"
   ]
  },
  {
   "cell_type": "markdown",
   "id": "f5dcc5fd-e571-4561-9f09-179e2dec6a97",
   "metadata": {},
   "source": [
    "### Save your predictions for download"
   ]
  },
  {
   "cell_type": "code",
   "execution_count": null,
   "id": "759cd47a-0e76-4c6b-904a-479872e5dedc",
   "metadata": {},
   "outputs": [],
   "source": [
    "#preds.to_csv(\"./intermediate_DATA/evaluation_DATA/predictions_realw_mspeciesF4_20230810.csv\") \n",
    "preds.to_csv(\"./intermediate_data/your_predictions.csv\") #rename if neccesary"
   ]
  }
 ],
 "metadata": {
  "kernelspec": {
   "display_name": "Python 3 (ipykernel)",
   "language": "python",
   "name": "python3"
  },
  "language_info": {
   "codemirror_mode": {
    "name": "ipython",
    "version": 3
   },
   "file_extension": ".py",
   "mimetype": "text/x-python",
   "name": "python",
   "nbconvert_exporter": "python",
   "pygments_lexer": "ipython3",
   "version": "3.8.10"
  }
 },
 "nbformat": 4,
 "nbformat_minor": 5
}

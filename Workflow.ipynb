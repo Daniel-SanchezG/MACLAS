{
 "cells": [
  {
   "cell_type": "markdown",
   "id": "54184b58",
   "metadata": {},
   "source": [
    "# A Supervised Multiclass Classification Model for mineral identification of prehistoric personal adornments in Iberia"
   ]
  },
  {
   "cell_type": "markdown",
   "id": "eac15f67",
   "metadata": {},
   "source": [
    "**The notebooks in this directory demonstrate the development and application of  a [\"supervised multiclass model for mineral classification of prehistoric personal adornments in Iberia\"](link_to_paper). You can reproduce the whole process, train different models and test their performance or skip the process and use the pre-trained model on your own data**\n",
    "\n",
    "**this pipeline contains the following Notebooks:**\n",
    "\n",
    "---\n",
    "\n",
    "**1. [Model development](./Model_development.ipynb):** We perform a serie of preprocess techniques and train and test different classification models using the built dataset.\n",
    "\n",
    "**2. [Proof-of-concept](./Prediction_function.ipynb):** This notebook presents a real-world test to evaluate the generalization capacity of the model on a set of 20 archaeological samples from two different sites in Portugal. \n",
    "\n",
    "**3.[MACLAS Model](./MACLAS.ipynb):** This notebook allows the use of the pre-trained model on new data.\n",
    "\n"
   ]
  },
  {
   "cell_type": "markdown",
   "id": "ad9417cb",
   "metadata": {},
   "source": [
    "## Introduction"
   ]
  },
  {
   "cell_type": "markdown",
   "id": "b966f63e",
   "metadata": {},
   "source": [
    "<div style=\"text-align: justify\"> The study of personal adornments (beads, pendants, or charms) has proven important for understanding the emergence of social complexity in the past. In this sense, reliable identification of materials is essential to obtain information on material flows between sources and destinations, to model provenance and exchange networks, and to better understand technological knowledge, symbolic signalling and social interactions. Therefore, a combination of spectroscopic techniques is necessary to obtain complementary elemental and molecular information, however, many of these methods require the borrowing of materials to perform specific analyses using large infrastructure, which is a complicated and expensive process. Therefore, collecting empirical data is challenging.\n",
    "</div>\n",
    " "
   ]
  },
  {
   "cell_type": "markdown",
   "id": "2d17160c",
   "metadata": {},
   "source": [
    "In the last decades, we have analyzed thousands of beads by pXRF and, when possible, by XRD, creating by far the largest elemental and mineralogical dataset on personal adornment at the European level ([DOI](https://zenodo.org/deposit/8268679)). This has been used to investigate a supervised machine learning approach to mineral classification based on the cheapest and most widely used technology currently available, pXRF, thus avoiding the borrowing of beads from museums, the risks and costs associated with transporting them to laboratories, and the added costs of using large infrastructures."
   ]
  },
  {
   "cell_type": "markdown",
   "id": "08fb8464",
   "metadata": {},
   "source": [
    "### Goal\n",
    "To present the development pipeline of a supervised multi-class machine learning model for mineral classification of archaeological beads. \n",
    "\n",
    "**Run the following notebooks and explore how we developed and applied a Mineral Archaeological CLAssification System (MACLAS).**"
   ]
  },
  {
   "cell_type": "markdown",
   "id": "4f1bb341",
   "metadata": {},
   "source": [
    "### 1. Model development"
   ]
  },
  {
   "cell_type": "markdown",
   "id": "aa3fcf7d",
   "metadata": {},
   "source": [
    "\n",
    "Run the following notebook to fit a machine learning model on a training set and evaluate its performance on two validation sets.\n"
   ]
  },
  {
   "cell_type": "markdown",
   "id": "b7ad7a93",
   "metadata": {},
   "source": [
    "[2-ModelDevelopment.ipynb](./Model_development.ipynb)"
   ]
  },
  {
   "cell_type": "markdown",
   "id": "b1302edf",
   "metadata": {},
   "source": [
    "This notebook saves the  trained classifier in: `./intermediate_Data/classifier`."
   ]
  },
  {
   "cell_type": "markdown",
   "id": "3f3c95c7",
   "metadata": {},
   "source": [
    "### 2. Proof-of-Concept"
   ]
  },
  {
   "cell_type": "markdown",
   "id": "dc6d9f52",
   "metadata": {},
   "source": [
    "The trained classifier is used to perform a proof-of-work on a small real world dataset from Spain."
   ]
  },
  {
   "cell_type": "markdown",
   "id": "fb98273d",
   "metadata": {},
   "source": [
    "[proof-of-concept.ipynb](./Prediction_function.ipynb)"
   ]
  },
  {
   "cell_type": "markdown",
   "id": "68795727",
   "metadata": {},
   "source": [
    "This notebook saves the classification model in the file `./intermediate_Data/classifier`."
   ]
  },
  {
   "cell_type": "markdown",
   "id": "4df85629",
   "metadata": {},
   "source": [
    "### 3. Predict"
   ]
  },
  {
   "cell_type": "markdown",
   "id": "f7aa4dc8",
   "metadata": {},
   "source": [
    "[3-MACLAS.ipynb](./MACLAS.ipynb)"
   ]
  },
  {
   "cell_type": "markdown",
   "id": "83d24459",
   "metadata": {},
   "source": [
    "This notebook allows the use of the pre-trained model on new data."
   ]
  },
  {
   "cell_type": "markdown",
   "id": "987bf32e",
   "metadata": {},
   "source": [
    "---\n",
    "\n",
    "Software, operating system, and hardware information.\n",
    "\n",
    "---"
   ]
  },
  {
   "cell_type": "code",
   "execution_count": 4,
   "id": "0aa43a49",
   "metadata": {
    "tags": []
   },
   "outputs": [
    {
     "name": "stdout",
     "output_type": "stream",
     "text": [
      "The watermark extension is already loaded. To reload it, use:\n",
      "  %reload_ext watermark\n",
      "Python implementation: CPython\n",
      "Python version       : 3.8.10\n",
      "IPython version      : 7.34.0\n",
      "\n",
      "ipywidgets: 7.7.5\n",
      "matplotlib: 3.6.3\n",
      "numpy     : 1.23.5\n",
      "pandas    : 1.4.4\n",
      "sklearn   : 1.2.2\n",
      "pycaret   : 3.0.4\n",
      "jupyterlab: 3.6.1\n",
      "\n",
      "Compiler    : GCC 9.4.0\n",
      "OS          : Linux\n",
      "Release     : 5.15.0-78-generic\n",
      "Machine     : x86_64\n",
      "Processor   : x86_64\n",
      "CPU cores   : 4\n",
      "Architecture: 64bit\n",
      "\n"
     ]
    }
   ],
   "source": [
    "%load_ext watermark\n",
    "%watermark -v -m -p ipywidgets,matplotlib,numpy,pandas,sklearn,pycaret,jupyterlab"
   ]
  },
  {
   "cell_type": "markdown",
   "id": "02e1d1c6",
   "metadata": {},
   "source": [
    "---\n",
    "\n",
    "**Authors:** [Daniel Sanchez-Gomez](mailto:daniel-sanchez-gomez@edu.ulisboa.pt), Carlos P. Odriozola, Ana Caterina Sousa, Galo Romero-García, José Angel Garrido-Cordero University of Lisbon, University of Seville Algun dia, 2023\n",
    "\n",
    "---"
   ]
  }
 ],
 "metadata": {
  "kernelspec": {
   "display_name": "Python 3 (ipykernel)",
   "language": "python",
   "name": "python3"
  },
  "language_info": {
   "codemirror_mode": {
    "name": "ipython",
    "version": 3
   },
   "file_extension": ".py",
   "mimetype": "text/x-python",
   "name": "python",
   "nbconvert_exporter": "python",
   "pygments_lexer": "ipython3",
   "version": "3.8.10"
  }
 },
 "nbformat": 4,
 "nbformat_minor": 5
}
